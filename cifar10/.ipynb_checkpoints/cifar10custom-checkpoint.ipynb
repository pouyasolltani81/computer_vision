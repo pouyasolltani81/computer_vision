{
 "cells": [
  {
   "cell_type": "code",
   "execution_count": 2,
   "id": "5d2b75c6-4795-4102-bd62-3576f3d5e059",
   "metadata": {
    "tags": []
   },
   "outputs": [
    {
     "name": "stdout",
     "output_type": "stream",
     "text": [
      "2.2.0\n"
     ]
    }
   ],
   "source": [
    "import torch\n",
    "print(torch.__version__)"
   ]
  },
  {
   "cell_type": "code",
   "execution_count": 4,
   "id": "aa652e12-11bd-45e7-9921-122445e04b89",
   "metadata": {
    "tags": []
   },
   "outputs": [
    {
     "name": "stdout",
     "output_type": "stream",
     "text": [
      "2.2.0\n",
      "0.17.0\n"
     ]
    }
   ],
   "source": [
    "import torch\n",
    "from torch import nn\n",
    "import torchvision\n",
    "from torchvision import datasets\n",
    "from torchvision import transforms\n",
    "from torchvision.transforms import ToTensor\n",
    "from torchvision import datasets\n",
    "import matplotlib.pyplot as plt\n",
    "from torch.utils.data import DataLoader\n",
    "from torchinfo import summary\n",
    "import torch.optim.lr_scheduler as lr_scheduler\n",
    "from tqdm.auto import tqdm\n",
    "from pathlib import Path\n",
    "import random\n",
    "from timeit import default_timer as timer\n",
    "\n",
    "from sklearn.metrics import ConfusionMatrixDisplay\n",
    "from sklearn.metrics import confusion_matrix\n",
    "from helper_functions import plot_loss_curves\n",
    "print(torch.__version__)\n",
    "print(torchvision.__version__)"
   ]
  },
  {
   "cell_type": "code",
   "execution_count": 6,
   "id": "22f64d16-eed5-485d-91c2-9ab2b9ae7a8d",
   "metadata": {
    "tags": []
   },
   "outputs": [],
   "source": [
    "torch.cuda.is_available()\n",
    "device = \"cuda\""
   ]
  },
  {
   "cell_type": "code",
   "execution_count": 43,
   "id": "e32387d2-e590-4850-b5be-4acb14969702",
   "metadata": {
    "tags": []
   },
   "outputs": [
    {
     "name": "stdout",
     "output_type": "stream",
     "text": [
      "Requirement already satisfied: scikit-learn in e:\\araconda\\lib\\site-packages (1.1.1)\n",
      "Requirement already satisfied: scipy>=1.3.2 in e:\\araconda\\lib\\site-packages (from scikit-learn) (1.11.4)\n",
      "Requirement already satisfied: numpy>=1.17.3 in c:\\users\\pouya\\appdata\\roaming\\python\\python310\\site-packages (from scikit-learn) (1.26.2)\n",
      "Collecting joblib>=1.0.0\n",
      "  Using cached joblib-1.3.2-py3-none-any.whl (302 kB)\n",
      "Collecting threadpoolctl>=2.0.0\n",
      "  Using cached threadpoolctl-3.2.0-py3-none-any.whl (15 kB)\n",
      "Installing collected packages: threadpoolctl, joblib\n",
      "Successfully installed joblib-1.3.2 threadpoolctl-3.2.0\n"
     ]
    },
    {
     "name": "stderr",
     "output_type": "stream",
     "text": [
      "WARNING: Ignoring invalid distribution -illow (e:\\araconda\\lib\\site-packages)\n",
      "WARNING: Ignoring invalid distribution -illow (e:\\araconda\\lib\\site-packages)\n",
      "WARNING: Ignoring invalid distribution -illow (e:\\araconda\\lib\\site-packages)\n",
      "WARNING: Ignoring invalid distribution -illow (e:\\araconda\\lib\\site-packages)\n",
      "WARNING: Ignoring invalid distribution -illow (e:\\araconda\\lib\\site-packages)\n",
      "WARNING: Ignoring invalid distribution -illow (e:\\araconda\\lib\\site-packages)\n",
      "WARNING: Ignoring invalid distribution -illow (e:\\araconda\\lib\\site-packages)\n",
      "WARNING: Ignoring invalid distribution -illow (e:\\araconda\\lib\\site-packages)\n"
     ]
    }
   ],
   "source": [
    "!pip install scikit-learn"
   ]
  },
  {
   "cell_type": "code",
   "execution_count": 17,
   "id": "ac135812-23f3-438c-8e6c-0db22cabaf6e",
   "metadata": {
    "tags": []
   },
   "outputs": [
    {
     "name": "stdout",
     "output_type": "stream",
     "text": [
      "Files already downloaded and verified\n",
      "Files already downloaded and verified\n",
      "Files already downloaded and verified\n"
     ]
    }
   ],
   "source": [
    "# set up training data\n",
    "stats = ((0.4914, 0.4822, 0.4465), (0.2023, 0.1994, 0.2010))\n",
    "data_transform_train = transforms.Compose([\n",
    "    # transforms.TrivialAugmentWide(num_magnitude_bins=31),\n",
    "    transforms.RandomCrop(32, padding=4, padding_mode='reflect'),\n",
    "    transforms.RandomHorizontalFlip(p=0.5),\n",
    "    transforms.ToTensor(),\n",
    "    transforms.Normalize(*stats,inplace=True)\n",
    "])\n",
    "\n",
    "data_transform_test = transforms.Compose([\n",
    "    transforms.ToTensor(),\n",
    "    transforms.Normalize(*stats)\n",
    "])\n",
    "\n",
    "train_data = datasets.CIFAR10(root=\"Tdata\",train=True,download=True,\n",
    "                                  transform = data_transform_train,\n",
    "                                  target_transform = None)\n",
    "\n",
    "test_data = datasets.CIFAR10(root=\"Tdata\",train=False,download=True,\n",
    "                                  transform =data_transform_test,\n",
    "                                  target_transform = None)\n",
    "\n",
    "test_data_normal = datasets.CIFAR10(root=\"Tdata\",train=False,download=True,\n",
    "                                  target_transform = None)"
   ]
  },
  {
   "cell_type": "code",
   "execution_count": 19,
   "id": "3523076e-6b5a-41f1-9d1a-b7739ed0f1ad",
   "metadata": {
    "tags": []
   },
   "outputs": [
    {
     "data": {
      "text/plain": [
       "(10000, 50000)"
      ]
     },
     "execution_count": 19,
     "metadata": {},
     "output_type": "execute_result"
    }
   ],
   "source": [
    "len(test_data),len(train_data)"
   ]
  },
  {
   "cell_type": "code",
   "execution_count": 21,
   "id": "02270a25-2a8e-4ef9-bed0-83c182d6501e",
   "metadata": {
    "tags": []
   },
   "outputs": [],
   "source": [
    "image , label = train_data[0]\n",
    "class_names = train_data.classes\n",
    "class_to_idx = train_data.class_to_idx"
   ]
  },
  {
   "cell_type": "code",
   "execution_count": 20,
   "id": "567516ae-e0b0-46aa-bef5-25a0f22dc086",
   "metadata": {
    "tags": []
   },
   "outputs": [
    {
     "name": "stdout",
     "output_type": "stream",
     "text": [
      "image shape: torch.Size([3, 32, 32])\n"
     ]
    },
    {
     "name": "stderr",
     "output_type": "stream",
     "text": [
      "Clipping input data to the valid range for imshow with RGB data ([0..1] for floats or [0..255] for integers).\n",
      "Clipping input data to the valid range for imshow with RGB data ([0..1] for floats or [0..255] for integers).\n",
      "Clipping input data to the valid range for imshow with RGB data ([0..1] for floats or [0..255] for integers).\n",
      "Clipping input data to the valid range for imshow with RGB data ([0..1] for floats or [0..255] for integers).\n",
      "Clipping input data to the valid range for imshow with RGB data ([0..1] for floats or [0..255] for integers).\n",
      "Clipping input data to the valid range for imshow with RGB data ([0..1] for floats or [0..255] for integers).\n",
      "Clipping input data to the valid range for imshow with RGB data ([0..1] for floats or [0..255] for integers).\n",
      "Clipping input data to the valid range for imshow with RGB data ([0..1] for floats or [0..255] for integers).\n",
      "Clipping input data to the valid range for imshow with RGB data ([0..1] for floats or [0..255] for integers).\n",
      "Clipping input data to the valid range for imshow with RGB data ([0..1] for floats or [0..255] for integers).\n",
      "Clipping input data to the valid range for imshow with RGB data ([0..1] for floats or [0..255] for integers).\n",
      "Clipping input data to the valid range for imshow with RGB data ([0..1] for floats or [0..255] for integers).\n",
      "Clipping input data to the valid range for imshow with RGB data ([0..1] for floats or [0..255] for integers).\n",
      "Clipping input data to the valid range for imshow with RGB data ([0..1] for floats or [0..255] for integers).\n",
      "Clipping input data to the valid range for imshow with RGB data ([0..1] for floats or [0..255] for integers).\n",
      "Clipping input data to the valid range for imshow with RGB data ([0..1] for floats or [0..255] for integers).\n"
     ]
    },
    {
     "data": {
      "image/png": "[encoded data removed]",
      "text/plain": [
       "<Figure size 900x900 with 16 Axes>"
      ]
     },
     "metadata": {},
     "output_type": "display_data"
    }
   ],
   "source": [
    "image , label = train_data[0]\n",
    "print(f\"image shape: {image.shape}\")\n",
    "\n",
    "fig = plt.figure(figsize=(9,9))\n",
    "rows, cols = 4, 4\n",
    "for i in range(1, rows*cols+1):\n",
    "    random_idx = torch.randint(0,len(train_data),size=[1]).item()\n",
    "    img, label = train_data[random_idx]\n",
    "    fig.add_subplot(rows ,cols ,i)\n",
    "    plt.imshow(img.permute(1,2,0).squeeze())\n",
    "    plt.title(class_names[label])\n",
    "    plt.axis(False);"
   ]
  },
  {
   "cell_type": "code",
   "execution_count": 23,
   "id": "710e1a1c-9da9-4a4e-ac0e-2786fef61b12",
   "metadata": {
    "tags": []
   },
   "outputs": [
    {
     "data": {
      "text/plain": [
       "(500, 100)"
      ]
     },
     "execution_count": 23,
     "metadata": {},
     "output_type": "execute_result"
    }
   ],
   "source": [
    "\n",
    "#set up the bach size hyper parameter\n",
    "BATCH_SIZE = 100\n",
    "\n",
    "# TURN DATA SETS INTO ITERABLES (BATCHES)\n",
    "\n",
    "train_dataloader = DataLoader(dataset  = train_data,\n",
    "                             batch_size=BATCH_SIZE,\n",
    "                             shuffle=True)\n",
    "\n",
    "test_dataloader = DataLoader(dataset  = test_data,\n",
    "                             batch_size=BATCH_SIZE,\n",
    "                             shuffle=False)\n",
    "\n",
    "len(train_dataloader) , len(test_dataloader)"
   ]
  },
  {
   "cell_type": "code",
   "execution_count": 25,
   "id": "a204a623-51f1-4baf-96f8-d594b45d2301",
   "metadata": {
    "tags": []
   },
   "outputs": [],
   "source": [
    "class TinyVGG(nn.Module):\n",
    "    \"\"\"\n",
    "    Model architecture that replicate the tinyvgg\n",
    "    model from cnn explaner website.\n",
    "    \"\"\"\n",
    "    def __init__(self, input_shape:int, hidden_units: int , output_shape : int):\n",
    "        super().__init__()\n",
    "        self.conv_block_1 = nn.Sequential(\n",
    "        # creat a conv layer\n",
    "        nn.Conv2d(in_channels= input_shape,\n",
    "                 out_channels= hidden_units,\n",
    "                 kernel_size=3,\n",
    "                 stride = 1,\n",
    "                 padding=1),\n",
    "            nn.ReLU(),\n",
    "            \n",
    "            nn.Conv2d(in_channels= hidden_units,\n",
    "                 out_channels= hidden_units,\n",
    "                 kernel_size=3,\n",
    "                 stride = 1,\n",
    "                 padding=1),\n",
    "            nn.ReLU(),\n",
    "            \n",
    "            nn.MaxPool2d(kernel_size=2)\n",
    "        )\n",
    "        \n",
    "        self.conv_block_2= nn.Sequential(\n",
    "            nn.Conv2d(in_channels= hidden_units,\n",
    "                     out_channels= hidden_units,\n",
    "                     kernel_size=3,\n",
    "                     stride=1,\n",
    "                     padding=1),\n",
    "            nn.ReLU(),\n",
    "            \n",
    "            nn.Conv2d(in_channels= hidden_units,\n",
    "                     out_channels= hidden_units,\n",
    "                     kernel_size=3,\n",
    "                     stride=1,\n",
    "                     padding=1),\n",
    "            nn.ReLU(),\n",
    "            \n",
    "            nn.MaxPool2d(kernel_size=2)        \n",
    "        )\n",
    "        \n",
    "        \n",
    "        self.classifier = nn.Sequential(\n",
    "            nn.Flatten(),\n",
    "            nn.Linear(in_features=hidden_units*64,\n",
    "                     out_features=  output_shape)\n",
    "        )\n",
    "        \n",
    "    def forward(self,x):\n",
    "        \n",
    "        return self.classifier(self.conv_block_2(self.conv_block_1(x)))\n",
    "        \n",
    "        "
   ]
  },
  {
   "cell_type": "code",
   "execution_count": 27,
   "id": "1daf0385-3344-48a4-b0d0-f5c55dc3b6a1",
   "metadata": {
    "tags": []
   },
   "outputs": [],
   "source": [
    "class TinyVGGV2(nn.Module):\n",
    "    \"\"\"\n",
    "    Model architecture that replicate the tinyvgg\n",
    "    model from cnn explaner website.\n",
    "    \"\"\"\n",
    "    def __init__(self, input_shape:int, hidden_units: int , output_shape : int):\n",
    "        super().__init__()\n",
    "        self.conv_block_1 = nn.Sequential(\n",
    "        # creat a conv layer\n",
    "            nn.Conv2d(in_channels= input_shape,\n",
    "                 out_channels= hidden_units,\n",
    "                 kernel_size=3,\n",
    "                 stride = 1,\n",
    "                 padding=1),\n",
    "            nn.ReLU(),\n",
    "            \n",
    "            nn.Conv2d(in_channels= hidden_units,\n",
    "                 out_channels= hidden_units,\n",
    "                 kernel_size=3,\n",
    "                 stride = 1,\n",
    "                 padding=1),\n",
    "            nn.ReLU(),\n",
    "            nn.MaxPool2d(kernel_size=2),     \n",
    "            \n",
    "            \n",
    "        )\n",
    "        \n",
    "        self.conv_block_2= nn.Sequential(\n",
    "            nn.Conv2d(in_channels= hidden_units,\n",
    "                     out_channels= hidden_units,\n",
    "                     kernel_size=3,\n",
    "                     stride=1,\n",
    "                     padding=1),\n",
    "            nn.ReLU(),\n",
    "            \n",
    "            nn.Conv2d(in_channels= hidden_units,\n",
    "                     out_channels= hidden_units,\n",
    "                     kernel_size=3,\n",
    "                     stride=1,\n",
    "                     padding=1),\n",
    "            nn.ReLU(),\n",
    "            \n",
    "            \n",
    "            \n",
    "            \n",
    "            nn.Conv2d(in_channels= hidden_units,\n",
    "                     out_channels= hidden_units,\n",
    "                     kernel_size=3,\n",
    "                     stride=1,\n",
    "                     padding=1),\n",
    "            nn.ReLU(),\n",
    "            \n",
    "            nn.Conv2d(in_channels= hidden_units,\n",
    "                     out_channels= hidden_units,\n",
    "                     kernel_size=3,\n",
    "                     stride=1,\n",
    "                     padding=1),\n",
    "            nn.ReLU(),\n",
    "            \n",
    "                \n",
    "            \n",
    "            \n",
    "            nn.Conv2d(in_channels= hidden_units,\n",
    "                     out_channels= hidden_units,\n",
    "                     kernel_size=3,\n",
    "                     stride=1,\n",
    "                     padding=1),\n",
    "            nn.ReLU(),\n",
    "            \n",
    "            nn.Conv2d(in_channels= hidden_units,\n",
    "                     out_channels= hidden_units,\n",
    "                     kernel_size=3,\n",
    "                     stride=1,\n",
    "                     padding=1),\n",
    "            nn.ReLU(),\n",
    "            \n",
    "                \n",
    "            nn.MaxPool2d(kernel_size=2), \n",
    "            \n",
    "            nn.Conv2d(in_channels= hidden_units,\n",
    "                     out_channels= hidden_units,\n",
    "                     kernel_size=3,\n",
    "                     stride=1,\n",
    "                     padding=1),\n",
    "            nn.ReLU(),\n",
    "            \n",
    "            nn.Conv2d(in_channels= hidden_units,\n",
    "                     out_channels= hidden_units,\n",
    "                     kernel_size=3,\n",
    "                     stride=1,\n",
    "                     padding=1),\n",
    "            nn.ReLU(),\n",
    "            \n",
    "            nn.MaxPool2d(kernel_size=2)     \n",
    "        )\n",
    "        \n",
    "        \n",
    "        self.classifier = nn.Sequential(\n",
    "            nn.Flatten(),\n",
    "            nn.Linear(in_features=hidden_units*16,\n",
    "                     out_features=  output_shape)\n",
    "        )\n",
    "        \n",
    "    def forward(self,x):\n",
    "        \n",
    "        return self.classifier(self.conv_block_2(self.conv_block_1(x)))\n",
    "        \n",
    "        "
   ]
  },
  {
   "cell_type": "code",
   "execution_count": 29,
   "id": "d6e61b65-c4ed-4688-ba0f-89e05534f667",
   "metadata": {
    "tags": []
   },
   "outputs": [
    {
     "data": {
      "text/plain": [
       "(torch.Size([100, 3, 32, 32]), torch.Size([100]))"
      ]
     },
     "execution_count": 29,
     "metadata": {},
     "output_type": "execute_result"
    }
   ],
   "source": [
    "model_0 = TinyVGG(input_shape=3 , hidden_units=10,output_shape=len(class_names))\n",
    "model_2 = TinyVGGV2(input_shape=3 , hidden_units=10,output_shape=len(class_names))\n",
    "image_batch , label_batch = next(iter(train_dataloader))\n",
    "image_batch.shape , label_batch.shape\n",
    "# model_2(image_batch)"
   ]
  },
  {
   "cell_type": "code",
   "execution_count": 31,
   "id": "584fa747-ede6-406c-886b-9c32744c0456",
   "metadata": {
    "tags": []
   },
   "outputs": [
    {
     "data": {
      "text/plain": [
       "==========================================================================================\n",
       "Layer (type:depth-idx)                   Output Shape              Param #\n",
       "==========================================================================================\n",
       "TinyVGG                                  [1, 10]                   --\n",
       "├─Sequential: 1-1                        [1, 10, 16, 16]           --\n",
       "│    └─Conv2d: 2-1                       [1, 10, 32, 32]           280\n",
       "│    └─ReLU: 2-2                         [1, 10, 32, 32]           --\n",
       "│    └─Conv2d: 2-3                       [1, 10, 32, 32]           910\n",
       "│    └─ReLU: 2-4                         [1, 10, 32, 32]           --\n",
       "│    └─MaxPool2d: 2-5                    [1, 10, 16, 16]           --\n",
       "├─Sequential: 1-2                        [1, 10, 8, 8]             --\n",
       "│    └─Conv2d: 2-6                       [1, 10, 16, 16]           910\n",
       "│    └─ReLU: 2-7                         [1, 10, 16, 16]           --\n",
       "│    └─Conv2d: 2-8                       [1, 10, 16, 16]           910\n",
       "│    └─ReLU: 2-9                         [1, 10, 16, 16]           --\n",
       "│    └─MaxPool2d: 2-10                   [1, 10, 8, 8]             --\n",
       "├─Sequential: 1-3                        [1, 10]                   --\n",
       "│    └─Flatten: 2-11                     [1, 640]                  --\n",
       "│    └─Linear: 2-12                      [1, 10]                   6,410\n",
       "==========================================================================================\n",
       "Total params: 9,420\n",
       "Trainable params: 9,420\n",
       "Non-trainable params: 0\n",
       "Total mult-adds (Units.MEGABYTES): 1.69\n",
       "==========================================================================================\n",
       "Input size (MB): 0.01\n",
       "Forward/backward pass size (MB): 0.20\n",
       "Params size (MB): 0.04\n",
       "Estimated Total Size (MB): 0.25\n",
       "=========================================================================================="
      ]
     },
     "execution_count": 31,
     "metadata": {},
     "output_type": "execute_result"
    }
   ],
   "source": [
    "summary(model_0 , input_size=[1,3,32,32])"
   ]
  },
  {
   "cell_type": "code",
   "execution_count": 208,
   "id": "6e0f728c-4b48-4b32-8e97-d39d9bba07bb",
   "metadata": {},
   "outputs": [
    {
     "data": {
      "text/plain": [
       "==========================================================================================\n",
       "Layer (type:depth-idx)                   Output Shape              Param #\n",
       "==========================================================================================\n",
       "VGG                                      [1, 1000]                 --\n",
       "├─Sequential: 1-1                        [1, 512, 1, 1]            --\n",
       "│    └─Conv2d: 2-1                       [1, 64, 32, 32]           1,792\n",
       "│    └─ReLU: 2-2                         [1, 64, 32, 32]           --\n",
       "│    └─Conv2d: 2-3                       [1, 64, 32, 32]           36,928\n",
       "│    └─ReLU: 2-4                         [1, 64, 32, 32]           --\n",
       "│    └─MaxPool2d: 2-5                    [1, 64, 16, 16]           --\n",
       "│    └─Conv2d: 2-6                       [1, 128, 16, 16]          73,856\n",
       "│    └─ReLU: 2-7                         [1, 128, 16, 16]          --\n",
       "│    └─Conv2d: 2-8                       [1, 128, 16, 16]          147,584\n",
       "│    └─ReLU: 2-9                         [1, 128, 16, 16]          --\n",
       "│    └─MaxPool2d: 2-10                   [1, 128, 8, 8]            --\n",
       "│    └─Conv2d: 2-11                      [1, 256, 8, 8]            295,168\n",
       "│    └─ReLU: 2-12                        [1, 256, 8, 8]            --\n",
       "│    └─Conv2d: 2-13                      [1, 256, 8, 8]            590,080\n",
       "│    └─ReLU: 2-14                        [1, 256, 8, 8]            --\n",
       "│    └─Conv2d: 2-15                      [1, 256, 8, 8]            590,080\n",
       "│    └─ReLU: 2-16                        [1, 256, 8, 8]            --\n",
       "│    └─MaxPool2d: 2-17                   [1, 256, 4, 4]            --\n",
       "│    └─Conv2d: 2-18                      [1, 512, 4, 4]            1,180,160\n",
       "│    └─ReLU: 2-19                        [1, 512, 4, 4]            --\n",
       "│    └─Conv2d: 2-20                      [1, 512, 4, 4]            2,359,808\n",
       "│    └─ReLU: 2-21                        [1, 512, 4, 4]            --\n",
       "│    └─Conv2d: 2-22                      [1, 512, 4, 4]            2,359,808\n",
       "│    └─ReLU: 2-23                        [1, 512, 4, 4]            --\n",
       "│    └─MaxPool2d: 2-24                   [1, 512, 2, 2]            --\n",
       "│    └─Conv2d: 2-25                      [1, 512, 2, 2]            2,359,808\n",
       "│    └─ReLU: 2-26                        [1, 512, 2, 2]            --\n",
       "│    └─Conv2d: 2-27                      [1, 512, 2, 2]            2,359,808\n",
       "│    └─ReLU: 2-28                        [1, 512, 2, 2]            --\n",
       "│    └─Conv2d: 2-29                      [1, 512, 2, 2]            2,359,808\n",
       "│    └─ReLU: 2-30                        [1, 512, 2, 2]            --\n",
       "│    └─MaxPool2d: 2-31                   [1, 512, 1, 1]            --\n",
       "├─AdaptiveAvgPool2d: 1-2                 [1, 512, 7, 7]            --\n",
       "├─Sequential: 1-3                        [1, 1000]                 --\n",
       "│    └─Linear: 2-32                      [1, 4096]                 102,764,544\n",
       "│    └─ReLU: 2-33                        [1, 4096]                 --\n",
       "│    └─Dropout: 2-34                     [1, 4096]                 --\n",
       "│    └─Linear: 2-35                      [1, 4096]                 16,781,312\n",
       "│    └─ReLU: 2-36                        [1, 4096]                 --\n",
       "│    └─Dropout: 2-37                     [1, 4096]                 --\n",
       "│    └─Linear: 2-38                      [1, 1000]                 4,097,000\n",
       "==========================================================================================\n",
       "Total params: 138,357,544\n",
       "Trainable params: 138,357,544\n",
       "Non-trainable params: 0\n",
       "Total mult-adds (M): 437.12\n",
       "==========================================================================================\n",
       "Input size (MB): 0.01\n",
       "Forward/backward pass size (MB): 2.29\n",
       "Params size (MB): 553.43\n",
       "Estimated Total Size (MB): 555.73\n",
       "=========================================================================================="
      ]
     },
     "execution_count": 208,
     "metadata": {},
     "output_type": "execute_result"
    }
   ],
   "source": [
    "model_2=torchvision.models.vgg16()\n",
    "summary(model_1 , input_size=[1,3,32,32])\n",
    "summary(model_2 , input_size=[1,3,32,32])"
   ]
  },
  {
   "cell_type": "code",
   "execution_count": 120,
   "id": "e89f39c6-476e-4662-a698-f0683b11110a",
   "metadata": {},
   "outputs": [
    {
     "ename": "RuntimeError",
     "evalue": "Failed to run torchinfo. See above stack traces for more details. Executed layers up to: [Sequential: 1, Conv2d: 2, ReLU: 2, Conv2d: 2, ReLU: 2, MaxPool2d: 2, Sequential: 1, Conv2d: 2, ReLU: 2, Conv2d: 2, ReLU: 2, MaxPool2d: 2, Flatten: 2]",
     "output_type": "error",
     "traceback": [
      "\u001b[1;31m---------------------------------------------------------------------------\u001b[0m",
      "\u001b[1;31mRuntimeError\u001b[0m                              Traceback (most recent call last)",
      "File \u001b[1;32mE:\\araconda\\lib\\site-packages\\torchinfo\\torchinfo.py:295\u001b[0m, in \u001b[0;36mforward_pass\u001b[1;34m(model, x, batch_dim, cache_forward_pass, device, mode, **kwargs)\u001b[0m\n\u001b[0;32m    294\u001b[0m \u001b[38;5;28;01mif\u001b[39;00m \u001b[38;5;28misinstance\u001b[39m(x, (\u001b[38;5;28mlist\u001b[39m, \u001b[38;5;28mtuple\u001b[39m)):\n\u001b[1;32m--> 295\u001b[0m     _ \u001b[38;5;241m=\u001b[39m model(\u001b[38;5;241m*\u001b[39mx, \u001b[38;5;241m*\u001b[39m\u001b[38;5;241m*\u001b[39mkwargs)\n\u001b[0;32m    296\u001b[0m \u001b[38;5;28;01melif\u001b[39;00m \u001b[38;5;28misinstance\u001b[39m(x, \u001b[38;5;28mdict\u001b[39m):\n",
      "File \u001b[1;32m~\\AppData\\Roaming\\Python\\Python310\\site-packages\\torch\\nn\\modules\\module.py:1518\u001b[0m, in \u001b[0;36mModule._wrapped_call_impl\u001b[1;34m(self, *args, **kwargs)\u001b[0m\n\u001b[0;32m   1517\u001b[0m \u001b[38;5;28;01melse\u001b[39;00m:\n\u001b[1;32m-> 1518\u001b[0m     \u001b[38;5;28;01mreturn\u001b[39;00m \u001b[38;5;28mself\u001b[39m\u001b[38;5;241m.\u001b[39m_call_impl(\u001b[38;5;241m*\u001b[39margs, \u001b[38;5;241m*\u001b[39m\u001b[38;5;241m*\u001b[39mkwargs)\n",
      "File \u001b[1;32m~\\AppData\\Roaming\\Python\\Python310\\site-packages\\torch\\nn\\modules\\module.py:1568\u001b[0m, in \u001b[0;36mModule._call_impl\u001b[1;34m(self, *args, **kwargs)\u001b[0m\n\u001b[0;32m   1566\u001b[0m     args \u001b[38;5;241m=\u001b[39m bw_hook\u001b[38;5;241m.\u001b[39msetup_input_hook(args)\n\u001b[1;32m-> 1568\u001b[0m result \u001b[38;5;241m=\u001b[39m forward_call(\u001b[38;5;241m*\u001b[39margs, \u001b[38;5;241m*\u001b[39m\u001b[38;5;241m*\u001b[39mkwargs)\n\u001b[0;32m   1569\u001b[0m \u001b[38;5;28;01mif\u001b[39;00m _global_forward_hooks \u001b[38;5;129;01mor\u001b[39;00m \u001b[38;5;28mself\u001b[39m\u001b[38;5;241m.\u001b[39m_forward_hooks:\n",
      "Cell \u001b[1;32mIn[117], line 54\u001b[0m, in \u001b[0;36mTinyVGG.forward\u001b[1;34m(self, x)\u001b[0m\n\u001b[0;32m     52\u001b[0m \u001b[38;5;28;01mdef\u001b[39;00m \u001b[38;5;21mforward\u001b[39m(\u001b[38;5;28mself\u001b[39m,x):\n\u001b[1;32m---> 54\u001b[0m     \u001b[38;5;28;01mreturn\u001b[39;00m \u001b[38;5;28;43mself\u001b[39;49m\u001b[38;5;241;43m.\u001b[39;49m\u001b[43mclassifier\u001b[49m\u001b[43m(\u001b[49m\u001b[38;5;28;43mself\u001b[39;49m\u001b[38;5;241;43m.\u001b[39;49m\u001b[43mconv_block_2\u001b[49m\u001b[43m(\u001b[49m\u001b[38;5;28;43mself\u001b[39;49m\u001b[38;5;241;43m.\u001b[39;49m\u001b[43mconv_block_1\u001b[49m\u001b[43m(\u001b[49m\u001b[43mx\u001b[49m\u001b[43m)\u001b[49m\u001b[43m)\u001b[49m\u001b[43m)\u001b[49m\n",
      "File \u001b[1;32m~\\AppData\\Roaming\\Python\\Python310\\site-packages\\torch\\nn\\modules\\module.py:1518\u001b[0m, in \u001b[0;36mModule._wrapped_call_impl\u001b[1;34m(self, *args, **kwargs)\u001b[0m\n\u001b[0;32m   1517\u001b[0m \u001b[38;5;28;01melse\u001b[39;00m:\n\u001b[1;32m-> 1518\u001b[0m     \u001b[38;5;28;01mreturn\u001b[39;00m \u001b[38;5;28mself\u001b[39m\u001b[38;5;241m.\u001b[39m_call_impl(\u001b[38;5;241m*\u001b[39margs, \u001b[38;5;241m*\u001b[39m\u001b[38;5;241m*\u001b[39mkwargs)\n",
      "File \u001b[1;32m~\\AppData\\Roaming\\Python\\Python310\\site-packages\\torch\\nn\\modules\\module.py:1568\u001b[0m, in \u001b[0;36mModule._call_impl\u001b[1;34m(self, *args, **kwargs)\u001b[0m\n\u001b[0;32m   1566\u001b[0m     args \u001b[38;5;241m=\u001b[39m bw_hook\u001b[38;5;241m.\u001b[39msetup_input_hook(args)\n\u001b[1;32m-> 1568\u001b[0m result \u001b[38;5;241m=\u001b[39m forward_call(\u001b[38;5;241m*\u001b[39margs, \u001b[38;5;241m*\u001b[39m\u001b[38;5;241m*\u001b[39mkwargs)\n\u001b[0;32m   1569\u001b[0m \u001b[38;5;28;01mif\u001b[39;00m _global_forward_hooks \u001b[38;5;129;01mor\u001b[39;00m \u001b[38;5;28mself\u001b[39m\u001b[38;5;241m.\u001b[39m_forward_hooks:\n",
      "File \u001b[1;32m~\\AppData\\Roaming\\Python\\Python310\\site-packages\\torch\\nn\\modules\\container.py:215\u001b[0m, in \u001b[0;36mSequential.forward\u001b[1;34m(self, input)\u001b[0m\n\u001b[0;32m    214\u001b[0m \u001b[38;5;28;01mfor\u001b[39;00m module \u001b[38;5;129;01min\u001b[39;00m \u001b[38;5;28mself\u001b[39m:\n\u001b[1;32m--> 215\u001b[0m     \u001b[38;5;28minput\u001b[39m \u001b[38;5;241m=\u001b[39m \u001b[43mmodule\u001b[49m\u001b[43m(\u001b[49m\u001b[38;5;28;43minput\u001b[39;49m\u001b[43m)\u001b[49m\n\u001b[0;32m    216\u001b[0m \u001b[38;5;28;01mreturn\u001b[39;00m \u001b[38;5;28minput\u001b[39m\n",
      "File \u001b[1;32m~\\AppData\\Roaming\\Python\\Python310\\site-packages\\torch\\nn\\modules\\module.py:1518\u001b[0m, in \u001b[0;36mModule._wrapped_call_impl\u001b[1;34m(self, *args, **kwargs)\u001b[0m\n\u001b[0;32m   1517\u001b[0m \u001b[38;5;28;01melse\u001b[39;00m:\n\u001b[1;32m-> 1518\u001b[0m     \u001b[38;5;28;01mreturn\u001b[39;00m \u001b[38;5;28mself\u001b[39m\u001b[38;5;241m.\u001b[39m_call_impl(\u001b[38;5;241m*\u001b[39margs, \u001b[38;5;241m*\u001b[39m\u001b[38;5;241m*\u001b[39mkwargs)\n",
      "File \u001b[1;32m~\\AppData\\Roaming\\Python\\Python310\\site-packages\\torch\\nn\\modules\\module.py:1568\u001b[0m, in \u001b[0;36mModule._call_impl\u001b[1;34m(self, *args, **kwargs)\u001b[0m\n\u001b[0;32m   1566\u001b[0m     args \u001b[38;5;241m=\u001b[39m bw_hook\u001b[38;5;241m.\u001b[39msetup_input_hook(args)\n\u001b[1;32m-> 1568\u001b[0m result \u001b[38;5;241m=\u001b[39m forward_call(\u001b[38;5;241m*\u001b[39margs, \u001b[38;5;241m*\u001b[39m\u001b[38;5;241m*\u001b[39mkwargs)\n\u001b[0;32m   1569\u001b[0m \u001b[38;5;28;01mif\u001b[39;00m _global_forward_hooks \u001b[38;5;129;01mor\u001b[39;00m \u001b[38;5;28mself\u001b[39m\u001b[38;5;241m.\u001b[39m_forward_hooks:\n",
      "File \u001b[1;32m~\\AppData\\Roaming\\Python\\Python310\\site-packages\\torch\\nn\\modules\\linear.py:114\u001b[0m, in \u001b[0;36mLinear.forward\u001b[1;34m(self, input)\u001b[0m\n\u001b[0;32m    113\u001b[0m \u001b[38;5;28;01mdef\u001b[39;00m \u001b[38;5;21mforward\u001b[39m(\u001b[38;5;28mself\u001b[39m, \u001b[38;5;28minput\u001b[39m: Tensor) \u001b[38;5;241m-\u001b[39m\u001b[38;5;241m>\u001b[39m Tensor:\n\u001b[1;32m--> 114\u001b[0m     \u001b[38;5;28;01mreturn\u001b[39;00m \u001b[43mF\u001b[49m\u001b[38;5;241;43m.\u001b[39;49m\u001b[43mlinear\u001b[49m\u001b[43m(\u001b[49m\u001b[38;5;28;43minput\u001b[39;49m\u001b[43m,\u001b[49m\u001b[43m \u001b[49m\u001b[38;5;28;43mself\u001b[39;49m\u001b[38;5;241;43m.\u001b[39;49m\u001b[43mweight\u001b[49m\u001b[43m,\u001b[49m\u001b[43m \u001b[49m\u001b[38;5;28;43mself\u001b[39;49m\u001b[38;5;241;43m.\u001b[39;49m\u001b[43mbias\u001b[49m\u001b[43m)\u001b[49m\n",
      "\u001b[1;31mRuntimeError\u001b[0m: mat1 and mat2 shapes cannot be multiplied (1x2560 and 640x10)",
      "\nThe above exception was the direct cause of the following exception:\n",
      "\u001b[1;31mRuntimeError\u001b[0m                              Traceback (most recent call last)",
      "Cell \u001b[1;32mIn[120], line 1\u001b[0m\n\u001b[1;32m----> 1\u001b[0m \u001b[43msummary\u001b[49m\u001b[43m(\u001b[49m\u001b[43mmodel_0\u001b[49m\u001b[43m \u001b[49m\u001b[43m,\u001b[49m\u001b[43m \u001b[49m\u001b[43minput_size\u001b[49m\u001b[38;5;241;43m=\u001b[39;49m\u001b[43m[\u001b[49m\u001b[38;5;241;43m1\u001b[39;49m\u001b[43m,\u001b[49m\u001b[38;5;241;43m3\u001b[39;49m\u001b[43m,\u001b[49m\u001b[38;5;241;43m64\u001b[39;49m\u001b[43m,\u001b[49m\u001b[38;5;241;43m64\u001b[39;49m\u001b[43m]\u001b[49m\u001b[43m)\u001b[49m\n",
      "File \u001b[1;32mE:\\araconda\\lib\\site-packages\\torchinfo\\torchinfo.py:223\u001b[0m, in \u001b[0;36msummary\u001b[1;34m(model, input_size, input_data, batch_dim, cache_forward_pass, col_names, col_width, depth, device, dtypes, mode, row_settings, verbose, **kwargs)\u001b[0m\n\u001b[0;32m    216\u001b[0m validate_user_params(\n\u001b[0;32m    217\u001b[0m     input_data, input_size, columns, col_width, device, dtypes, verbose\n\u001b[0;32m    218\u001b[0m )\n\u001b[0;32m    220\u001b[0m x, correct_input_size \u001b[38;5;241m=\u001b[39m process_input(\n\u001b[0;32m    221\u001b[0m     input_data, input_size, batch_dim, device, dtypes\n\u001b[0;32m    222\u001b[0m )\n\u001b[1;32m--> 223\u001b[0m summary_list \u001b[38;5;241m=\u001b[39m forward_pass(\n\u001b[0;32m    224\u001b[0m     model, x, batch_dim, cache_forward_pass, device, model_mode, \u001b[38;5;241m*\u001b[39m\u001b[38;5;241m*\u001b[39mkwargs\n\u001b[0;32m    225\u001b[0m )\n\u001b[0;32m    226\u001b[0m formatting \u001b[38;5;241m=\u001b[39m FormattingOptions(depth, verbose, columns, col_width, rows)\n\u001b[0;32m    227\u001b[0m results \u001b[38;5;241m=\u001b[39m ModelStatistics(\n\u001b[0;32m    228\u001b[0m     summary_list, correct_input_size, get_total_memory_used(x), formatting\n\u001b[0;32m    229\u001b[0m )\n",
      "File \u001b[1;32mE:\\araconda\\lib\\site-packages\\torchinfo\\torchinfo.py:304\u001b[0m, in \u001b[0;36mforward_pass\u001b[1;34m(model, x, batch_dim, cache_forward_pass, device, mode, **kwargs)\u001b[0m\n\u001b[0;32m    302\u001b[0m \u001b[38;5;28;01mexcept\u001b[39;00m \u001b[38;5;167;01mException\u001b[39;00m \u001b[38;5;28;01mas\u001b[39;00m e:\n\u001b[0;32m    303\u001b[0m     executed_layers \u001b[38;5;241m=\u001b[39m [layer \u001b[38;5;28;01mfor\u001b[39;00m layer \u001b[38;5;129;01min\u001b[39;00m summary_list \u001b[38;5;28;01mif\u001b[39;00m layer\u001b[38;5;241m.\u001b[39mexecuted]\n\u001b[1;32m--> 304\u001b[0m     \u001b[38;5;28;01mraise\u001b[39;00m \u001b[38;5;167;01mRuntimeError\u001b[39;00m(\n\u001b[0;32m    305\u001b[0m         \u001b[38;5;124m\"\u001b[39m\u001b[38;5;124mFailed to run torchinfo. See above stack traces for more details. \u001b[39m\u001b[38;5;124m\"\u001b[39m\n\u001b[0;32m    306\u001b[0m         \u001b[38;5;124mf\u001b[39m\u001b[38;5;124m\"\u001b[39m\u001b[38;5;124mExecuted layers up to: \u001b[39m\u001b[38;5;132;01m{\u001b[39;00mexecuted_layers\u001b[38;5;132;01m}\u001b[39;00m\u001b[38;5;124m\"\u001b[39m\n\u001b[0;32m    307\u001b[0m     ) \u001b[38;5;28;01mfrom\u001b[39;00m \u001b[38;5;21;01me\u001b[39;00m\n\u001b[0;32m    308\u001b[0m \u001b[38;5;28;01mfinally\u001b[39;00m:\n\u001b[0;32m    309\u001b[0m     \u001b[38;5;28;01mif\u001b[39;00m hooks:\n",
      "\u001b[1;31mRuntimeError\u001b[0m: Failed to run torchinfo. See above stack traces for more details. Executed layers up to: [Sequential: 1, Conv2d: 2, ReLU: 2, Conv2d: 2, ReLU: 2, MaxPool2d: 2, Sequential: 1, Conv2d: 2, ReLU: 2, Conv2d: 2, ReLU: 2, MaxPool2d: 2, Flatten: 2]"
     ]
    }
   ],
   "source": [
    "\n",
    "summary(model_0 , input_size=[1,3,64,64])"
   ]
  },
  {
   "cell_type": "code",
   "execution_count": 37,
   "id": "d84a3f3c-053b-46b5-942e-3690c3432029",
   "metadata": {
    "tags": []
   },
   "outputs": [],
   "source": [
    "def train_step(model : torch.nn.Module,\n",
    "              dataloader: torch.utils.data.DataLoader,\n",
    "              loss_fn: torch.nn.Module,\n",
    "              optimizer: torch.optim.Optimizer ):\n",
    "    model.train()\n",
    "    \n",
    "    train_loss ,train_acc = 0,0\n",
    "    \n",
    "    for batch, (x,y) in enumerate(dataloader):\n",
    "        x,y = x.to(device),y.to(device)\n",
    "        y_pred = model(x)\n",
    "        \n",
    "        loss = loss_fn(y_pred,y)\n",
    "        train_loss += loss.item()\n",
    "        \n",
    "        optimizer.zero_grad()\n",
    "        \n",
    "        \n",
    "        loss.backward()\n",
    "        \n",
    "        optimizer.step()\n",
    "        \n",
    "        \n",
    "        \n",
    "        y_pred_class = torch.argmax(torch.softmax(y_pred ,dim=1),dim=1)\n",
    "        train_acc += (y_pred_class == y).sum().item()/len(y_pred)\n",
    "        \n",
    "        \n",
    "   \n",
    "    train_loss = train_loss/ len(dataloader)\n",
    "    train_acc = train_acc / len(dataloader)\n",
    "    return train_loss ,train_acc\n",
    "\n",
    "\n",
    "\n",
    "def test_step(model : torch.nn.Module,\n",
    "              dataloader: torch.utils.data.DataLoader,\n",
    "              loss_fn: torch.nn.Module):\n",
    "    \n",
    "    model.eval()\n",
    "    \n",
    "    test_loss , test_acc = 0,0\n",
    "    \n",
    "    with torch.inference_mode():\n",
    "        \n",
    "        for batch,(x,y) in enumerate(dataloader):\n",
    "            x,y = x.to(device),y.to(device)\n",
    "            \n",
    "            test_pred_logits = model(x)\n",
    "            \n",
    "            loss = loss_fn(test_pred_logits , y)\n",
    "            test_loss += loss.item()\n",
    "            \n",
    "            test_pred_labels  =  test_pred_logits.argmax(dim=1)\n",
    "            test_acc += ((test_pred_labels == y).sum().item()/len(test_pred_labels))\n",
    "            \n",
    "        test_loss = test_loss / len(dataloader)\n",
    "        test_acc = test_acc /len(dataloader)\n",
    "        return test_loss , test_acc\n",
    "\n",
    "    \n",
    "    \n",
    "\n",
    "def train(model_name: str ,\n",
    "    model: torch.nn.Module,\n",
    "          train_dataloader: torch.utils.data.DataLoader,\n",
    "          test_dataloader: torch.utils.data.DataLoader,\n",
    "          optimizer: torch.optim.Optimizer,\n",
    "         \n",
    "          loss_fn:torch.nn.Module = nn.CrossEntropyLoss(),\n",
    "          epochs: int = 5):\n",
    "    \n",
    "    # create an empty result dictionary\n",
    "    results = {\"train_loss\" : [],\n",
    "              \"train_acc\": [],\n",
    "              \"test_loss\": [],\n",
    "              \"test_acc\": []}\n",
    "    max_acc = 0\n",
    "    for epoch in tqdm(range(epochs)):\n",
    "        train_loss, train_acc = train_step(model = model,\n",
    "                                           dataloader=train_dataloader,\n",
    "                                           loss_fn = loss_fn,\n",
    "                                           optimizer=optimizer)\n",
    "        \n",
    "        test_loss, test_acc = test_step(model = model,\n",
    "                                           dataloader=test_dataloader,\n",
    "                                           loss_fn = loss_fn)\n",
    "        \n",
    "        \n",
    "         # print whats happening\n",
    "        print(f\"Epoch: {epoch} | Train loss: {train_loss: .4f} | Train acc: {train_acc: .4f} | Test loss: {test_loss: .4f} | Test acc: {test_acc: .4f} \")\n",
    "        \n",
    "        \n",
    "        \n",
    "        if test_acc > max_acc:\n",
    "            #1.create models directory\n",
    "            MODEL_PATH =  Path(\"models\")\n",
    "            MODEL_PATH.mkdir(parents=True, exist_ok=True)\n",
    "\n",
    "            # 2. creat model save path\n",
    "            MODEL_NAME = f\"{model_name}.pth\"\n",
    "            MODEL_SAVE_PATH = MODEL_PATH / MODEL_NAME\n",
    "\n",
    "            #save the model stat dict\n",
    "            print(f\"saving model to: {MODEL_SAVE_PATH}\")\n",
    "            torch.save(obj=model.state_dict(), f=MODEL_SAVE_PATH)\n",
    "            max_acc = test_acc\n",
    "            \n",
    "        \n",
    "       \n",
    "        # update result dic\n",
    "        \n",
    "        results[\"train_loss\"].append(train_loss)\n",
    "        results[\"train_acc\"].append(train_acc)\n",
    "        results[\"test_loss\"].append(test_loss)\n",
    "        results[\"test_acc\"].append(test_acc)\n",
    "        \n",
    "    return results\n",
    "    \n",
    "        \n"
   ]
  },
  {
   "cell_type": "code",
   "execution_count": 39,
   "id": "3bc809e1-20a3-4a55-8441-ae0122118842",
   "metadata": {
    "tags": []
   },
   "outputs": [
    {
     "ename": "TypeError",
     "evalue": "train() missing 1 required positional argument: 'model_name'",
     "output_type": "error",
     "traceback": [
      "\u001b[1;31m---------------------------------------------------------------------------\u001b[0m",
      "\u001b[1;31mTypeError\u001b[0m                                 Traceback (most recent call last)",
      "Cell \u001b[1;32mIn[39], line 9\u001b[0m\n\u001b[0;32m      7\u001b[0m \u001b[38;5;28;01mfrom\u001b[39;00m \u001b[38;5;21;01mtimeit\u001b[39;00m \u001b[38;5;28;01mimport\u001b[39;00m default_timer \u001b[38;5;28;01mas\u001b[39;00m timer\n\u001b[0;32m      8\u001b[0m start_time \u001b[38;5;241m=\u001b[39m timer()\n\u001b[1;32m----> 9\u001b[0m model_0_results \u001b[38;5;241m=\u001b[39m train(model\u001b[38;5;241m=\u001b[39m model_0,\n\u001b[0;32m     10\u001b[0m                        train_dataloader\u001b[38;5;241m=\u001b[39m  train_dataloader,\n\u001b[0;32m     11\u001b[0m                        test_dataloader\u001b[38;5;241m=\u001b[39m test_dataloader,\n\u001b[0;32m     12\u001b[0m                        optimizer \u001b[38;5;241m=\u001b[39m optimizer,\n\u001b[0;32m     13\u001b[0m                        loss_fn\u001b[38;5;241m=\u001b[39mloss_fn,\n\u001b[0;32m     14\u001b[0m                        epochs\u001b[38;5;241m=\u001b[39mNUM_EPOCHS)\n\u001b[0;32m     15\u001b[0m end_time \u001b[38;5;241m=\u001b[39m timer()\n\u001b[0;32m     16\u001b[0m \u001b[38;5;28mprint\u001b[39m(\u001b[38;5;124mf\u001b[39m\u001b[38;5;124m\"\u001b[39m\u001b[38;5;124mtotal training time for model_0: \u001b[39m\u001b[38;5;132;01m{\u001b[39;00mend_time\u001b[38;5;250m \u001b[39m\u001b[38;5;241m-\u001b[39m\u001b[38;5;250m \u001b[39mstart_time\u001b[38;5;132;01m:\u001b[39;00m\u001b[38;5;124m.3f\u001b[39m\u001b[38;5;132;01m}\u001b[39;00m\u001b[38;5;124m seconds\u001b[39m\u001b[38;5;124m\"\u001b[39m)\n",
      "\u001b[1;31mTypeError\u001b[0m: train() missing 1 required positional argument: 'model_name'"
     ]
    }
   ],
   "source": [
    "NUM_EPOCHS = 30\n",
    "\n",
    "loss_fn = nn.CrossEntropyLoss()\n",
    "optimizer = torch.optim.Adam(params=model_0.parameters(),\n",
    "                            lr = 0.001)\n",
    "\n",
    "from timeit import default_timer as timer\n",
    "start_time = timer()\n",
    "model_0_results = train(model= model_0,\n",
    "                       train_dataloader=  train_dataloader,\n",
    "                       test_dataloader= test_dataloader,\n",
    "                       optimizer = optimizer,\n",
    "                       loss_fn=loss_fn,\n",
    "                       epochs=NUM_EPOCHS)\n",
    "end_time = timer()\n",
    "print(f\"total training time for model_0: {end_time - start_time:.3f} seconds\")"
   ]
  },
  {
   "cell_type": "code",
   "execution_count": 122,
   "id": "edf41f28-7779-4d61-8fba-78cf7a3c1cae",
   "metadata": {},
   "outputs": [
    {
     "data": {
      "image/png": "[encoded data removed]",
      "text/plain": [
       "<Figure size 1500x700 with 2 Axes>"
      ]
     },
     "metadata": {},
     "output_type": "display_data"
    }
   ],
   "source": [
    "\n",
    "plot_loss_curves(model_0_results)"
   ]
  },
  {
   "cell_type": "code",
   "execution_count": 123,
   "id": "7d30d57d-cec9-4ff3-ba0e-dd97719c1744",
   "metadata": {},
   "outputs": [
    {
     "name": "stdout",
     "output_type": "stream",
     "text": [
      "saving model to: models\\01_TinyVGG_model_0.pth\n"
     ]
    }
   ],
   "source": [
    "# #1.create models directory\n",
    "# MODEL_PATH =  Path(\"models\")\n",
    "# MODEL_PATH.mkdir(parents=True, exist_ok=True)\n",
    "\n",
    "# # 2. creat model save path\n",
    "# MODEL_NAME = \"01_TinyVGG_model_0.pth\"\n",
    "# MODEL_SAVE_PATH = MODEL_PATH / MODEL_NAME\n",
    "\n",
    "# #save the model stat dict\n",
    "# print(f\"saving model to: {MODEL_SAVE_PATH}\")\n",
    "# torch.save(obj=model_0.state_dict(), f=MODEL_SAVE_PATH)"
   ]
  },
  {
   "cell_type": "code",
   "execution_count": 124,
   "id": "427a251e-9f1c-4a93-aaf3-34e68e602f25",
   "metadata": {},
   "outputs": [
    {
     "data": {
      "text/plain": [
       "<All keys matched successfully>"
      ]
     },
     "execution_count": 124,
     "metadata": {},
     "output_type": "execute_result"
    }
   ],
   "source": [
    "model_0 = TinyVGG(input_shape=3 , hidden_units=10,output_shape=len(class_names))\n",
    "\n",
    "model_0.load_state_dict(torch.load(f=MODEL_SAVE_PATH))"
   ]
  },
  {
   "cell_type": "code",
   "execution_count": 132,
   "id": "985fb902-4e2b-4663-a226-73193b4e3d80",
   "metadata": {},
   "outputs": [
    {
     "name": "stderr",
     "output_type": "stream",
     "text": [
      "Clipping input data to the valid range for imshow with RGB data ([0..1] for floats or [0..255] for integers).\n",
      "Clipping input data to the valid range for imshow with RGB data ([0..1] for floats or [0..255] for integers).\n",
      "Clipping input data to the valid range for imshow with RGB data ([0..1] for floats or [0..255] for integers).\n",
      "Clipping input data to the valid range for imshow with RGB data ([0..1] for floats or [0..255] for integers).\n",
      "Clipping input data to the valid range for imshow with RGB data ([0..1] for floats or [0..255] for integers).\n",
      "Clipping input data to the valid range for imshow with RGB data ([0..1] for floats or [0..255] for integers).\n",
      "Clipping input data to the valid range for imshow with RGB data ([0..1] for floats or [0..255] for integers).\n",
      "Clipping input data to the valid range for imshow with RGB data ([0..1] for floats or [0..255] for integers).\n",
      "Clipping input data to the valid range for imshow with RGB data ([0..1] for floats or [0..255] for integers).\n"
     ]
    },
    {
     "data": {
      "image/png": "[encoded data removed]",
      "text/plain": [
       "<Figure size 900x900 with 9 Axes>"
      ]
     },
     "metadata": {},
     "output_type": "display_data"
    }
   ],
   "source": [
    "\n",
    "# random.seed(42)\n",
    "test_samples = []\n",
    "test_labels = []\n",
    "for sample , label in random.sample(list(test_data), k = 9):\n",
    "    test_samples.append(sample)\n",
    "    test_labels.append(label)\n",
    "    \n",
    "def make_predictions(model: torch.nn.Module,\n",
    "                    data: list):\n",
    "    pred_probs = []\n",
    "    model.eval()\n",
    "    with torch.inference_mode():\n",
    "        for sample in data:\n",
    "            # prepare the sample\n",
    "            sample = torch.unsqueeze(sample , dim=0 )\n",
    "            \n",
    "            #forward pass\n",
    "            pred_logit = model(sample)\n",
    "            \n",
    "            #get prediction probability\n",
    "            pred_prob = torch.softmax(pred_logit.squeeze(),dim=0)\n",
    "            \n",
    "            pred_probs.append(pred_prob)\n",
    "            \n",
    "            \n",
    "    return torch.stack(pred_probs)\n",
    "\n",
    "pred_probs = make_predictions(model=model_0,\n",
    "                              data= test_samples)\n",
    "pred_classes = pred_probs.argmax(dim=1)\n",
    "# plot pred\n",
    "plt.figure(figsize= (9,9))\n",
    "nrows = 3\n",
    "ncols = 3\n",
    "for i , sample in enumerate(test_samples):\n",
    "    \n",
    "    plt.subplot(nrows , ncols , i+1)\n",
    "    \n",
    "    plt.imshow(sample.permute(1,2,0).squeeze())\n",
    "    \n",
    "    pred_label = class_names[pred_classes[i]]\n",
    "    \n",
    "    truth_label = class_names[test_labels[i]]\n",
    "    \n",
    "    title_text = f\"Pred: {pred_label} | Truth: {truth_label}\"\n",
    "    \n",
    "    if pred_label ==  truth_label:\n",
    "        plt.title(title_text , fontsize = 10,c = \"g\")\n",
    "    else:\n",
    "        plt.title(title_text , fontsize = 10,c = \"r\")\n",
    "    plt.axis(False)"
   ]
  },
  {
   "cell_type": "code",
   "execution_count": 133,
   "id": "1406b781-a0d2-4f5a-94fe-b5221dcab6a5",
   "metadata": {},
   "outputs": [
    {
     "data": {
      "application/vnd.jupyter.widget-view+json": {
       "model_id": "15578e24501b44a99d6beb23f5bc18c9",
       "version_major": 2,
       "version_minor": 0
      },
      "text/plain": [
       "making predictions...:   0%|          | 0/100 [00:00<?, ?it/s]"
      ]
     },
     "metadata": {},
     "output_type": "display_data"
    },
    {
     "data": {
      "text/plain": [
       "<sklearn.metrics._plot.confusion_matrix.ConfusionMatrixDisplay at 0x1b73aa18c10>"
      ]
     },
     "execution_count": 133,
     "metadata": {},
     "output_type": "execute_result"
    },
    {
     "data": {
      "image/png": "[encoded data removed]",
      "text/plain": [
       "<Figure size 2500x2500 with 2 Axes>"
      ]
     },
     "metadata": {},
     "output_type": "display_data"
    }
   ],
   "source": [
    "\n",
    "y_preds = []\n",
    "x_test = []\n",
    "model_0.eval()\n",
    "with torch.inference_mode():\n",
    "    for x,y in tqdm(test_dataloader,desc = \"making predictions...\"):\n",
    "        y_logit = model_0(x)\n",
    "        \n",
    "        y_pred = torch.softmax(y_logit.squeeze(),dim=0).argmax(dim=1)\n",
    "        \n",
    "        y_preds.append(y_pred)\n",
    "        x_test.append(y)\n",
    "        \n",
    "# print(y_preds)\n",
    "y_pred_tensor = torch.cat(y_preds)\n",
    "x_test_cat = torch.cat(x_test)\n",
    "cm = confusion_matrix(y_pred_tensor,x_test_cat)\n",
    "disp = ConfusionMatrixDisplay(cm,display_labels=class_names)\n",
    "fig, ax = plt.subplots(figsize=(25,25))\n",
    "disp.plot(ax=ax ,cmap=plt.cm.Blues)"
   ]
  },
  {
   "cell_type": "markdown",
   "id": "92d6c194-12bd-45c2-96e8-d7339597cbd5",
   "metadata": {},
   "source": [
    "# ResNet"
   ]
  },
  {
   "cell_type": "code",
   "execution_count": 139,
   "id": "718da05f-877f-4889-a807-8c9def882599",
   "metadata": {},
   "outputs": [],
   "source": [
    "import os\n",
    "import torch\n",
    "import torchvision\n",
    "import tarfile\n",
    "import torch.nn as nn\n",
    "import numpy as np\n",
    "import torch.nn.functional as F\n",
    "from torchvision.datasets.utils import download_url\n",
    "from torchvision.datasets import ImageFolder\n",
    "from torch.utils.data import DataLoader\n",
    "import torchvision.transforms as tt\n",
    "from torch.utils.data import random_split\n",
    "from torchvision.utils import make_grid\n",
    "import matplotlib.pyplot as plt\n",
    "%matplotlib inline"
   ]
  },
  {
   "cell_type": "code",
   "execution_count": 140,
   "id": "acaf5ab1-b49e-46bd-bb0c-70fb2ad4e3b2",
   "metadata": {},
   "outputs": [],
   "source": [
    "# PyTorch data loaders\n",
    "train_dl = DataLoader(train_data, BATCH_SIZE, shuffle=True, num_workers=3, pin_memory=True)\n",
    "valid_dl = DataLoader(test_data, BATCH_SIZE*2, num_workers=3, pin_memory=True)"
   ]
  },
  {
   "cell_type": "code",
   "execution_count": 141,
   "id": "42c49199-cad4-4aab-a8a7-b2b9ae078e8e",
   "metadata": {},
   "outputs": [],
   "source": [
    "def show_batch(dl):\n",
    "    for images, labels in dl:\n",
    "        fig, ax = plt.subplots(figsize=(12, 12))\n",
    "        ax.set_xticks([]); ax.set_yticks([])\n",
    "        ax.imshow(make_grid(images[:64], nrow=8).permute(1, 2, 0))\n",
    "        break"
   ]
  },
  {
   "cell_type": "code",
   "execution_count": 142,
   "id": "d52c3dca-84ca-473c-9a8d-9de43271deea",
   "metadata": {},
   "outputs": [
    {
     "name": "stderr",
     "output_type": "stream",
     "text": [
      "Clipping input data to the valid range for imshow with RGB data ([0..1] for floats or [0..255] for integers).\n"
     ]
    },
    {
     "data": {
      "image/png": "[encoded data removed]",
      "text/plain": [
       "<Figure size 1200x1200 with 1 Axes>"
      ]
     },
     "metadata": {},
     "output_type": "display_data"
    }
   ],
   "source": [
    "show_batch(train_dl)"
   ]
  },
  {
   "cell_type": "code",
   "execution_count": 144,
   "id": "8e50af7e-85fc-4157-aed5-871f1df0bea3",
   "metadata": {},
   "outputs": [],
   "source": [
    "def get_default_device():\n",
    "    \"\"\"Pick GPU if available, else CPU\"\"\"\n",
    "    if torch.cuda.is_available():\n",
    "        return torch.device('cuda')\n",
    "    else:\n",
    "        return torch.device('cpu')\n",
    "    \n",
    "def to_device(data, device):\n",
    "    \"\"\"Move tensor(s) to chosen device\"\"\"\n",
    "    if isinstance(data, (list,tuple)):\n",
    "        return [to_device(x, device) for x in data]\n",
    "    return data.to(device, non_blocking=True)\n",
    "\n",
    "class DeviceDataLoader():\n",
    "    \"\"\"Wrap a dataloader to move data to a device\"\"\"\n",
    "    def __init__(self, dl, device):\n",
    "        self.dl = dl\n",
    "        self.device = device\n",
    "        \n",
    "    def __iter__(self):\n",
    "        \"\"\"Yield a batch of data after moving it to device\"\"\"\n",
    "        for b in self.dl: \n",
    "            yield to_device(b, self.device)\n",
    "\n",
    "    def __len__(self):\n",
    "        \"\"\"Number of batches\"\"\"\n",
    "        return len(self.dl)\n",
    "    \n",
    "device = get_default_device()"
   ]
  },
  {
   "cell_type": "code",
   "execution_count": 145,
   "id": "280e0db8-640e-48b4-b1e7-1164837d9674",
   "metadata": {},
   "outputs": [],
   "source": [
    "train_dl = DeviceDataLoader(train_dl, device)\n",
    "valid_dl = DeviceDataLoader(valid_dl, device)"
   ]
  },
  {
   "cell_type": "code",
   "execution_count": 146,
   "id": "9c5ed62e-2358-4666-977d-4a18ab555064",
   "metadata": {},
   "outputs": [],
   "source": [
    "class SimpleResidualBlock(nn.Module):\n",
    "    def __init__(self):\n",
    "        super().__init__()\n",
    "        self.conv1 = nn.Conv2d(in_channels=3, out_channels=3, kernel_size=3, stride=1, padding=1)\n",
    "        self.relu1 = nn.ReLU()\n",
    "        self.conv2 = nn.Conv2d(in_channels=3, out_channels=3, kernel_size=3, stride=1, padding=1)\n",
    "        self.relu2 = nn.ReLU()\n",
    "        \n",
    "    def forward(self, x):\n",
    "        out = self.conv1(x)\n",
    "        out = self.relu1(out)\n",
    "        out = self.conv2(out)\n",
    "        return self.relu2(out) + x # ReLU can be applied before or after adding the input"
   ]
  },
  {
   "cell_type": "code",
   "execution_count": 147,
   "id": "74535582-5714-4104-bdcd-4a9ba724a34c",
   "metadata": {},
   "outputs": [
    {
     "name": "stdout",
     "output_type": "stream",
     "text": [
      "torch.Size([100, 3, 32, 32])\n"
     ]
    }
   ],
   "source": [
    "simple_resnet = to_device(SimpleResidualBlock(), device)\n",
    "\n",
    "for images, labels in train_dl:\n",
    "    out = simple_resnet(images)\n",
    "    print(out.shape)\n",
    "    break\n",
    "    \n",
    "del simple_resnet, images, labels\n",
    "torch.cuda.empty_cache()"
   ]
  },
  {
   "cell_type": "code",
   "execution_count": 149,
   "id": "0ab8b8a3-8c08-4678-b303-0963f3737a8e",
   "metadata": {},
   "outputs": [],
   "source": [
    "def accuracy(outputs, labels):\n",
    "    _, preds = torch.max(outputs, dim=1)\n",
    "    return torch.tensor(torch.sum(preds == labels).item() / len(preds))\n",
    "\n",
    "class ImageClassificationBase(nn.Module):\n",
    "    def training_step(self, batch):\n",
    "        images, labels = batch \n",
    "        out = self(images)                  # Generate predictions\n",
    "        loss = F.cross_entropy(out, labels) # Calculate loss\n",
    "        return loss\n",
    "    \n",
    "    def validation_step(self, batch):\n",
    "        images, labels = batch \n",
    "        out = self(images)                    # Generate predictions\n",
    "        loss = F.cross_entropy(out, labels)   # Calculate loss\n",
    "        acc = accuracy(out, labels)           # Calculate accuracy\n",
    "        return {'val_loss': loss.detach(), 'val_acc': acc}\n",
    "        \n",
    "    def validation_epoch_end(self, outputs):\n",
    "        batch_losses = [x['val_loss'] for x in outputs]\n",
    "        epoch_loss = torch.stack(batch_losses).mean()   # Combine losses\n",
    "        batch_accs = [x['val_acc'] for x in outputs]\n",
    "        epoch_acc = torch.stack(batch_accs).mean()      # Combine accuracies\n",
    "        return {'val_loss': epoch_loss.item(), 'val_acc': epoch_acc.item()}\n",
    "    \n",
    "    def epoch_end(self, epoch, result):\n",
    "        print(\"Epoch [{}], last_lr: {:.5f}, train_loss: {:.4f}, val_loss: {:.4f}, val_acc: {:.4f}\".format(\n",
    "            epoch, result['lrs'][-1], result['train_loss'], result['val_loss'], result['val_acc']))"
   ]
  },
  {
   "cell_type": "code",
   "execution_count": 150,
   "id": "b17fb026-eaa7-4a81-9465-71340e4e6a0c",
   "metadata": {},
   "outputs": [],
   "source": [
    "def conv_block(in_channels, out_channels, pool=False):\n",
    "    layers = [nn.Conv2d(in_channels, out_channels, kernel_size=3, padding=1), \n",
    "              nn.BatchNorm2d(out_channels), \n",
    "              nn.ReLU(inplace=True)]\n",
    "    if pool: layers.append(nn.MaxPool2d(2))\n",
    "    return nn.Sequential(*layers)\n",
    "\n",
    "class ResNet9(ImageClassificationBase):\n",
    "    def __init__(self, in_channels, num_classes):\n",
    "        super().__init__()\n",
    "        \n",
    "        self.conv1 = conv_block(in_channels, 64)\n",
    "        self.conv2 = conv_block(64, 128, pool=True)\n",
    "        self.res1 = nn.Sequential(conv_block(128, 128), conv_block(128, 128))\n",
    "        \n",
    "        self.conv3 = conv_block(128, 256, pool=True)\n",
    "        self.conv4 = conv_block(256, 512, pool=True)\n",
    "        self.res2 = nn.Sequential(conv_block(512, 512), conv_block(512, 512))\n",
    "        \n",
    "        self.classifier = nn.Sequential(nn.MaxPool2d(4), \n",
    "                                        nn.Flatten(), \n",
    "                                        nn.Linear(512, num_classes))\n",
    "        \n",
    "    def forward(self, xb):\n",
    "        out = self.conv1(xb)\n",
    "        out = self.conv2(out)\n",
    "        out = self.res1(out) + out\n",
    "        out = self.conv3(out)\n",
    "        out = self.conv4(out)\n",
    "        out = self.res2(out) + out\n",
    "        out = self.classifier(out)\n",
    "        return out"
   ]
  },
  {
   "cell_type": "code",
   "execution_count": 151,
   "id": "b3e05fc4-afac-402f-8e85-92d02f2795bf",
   "metadata": {},
   "outputs": [
    {
     "data": {
      "text/plain": [
       "=================================================================\n",
       "Layer (type:depth-idx)                   Param #\n",
       "=================================================================\n",
       "ResNet9                                  --\n",
       "├─Sequential: 1-1                        --\n",
       "│    └─Conv2d: 2-1                       1,792\n",
       "│    └─BatchNorm2d: 2-2                  128\n",
       "│    └─ReLU: 2-3                         --\n",
       "├─Sequential: 1-2                        --\n",
       "│    └─Conv2d: 2-4                       73,856\n",
       "│    └─BatchNorm2d: 2-5                  256\n",
       "│    └─ReLU: 2-6                         --\n",
       "│    └─MaxPool2d: 2-7                    --\n",
       "├─Sequential: 1-3                        --\n",
       "│    └─Sequential: 2-8                   --\n",
       "│    │    └─Conv2d: 3-1                  147,584\n",
       "│    │    └─BatchNorm2d: 3-2             256\n",
       "│    │    └─ReLU: 3-3                    --\n",
       "│    └─Sequential: 2-9                   --\n",
       "│    │    └─Conv2d: 3-4                  147,584\n",
       "│    │    └─BatchNorm2d: 3-5             256\n",
       "│    │    └─ReLU: 3-6                    --\n",
       "├─Sequential: 1-4                        --\n",
       "│    └─Conv2d: 2-10                      295,168\n",
       "│    └─BatchNorm2d: 2-11                 512\n",
       "│    └─ReLU: 2-12                        --\n",
       "│    └─MaxPool2d: 2-13                   --\n",
       "├─Sequential: 1-5                        --\n",
       "│    └─Conv2d: 2-14                      1,180,160\n",
       "│    └─BatchNorm2d: 2-15                 1,024\n",
       "│    └─ReLU: 2-16                        --\n",
       "│    └─MaxPool2d: 2-17                   --\n",
       "├─Sequential: 1-6                        --\n",
       "│    └─Sequential: 2-18                  --\n",
       "│    │    └─Conv2d: 3-7                  2,359,808\n",
       "│    │    └─BatchNorm2d: 3-8             1,024\n",
       "│    │    └─ReLU: 3-9                    --\n",
       "│    └─Sequential: 2-19                  --\n",
       "│    │    └─Conv2d: 3-10                 2,359,808\n",
       "│    │    └─BatchNorm2d: 3-11            1,024\n",
       "│    │    └─ReLU: 3-12                   --\n",
       "├─Sequential: 1-7                        --\n",
       "│    └─MaxPool2d: 2-20                   --\n",
       "│    └─Flatten: 2-21                     --\n",
       "│    └─Linear: 2-22                      5,130\n",
       "=================================================================\n",
       "Total params: 6,575,370\n",
       "Trainable params: 6,575,370\n",
       "Non-trainable params: 0\n",
       "================================================================="
      ]
     },
     "execution_count": 151,
     "metadata": {},
     "output_type": "execute_result"
    }
   ],
   "source": [
    "model_1 = to_device(ResNet9(3, 10), device)\n",
    "summary(model_1)"
   ]
  },
  {
   "cell_type": "code",
   "execution_count": 152,
   "id": "a9571519-5f9e-4fd7-8b2c-c53263405316",
   "metadata": {},
   "outputs": [],
   "source": [
    "@torch.no_grad()\n",
    "def evaluate(model, val_loader):\n",
    "    model.eval()\n",
    "    outputs = [model.validation_step(batch) for batch in val_loader]\n",
    "    return model.validation_epoch_end(outputs)\n",
    "\n",
    "def get_lr(optimizer):\n",
    "    for param_group in optimizer.param_groups:\n",
    "        return param_group['lr']\n",
    "\n",
    "def fit_one_cycle(epochs, max_lr, model, train_loader, val_loader, \n",
    "                  weight_decay=0, grad_clip=None, opt_func=torch.optim.SGD):\n",
    "    torch.cuda.empty_cache()\n",
    "    history = []\n",
    "    \n",
    "    # Set up cutom optimizer with weight decay\n",
    "    optimizer = opt_func(model.parameters(), max_lr, weight_decay=weight_decay)\n",
    "    # Set up one-cycle learning rate scheduler\n",
    "    sched = torch.optim.lr_scheduler.OneCycleLR(optimizer, max_lr, epochs=epochs, \n",
    "                                                steps_per_epoch=len(train_loader))\n",
    "    \n",
    "    for epoch in range(epochs):\n",
    "        # Training Phase \n",
    "        model.train()\n",
    "        train_losses = []\n",
    "        lrs = []\n",
    "        for batch in train_loader:\n",
    "            loss = model.training_step(batch)\n",
    "            train_losses.append(loss)\n",
    "            loss.backward()\n",
    "            \n",
    "            # Gradient clipping\n",
    "            if grad_clip: \n",
    "                nn.utils.clip_grad_value_(model.parameters(), grad_clip)\n",
    "            \n",
    "            optimizer.step()\n",
    "            optimizer.zero_grad()\n",
    "            \n",
    "            # Record & update learning rate\n",
    "            lrs.append(get_lr(optimizer))\n",
    "            sched.step()\n",
    "        \n",
    "        # Validation phase\n",
    "        result = evaluate(model, val_loader)\n",
    "        result['train_loss'] = torch.stack(train_losses).mean().item()\n",
    "        result['lrs'] = lrs\n",
    "        model.epoch_end(epoch, result)\n",
    "        history.append(result)\n",
    "    return history"
   ]
  },
  {
   "cell_type": "code",
   "execution_count": 154,
   "id": "46efced8-079a-4502-b9e6-abe23b22d777",
   "metadata": {},
   "outputs": [
    {
     "data": {
      "text/plain": [
       "[{'val_loss': 2.3029708862304688, 'val_acc': 0.11829999089241028}]"
      ]
     },
     "execution_count": 154,
     "metadata": {},
     "output_type": "execute_result"
    }
   ],
   "source": [
    "history = [evaluate(model_1, valid_dl)]\n",
    "history"
   ]
  },
  {
   "cell_type": "code",
   "execution_count": 169,
   "id": "be306530-ff4b-4b8d-a4fc-588fab176b45",
   "metadata": {},
   "outputs": [],
   "source": [
    "epochs = 30\n",
    "max_lr = 0.01\n",
    "grad_clip = 0.1\n",
    "weight_decay = 1e-4\n",
    "opt_func = torch.optim.Adam"
   ]
  },
  {
   "cell_type": "code",
   "execution_count": 170,
   "id": "8f1d9180-73fd-44de-a781-d4c805b7ef8d",
   "metadata": {},
   "outputs": [
    {
     "name": "stdout",
     "output_type": "stream",
     "text": [
      "Epoch [0], last_lr: 0.00069, train_loss: 0.3013, val_loss: 0.3190, val_acc: 0.8917\n",
      "Epoch [1], last_lr: 0.00152, train_loss: 0.2696, val_loss: 0.3467, val_acc: 0.8799\n",
      "Epoch [2], last_lr: 0.00280, train_loss: 0.3327, val_loss: 0.4975, val_acc: 0.8393\n",
      "Epoch [3], last_lr: 0.00436, train_loss: 0.4174, val_loss: 0.5535, val_acc: 0.8151\n",
      "Epoch [4], last_lr: 0.00603, train_loss: 0.4699, val_loss: 0.6235, val_acc: 0.7929\n"
     ]
    },
    {
     "ename": "KeyboardInterrupt",
     "evalue": "",
     "output_type": "error",
     "traceback": [
      "\u001b[1;31m---------------------------------------------------------------------------\u001b[0m",
      "\u001b[1;31mKeyboardInterrupt\u001b[0m                         Traceback (most recent call last)",
      "File \u001b[1;32m<timed exec>:1\u001b[0m\n",
      "Cell \u001b[1;32mIn[152], line 28\u001b[0m, in \u001b[0;36mfit_one_cycle\u001b[1;34m(epochs, max_lr, model, train_loader, val_loader, weight_decay, grad_clip, opt_func)\u001b[0m\n\u001b[0;32m     26\u001b[0m lrs \u001b[38;5;241m=\u001b[39m []\n\u001b[0;32m     27\u001b[0m \u001b[38;5;28;01mfor\u001b[39;00m batch \u001b[38;5;129;01min\u001b[39;00m train_loader:\n\u001b[1;32m---> 28\u001b[0m     loss \u001b[38;5;241m=\u001b[39m \u001b[43mmodel\u001b[49m\u001b[38;5;241;43m.\u001b[39;49m\u001b[43mtraining_step\u001b[49m\u001b[43m(\u001b[49m\u001b[43mbatch\u001b[49m\u001b[43m)\u001b[49m\n\u001b[0;32m     29\u001b[0m     train_losses\u001b[38;5;241m.\u001b[39mappend(loss)\n\u001b[0;32m     30\u001b[0m     loss\u001b[38;5;241m.\u001b[39mbackward()\n",
      "Cell \u001b[1;32mIn[149], line 8\u001b[0m, in \u001b[0;36mImageClassificationBase.training_step\u001b[1;34m(self, batch)\u001b[0m\n\u001b[0;32m      6\u001b[0m \u001b[38;5;28;01mdef\u001b[39;00m \u001b[38;5;21mtraining_step\u001b[39m(\u001b[38;5;28mself\u001b[39m, batch):\n\u001b[0;32m      7\u001b[0m     images, labels \u001b[38;5;241m=\u001b[39m batch \n\u001b[1;32m----> 8\u001b[0m     out \u001b[38;5;241m=\u001b[39m \u001b[38;5;28;43mself\u001b[39;49m\u001b[43m(\u001b[49m\u001b[43mimages\u001b[49m\u001b[43m)\u001b[49m                  \u001b[38;5;66;03m# Generate predictions\u001b[39;00m\n\u001b[0;32m      9\u001b[0m     loss \u001b[38;5;241m=\u001b[39m F\u001b[38;5;241m.\u001b[39mcross_entropy(out, labels) \u001b[38;5;66;03m# Calculate loss\u001b[39;00m\n\u001b[0;32m     10\u001b[0m     \u001b[38;5;28;01mreturn\u001b[39;00m loss\n",
      "File \u001b[1;32m~\\AppData\\Roaming\\Python\\Python310\\site-packages\\torch\\nn\\modules\\module.py:1518\u001b[0m, in \u001b[0;36mModule._wrapped_call_impl\u001b[1;34m(self, *args, **kwargs)\u001b[0m\n\u001b[0;32m   1516\u001b[0m     \u001b[38;5;28;01mreturn\u001b[39;00m \u001b[38;5;28mself\u001b[39m\u001b[38;5;241m.\u001b[39m_compiled_call_impl(\u001b[38;5;241m*\u001b[39margs, \u001b[38;5;241m*\u001b[39m\u001b[38;5;241m*\u001b[39mkwargs)  \u001b[38;5;66;03m# type: ignore[misc]\u001b[39;00m\n\u001b[0;32m   1517\u001b[0m \u001b[38;5;28;01melse\u001b[39;00m:\n\u001b[1;32m-> 1518\u001b[0m     \u001b[38;5;28;01mreturn\u001b[39;00m \u001b[38;5;28mself\u001b[39m\u001b[38;5;241m.\u001b[39m_call_impl(\u001b[38;5;241m*\u001b[39margs, \u001b[38;5;241m*\u001b[39m\u001b[38;5;241m*\u001b[39mkwargs)\n",
      "File \u001b[1;32m~\\AppData\\Roaming\\Python\\Python310\\site-packages\\torch\\nn\\modules\\module.py:1527\u001b[0m, in \u001b[0;36mModule._call_impl\u001b[1;34m(self, *args, **kwargs)\u001b[0m\n\u001b[0;32m   1522\u001b[0m \u001b[38;5;66;03m# If we don't have any hooks, we want to skip the rest of the logic in\u001b[39;00m\n\u001b[0;32m   1523\u001b[0m \u001b[38;5;66;03m# this function, and just call forward.\u001b[39;00m\n\u001b[0;32m   1524\u001b[0m \u001b[38;5;28;01mif\u001b[39;00m \u001b[38;5;129;01mnot\u001b[39;00m (\u001b[38;5;28mself\u001b[39m\u001b[38;5;241m.\u001b[39m_backward_hooks \u001b[38;5;129;01mor\u001b[39;00m \u001b[38;5;28mself\u001b[39m\u001b[38;5;241m.\u001b[39m_backward_pre_hooks \u001b[38;5;129;01mor\u001b[39;00m \u001b[38;5;28mself\u001b[39m\u001b[38;5;241m.\u001b[39m_forward_hooks \u001b[38;5;129;01mor\u001b[39;00m \u001b[38;5;28mself\u001b[39m\u001b[38;5;241m.\u001b[39m_forward_pre_hooks\n\u001b[0;32m   1525\u001b[0m         \u001b[38;5;129;01mor\u001b[39;00m _global_backward_pre_hooks \u001b[38;5;129;01mor\u001b[39;00m _global_backward_hooks\n\u001b[0;32m   1526\u001b[0m         \u001b[38;5;129;01mor\u001b[39;00m _global_forward_hooks \u001b[38;5;129;01mor\u001b[39;00m _global_forward_pre_hooks):\n\u001b[1;32m-> 1527\u001b[0m     \u001b[38;5;28;01mreturn\u001b[39;00m forward_call(\u001b[38;5;241m*\u001b[39margs, \u001b[38;5;241m*\u001b[39m\u001b[38;5;241m*\u001b[39mkwargs)\n\u001b[0;32m   1529\u001b[0m \u001b[38;5;28;01mtry\u001b[39;00m:\n\u001b[0;32m   1530\u001b[0m     result \u001b[38;5;241m=\u001b[39m \u001b[38;5;28;01mNone\u001b[39;00m\n",
      "Cell \u001b[1;32mIn[150], line 26\u001b[0m, in \u001b[0;36mResNet9.forward\u001b[1;34m(self, xb)\u001b[0m\n\u001b[0;32m     24\u001b[0m \u001b[38;5;28;01mdef\u001b[39;00m \u001b[38;5;21mforward\u001b[39m(\u001b[38;5;28mself\u001b[39m, xb):\n\u001b[0;32m     25\u001b[0m     out \u001b[38;5;241m=\u001b[39m \u001b[38;5;28mself\u001b[39m\u001b[38;5;241m.\u001b[39mconv1(xb)\n\u001b[1;32m---> 26\u001b[0m     out \u001b[38;5;241m=\u001b[39m \u001b[38;5;28;43mself\u001b[39;49m\u001b[38;5;241;43m.\u001b[39;49m\u001b[43mconv2\u001b[49m\u001b[43m(\u001b[49m\u001b[43mout\u001b[49m\u001b[43m)\u001b[49m\n\u001b[0;32m     27\u001b[0m     out \u001b[38;5;241m=\u001b[39m \u001b[38;5;28mself\u001b[39m\u001b[38;5;241m.\u001b[39mres1(out) \u001b[38;5;241m+\u001b[39m out\n\u001b[0;32m     28\u001b[0m     out \u001b[38;5;241m=\u001b[39m \u001b[38;5;28mself\u001b[39m\u001b[38;5;241m.\u001b[39mconv3(out)\n",
      "File \u001b[1;32m~\\AppData\\Roaming\\Python\\Python310\\site-packages\\torch\\nn\\modules\\module.py:1518\u001b[0m, in \u001b[0;36mModule._wrapped_call_impl\u001b[1;34m(self, *args, **kwargs)\u001b[0m\n\u001b[0;32m   1516\u001b[0m     \u001b[38;5;28;01mreturn\u001b[39;00m \u001b[38;5;28mself\u001b[39m\u001b[38;5;241m.\u001b[39m_compiled_call_impl(\u001b[38;5;241m*\u001b[39margs, \u001b[38;5;241m*\u001b[39m\u001b[38;5;241m*\u001b[39mkwargs)  \u001b[38;5;66;03m# type: ignore[misc]\u001b[39;00m\n\u001b[0;32m   1517\u001b[0m \u001b[38;5;28;01melse\u001b[39;00m:\n\u001b[1;32m-> 1518\u001b[0m     \u001b[38;5;28;01mreturn\u001b[39;00m \u001b[38;5;28mself\u001b[39m\u001b[38;5;241m.\u001b[39m_call_impl(\u001b[38;5;241m*\u001b[39margs, \u001b[38;5;241m*\u001b[39m\u001b[38;5;241m*\u001b[39mkwargs)\n",
      "File \u001b[1;32m~\\AppData\\Roaming\\Python\\Python310\\site-packages\\torch\\nn\\modules\\module.py:1527\u001b[0m, in \u001b[0;36mModule._call_impl\u001b[1;34m(self, *args, **kwargs)\u001b[0m\n\u001b[0;32m   1522\u001b[0m \u001b[38;5;66;03m# If we don't have any hooks, we want to skip the rest of the logic in\u001b[39;00m\n\u001b[0;32m   1523\u001b[0m \u001b[38;5;66;03m# this function, and just call forward.\u001b[39;00m\n\u001b[0;32m   1524\u001b[0m \u001b[38;5;28;01mif\u001b[39;00m \u001b[38;5;129;01mnot\u001b[39;00m (\u001b[38;5;28mself\u001b[39m\u001b[38;5;241m.\u001b[39m_backward_hooks \u001b[38;5;129;01mor\u001b[39;00m \u001b[38;5;28mself\u001b[39m\u001b[38;5;241m.\u001b[39m_backward_pre_hooks \u001b[38;5;129;01mor\u001b[39;00m \u001b[38;5;28mself\u001b[39m\u001b[38;5;241m.\u001b[39m_forward_hooks \u001b[38;5;129;01mor\u001b[39;00m \u001b[38;5;28mself\u001b[39m\u001b[38;5;241m.\u001b[39m_forward_pre_hooks\n\u001b[0;32m   1525\u001b[0m         \u001b[38;5;129;01mor\u001b[39;00m _global_backward_pre_hooks \u001b[38;5;129;01mor\u001b[39;00m _global_backward_hooks\n\u001b[0;32m   1526\u001b[0m         \u001b[38;5;129;01mor\u001b[39;00m _global_forward_hooks \u001b[38;5;129;01mor\u001b[39;00m _global_forward_pre_hooks):\n\u001b[1;32m-> 1527\u001b[0m     \u001b[38;5;28;01mreturn\u001b[39;00m forward_call(\u001b[38;5;241m*\u001b[39margs, \u001b[38;5;241m*\u001b[39m\u001b[38;5;241m*\u001b[39mkwargs)\n\u001b[0;32m   1529\u001b[0m \u001b[38;5;28;01mtry\u001b[39;00m:\n\u001b[0;32m   1530\u001b[0m     result \u001b[38;5;241m=\u001b[39m \u001b[38;5;28;01mNone\u001b[39;00m\n",
      "File \u001b[1;32m~\\AppData\\Roaming\\Python\\Python310\\site-packages\\torch\\nn\\modules\\container.py:215\u001b[0m, in \u001b[0;36mSequential.forward\u001b[1;34m(self, input)\u001b[0m\n\u001b[0;32m    213\u001b[0m \u001b[38;5;28;01mdef\u001b[39;00m \u001b[38;5;21mforward\u001b[39m(\u001b[38;5;28mself\u001b[39m, \u001b[38;5;28minput\u001b[39m):\n\u001b[0;32m    214\u001b[0m     \u001b[38;5;28;01mfor\u001b[39;00m module \u001b[38;5;129;01min\u001b[39;00m \u001b[38;5;28mself\u001b[39m:\n\u001b[1;32m--> 215\u001b[0m         \u001b[38;5;28minput\u001b[39m \u001b[38;5;241m=\u001b[39m \u001b[43mmodule\u001b[49m\u001b[43m(\u001b[49m\u001b[38;5;28;43minput\u001b[39;49m\u001b[43m)\u001b[49m\n\u001b[0;32m    216\u001b[0m     \u001b[38;5;28;01mreturn\u001b[39;00m \u001b[38;5;28minput\u001b[39m\n",
      "File \u001b[1;32m~\\AppData\\Roaming\\Python\\Python310\\site-packages\\torch\\nn\\modules\\module.py:1518\u001b[0m, in \u001b[0;36mModule._wrapped_call_impl\u001b[1;34m(self, *args, **kwargs)\u001b[0m\n\u001b[0;32m   1516\u001b[0m     \u001b[38;5;28;01mreturn\u001b[39;00m \u001b[38;5;28mself\u001b[39m\u001b[38;5;241m.\u001b[39m_compiled_call_impl(\u001b[38;5;241m*\u001b[39margs, \u001b[38;5;241m*\u001b[39m\u001b[38;5;241m*\u001b[39mkwargs)  \u001b[38;5;66;03m# type: ignore[misc]\u001b[39;00m\n\u001b[0;32m   1517\u001b[0m \u001b[38;5;28;01melse\u001b[39;00m:\n\u001b[1;32m-> 1518\u001b[0m     \u001b[38;5;28;01mreturn\u001b[39;00m \u001b[38;5;28mself\u001b[39m\u001b[38;5;241m.\u001b[39m_call_impl(\u001b[38;5;241m*\u001b[39margs, \u001b[38;5;241m*\u001b[39m\u001b[38;5;241m*\u001b[39mkwargs)\n",
      "File \u001b[1;32m~\\AppData\\Roaming\\Python\\Python310\\site-packages\\torch\\nn\\modules\\module.py:1527\u001b[0m, in \u001b[0;36mModule._call_impl\u001b[1;34m(self, *args, **kwargs)\u001b[0m\n\u001b[0;32m   1522\u001b[0m \u001b[38;5;66;03m# If we don't have any hooks, we want to skip the rest of the logic in\u001b[39;00m\n\u001b[0;32m   1523\u001b[0m \u001b[38;5;66;03m# this function, and just call forward.\u001b[39;00m\n\u001b[0;32m   1524\u001b[0m \u001b[38;5;28;01mif\u001b[39;00m \u001b[38;5;129;01mnot\u001b[39;00m (\u001b[38;5;28mself\u001b[39m\u001b[38;5;241m.\u001b[39m_backward_hooks \u001b[38;5;129;01mor\u001b[39;00m \u001b[38;5;28mself\u001b[39m\u001b[38;5;241m.\u001b[39m_backward_pre_hooks \u001b[38;5;129;01mor\u001b[39;00m \u001b[38;5;28mself\u001b[39m\u001b[38;5;241m.\u001b[39m_forward_hooks \u001b[38;5;129;01mor\u001b[39;00m \u001b[38;5;28mself\u001b[39m\u001b[38;5;241m.\u001b[39m_forward_pre_hooks\n\u001b[0;32m   1525\u001b[0m         \u001b[38;5;129;01mor\u001b[39;00m _global_backward_pre_hooks \u001b[38;5;129;01mor\u001b[39;00m _global_backward_hooks\n\u001b[0;32m   1526\u001b[0m         \u001b[38;5;129;01mor\u001b[39;00m _global_forward_hooks \u001b[38;5;129;01mor\u001b[39;00m _global_forward_pre_hooks):\n\u001b[1;32m-> 1527\u001b[0m     \u001b[38;5;28;01mreturn\u001b[39;00m forward_call(\u001b[38;5;241m*\u001b[39margs, \u001b[38;5;241m*\u001b[39m\u001b[38;5;241m*\u001b[39mkwargs)\n\u001b[0;32m   1529\u001b[0m \u001b[38;5;28;01mtry\u001b[39;00m:\n\u001b[0;32m   1530\u001b[0m     result \u001b[38;5;241m=\u001b[39m \u001b[38;5;28;01mNone\u001b[39;00m\n",
      "File \u001b[1;32m~\\AppData\\Roaming\\Python\\Python310\\site-packages\\torch\\nn\\modules\\conv.py:460\u001b[0m, in \u001b[0;36mConv2d.forward\u001b[1;34m(self, input)\u001b[0m\n\u001b[0;32m    459\u001b[0m \u001b[38;5;28;01mdef\u001b[39;00m \u001b[38;5;21mforward\u001b[39m(\u001b[38;5;28mself\u001b[39m, \u001b[38;5;28minput\u001b[39m: Tensor) \u001b[38;5;241m-\u001b[39m\u001b[38;5;241m>\u001b[39m Tensor:\n\u001b[1;32m--> 460\u001b[0m     \u001b[38;5;28;01mreturn\u001b[39;00m \u001b[38;5;28;43mself\u001b[39;49m\u001b[38;5;241;43m.\u001b[39;49m\u001b[43m_conv_forward\u001b[49m\u001b[43m(\u001b[49m\u001b[38;5;28;43minput\u001b[39;49m\u001b[43m,\u001b[49m\u001b[43m \u001b[49m\u001b[38;5;28;43mself\u001b[39;49m\u001b[38;5;241;43m.\u001b[39;49m\u001b[43mweight\u001b[49m\u001b[43m,\u001b[49m\u001b[43m \u001b[49m\u001b[38;5;28;43mself\u001b[39;49m\u001b[38;5;241;43m.\u001b[39;49m\u001b[43mbias\u001b[49m\u001b[43m)\u001b[49m\n",
      "File \u001b[1;32m~\\AppData\\Roaming\\Python\\Python310\\site-packages\\torch\\nn\\modules\\conv.py:456\u001b[0m, in \u001b[0;36mConv2d._conv_forward\u001b[1;34m(self, input, weight, bias)\u001b[0m\n\u001b[0;32m    452\u001b[0m \u001b[38;5;28;01mif\u001b[39;00m \u001b[38;5;28mself\u001b[39m\u001b[38;5;241m.\u001b[39mpadding_mode \u001b[38;5;241m!=\u001b[39m \u001b[38;5;124m'\u001b[39m\u001b[38;5;124mzeros\u001b[39m\u001b[38;5;124m'\u001b[39m:\n\u001b[0;32m    453\u001b[0m     \u001b[38;5;28;01mreturn\u001b[39;00m F\u001b[38;5;241m.\u001b[39mconv2d(F\u001b[38;5;241m.\u001b[39mpad(\u001b[38;5;28minput\u001b[39m, \u001b[38;5;28mself\u001b[39m\u001b[38;5;241m.\u001b[39m_reversed_padding_repeated_twice, mode\u001b[38;5;241m=\u001b[39m\u001b[38;5;28mself\u001b[39m\u001b[38;5;241m.\u001b[39mpadding_mode),\n\u001b[0;32m    454\u001b[0m                     weight, bias, \u001b[38;5;28mself\u001b[39m\u001b[38;5;241m.\u001b[39mstride,\n\u001b[0;32m    455\u001b[0m                     _pair(\u001b[38;5;241m0\u001b[39m), \u001b[38;5;28mself\u001b[39m\u001b[38;5;241m.\u001b[39mdilation, \u001b[38;5;28mself\u001b[39m\u001b[38;5;241m.\u001b[39mgroups)\n\u001b[1;32m--> 456\u001b[0m \u001b[38;5;28;01mreturn\u001b[39;00m \u001b[43mF\u001b[49m\u001b[38;5;241;43m.\u001b[39;49m\u001b[43mconv2d\u001b[49m\u001b[43m(\u001b[49m\u001b[38;5;28;43minput\u001b[39;49m\u001b[43m,\u001b[49m\u001b[43m \u001b[49m\u001b[43mweight\u001b[49m\u001b[43m,\u001b[49m\u001b[43m \u001b[49m\u001b[43mbias\u001b[49m\u001b[43m,\u001b[49m\u001b[43m \u001b[49m\u001b[38;5;28;43mself\u001b[39;49m\u001b[38;5;241;43m.\u001b[39;49m\u001b[43mstride\u001b[49m\u001b[43m,\u001b[49m\n\u001b[0;32m    457\u001b[0m \u001b[43m                \u001b[49m\u001b[38;5;28;43mself\u001b[39;49m\u001b[38;5;241;43m.\u001b[39;49m\u001b[43mpadding\u001b[49m\u001b[43m,\u001b[49m\u001b[43m \u001b[49m\u001b[38;5;28;43mself\u001b[39;49m\u001b[38;5;241;43m.\u001b[39;49m\u001b[43mdilation\u001b[49m\u001b[43m,\u001b[49m\u001b[43m \u001b[49m\u001b[38;5;28;43mself\u001b[39;49m\u001b[38;5;241;43m.\u001b[39;49m\u001b[43mgroups\u001b[49m\u001b[43m)\u001b[49m\n",
      "\u001b[1;31mKeyboardInterrupt\u001b[0m: "
     ]
    }
   ],
   "source": [
    "%%time\n",
    "history += fit_one_cycle(epochs, max_lr, model_1, train_dl, valid_dl, \n",
    "                             grad_clip=grad_clip, \n",
    "                             weight_decay=weight_decay, \n",
    "                             opt_func=opt_func)"
   ]
  },
  {
   "cell_type": "code",
   "execution_count": 158,
   "id": "69fd162d-19ac-4db1-92c1-000cbe822f39",
   "metadata": {},
   "outputs": [],
   "source": [
    "def plot_accuracies(history):\n",
    "    accuracies = [x['val_acc'] for x in history]\n",
    "    plt.plot(accuracies, '-x')\n",
    "    plt.xlabel('epoch')\n",
    "    plt.ylabel('accuracy')\n",
    "    plt.title('Accuracy vs. No. of epochs');"
   ]
  },
  {
   "cell_type": "code",
   "execution_count": 159,
   "id": "256119bc-1f1d-44ff-96e6-d514bdddb871",
   "metadata": {},
   "outputs": [
    {
     "data": {
      "image/png": "[encoded data removed]",
      "text/plain": [
       "<Figure size 640x480 with 1 Axes>"
      ]
     },
     "metadata": {},
     "output_type": "display_data"
    }
   ],
   "source": [
    "plot_accuracies(history)"
   ]
  },
  {
   "cell_type": "code",
   "execution_count": 160,
   "id": "c44af78a-df52-4223-b929-37fa5e34221e",
   "metadata": {},
   "outputs": [],
   "source": [
    "def plot_losses(history):\n",
    "    train_losses = [x.get('train_loss') for x in history]\n",
    "    val_losses = [x['val_loss'] for x in history]\n",
    "    plt.plot(train_losses, '-bx')\n",
    "    plt.plot(val_losses, '-rx')\n",
    "    plt.xlabel('epoch')\n",
    "    plt.ylabel('loss')\n",
    "    plt.legend(['Training', 'Validation'])\n",
    "    plt.title('Loss vs. No. of epochs');"
   ]
  },
  {
   "cell_type": "code",
   "execution_count": 161,
   "id": "0292247a-c8c5-410b-b0a0-ddcf5df83ef6",
   "metadata": {},
   "outputs": [
    {
     "data": {
      "image/png": "[encoded data removed]",
      "text/plain": [
       "<Figure size 640x480 with 1 Axes>"
      ]
     },
     "metadata": {},
     "output_type": "display_data"
    }
   ],
   "source": [
    "plot_losses(history)"
   ]
  },
  {
   "cell_type": "code",
   "execution_count": 162,
   "id": "4c2752ee-8e3e-4bbb-8e96-ed3f377a999c",
   "metadata": {},
   "outputs": [],
   "source": [
    "def plot_lrs(history):\n",
    "    lrs = np.concatenate([x.get('lrs', []) for x in history])\n",
    "    plt.plot(lrs)\n",
    "    plt.xlabel('Batch no.')\n",
    "    plt.ylabel('Learning rate')\n",
    "    plt.title('Learning Rate vs. Batch no.');"
   ]
  },
  {
   "cell_type": "code",
   "execution_count": 163,
   "id": "f1d77cab-4e12-443c-8c4f-e9129f0a7775",
   "metadata": {},
   "outputs": [
    {
     "data": {
      "image/png": "[encoded data removed]",
      "text/plain": [
       "<Figure size 640x480 with 1 Axes>"
      ]
     },
     "metadata": {},
     "output_type": "display_data"
    }
   ],
   "source": [
    "plot_lrs(history)"
   ]
  },
  {
   "cell_type": "code",
   "execution_count": 166,
   "id": "472a189a-5066-4048-a34c-e813ccd509bf",
   "metadata": {},
   "outputs": [
    {
     "name": "stdout",
     "output_type": "stream",
     "text": [
      "saving model to: models\\01_ResNet_model_1.pth\n"
     ]
    }
   ],
   "source": [
    "# #1.create models directory\n",
    "# MODEL_PATH =  Path(\"models\")\n",
    "# MODEL_PATH.mkdir(parents=True, exist_ok=True)\n",
    "\n",
    "# # 2. creat model save path\n",
    "# MODEL_NAME = \"01_ResNet_model_1.pth\"\n",
    "# MODEL_SAVE_PATH = MODEL_PATH / MODEL_NAME\n",
    "\n",
    "# #save the model stat dict\n",
    "# print(f\"saving model to: {MODEL_SAVE_PATH}\")\n",
    "# torch.save(obj=model_1.state_dict(), f=MODEL_SAVE_PATH)"
   ]
  },
  {
   "cell_type": "markdown",
   "id": "a85ade0d-5e09-4606-8659-7d9799bee3fb",
   "metadata": {},
   "source": [
    "# model 3"
   ]
  },
  {
   "cell_type": "code",
   "execution_count": 209,
   "id": "e5a057a2-e00a-4409-81c1-283f5cc0c017",
   "metadata": {},
   "outputs": [],
   "source": [
    "class Cifar10CnnModel(ImageClassificationBase):\n",
    "    def __init__(self):\n",
    "        super().__init__()\n",
    "        self.network = nn.Sequential(\n",
    "            nn.Conv2d(3, 32, kernel_size=3, padding=1),\n",
    "            nn.ReLU(),\n",
    "            nn.Conv2d(32, 64, kernel_size=3, stride=1, padding=1),\n",
    "            nn.ReLU(),\n",
    "            nn.MaxPool2d(2, 2), # output: 64 x 16 x 16\n",
    "\n",
    "            nn.Conv2d(64, 128, kernel_size=3, stride=1, padding=1),\n",
    "            nn.ReLU(),\n",
    "            nn.Conv2d(128, 128, kernel_size=3, stride=1, padding=1),\n",
    "            nn.ReLU(),\n",
    "            nn.MaxPool2d(2, 2), # output: 128 x 8 x 8\n",
    "\n",
    "            nn.Conv2d(128, 256, kernel_size=3, stride=1, padding=1),\n",
    "            nn.ReLU(),\n",
    "            nn.Conv2d(256, 256, kernel_size=3, stride=1, padding=1),\n",
    "            nn.ReLU(),\n",
    "            nn.MaxPool2d(2, 2), # output: 256 x 4 x 4\n",
    "\n",
    "            nn.Flatten(), \n",
    "            nn.Linear(256*4*4, 1024),\n",
    "            nn.ReLU(),\n",
    "            nn.Linear(1024, 512),\n",
    "            nn.ReLU(),\n",
    "            nn.Linear(512, 10))\n",
    "        \n",
    "    def forward(self, xb):\n",
    "        return self.network(xb)"
   ]
  },
  {
   "cell_type": "code",
   "execution_count": 210,
   "id": "160edb09-5884-485a-8d63-f2afa5824ed8",
   "metadata": {},
   "outputs": [],
   "source": [
    "model_3 =Cifar10CnnModel()"
   ]
  },
  {
   "cell_type": "code",
   "execution_count": 212,
   "id": "e63d327f-7adf-4096-afd4-5596a8e89bfc",
   "metadata": {},
   "outputs": [
    {
     "data": {
      "text/plain": [
       "=================================================================\n",
       "Layer (type:depth-idx)                   Param #\n",
       "=================================================================\n",
       "Cifar10CnnModel                          --\n",
       "├─Sequential: 1-1                        --\n",
       "│    └─Conv2d: 2-1                       896\n",
       "│    └─ReLU: 2-2                         --\n",
       "│    └─Conv2d: 2-3                       18,496\n",
       "│    └─ReLU: 2-4                         --\n",
       "│    └─MaxPool2d: 2-5                    --\n",
       "│    └─Conv2d: 2-6                       73,856\n",
       "│    └─ReLU: 2-7                         --\n",
       "│    └─Conv2d: 2-8                       147,584\n",
       "│    └─ReLU: 2-9                         --\n",
       "│    └─MaxPool2d: 2-10                   --\n",
       "│    └─Conv2d: 2-11                      295,168\n",
       "│    └─ReLU: 2-12                        --\n",
       "│    └─Conv2d: 2-13                      590,080\n",
       "│    └─ReLU: 2-14                        --\n",
       "│    └─MaxPool2d: 2-15                   --\n",
       "│    └─Flatten: 2-16                     --\n",
       "│    └─Linear: 2-17                      4,195,328\n",
       "│    └─ReLU: 2-18                        --\n",
       "│    └─Linear: 2-19                      524,800\n",
       "│    └─ReLU: 2-20                        --\n",
       "│    └─Linear: 2-21                      5,130\n",
       "=================================================================\n",
       "Total params: 5,851,338\n",
       "Trainable params: 5,851,338\n",
       "Non-trainable params: 0\n",
       "================================================================="
      ]
     },
     "execution_count": 212,
     "metadata": {},
     "output_type": "execute_result"
    }
   ],
   "source": [
    "summary(model_3)"
   ]
  },
  {
   "cell_type": "markdown",
   "id": "389fb6fc-661a-40f4-bfbc-d4dbfb906c11",
   "metadata": {},
   "source": [
    "# git models"
   ]
  },
  {
   "cell_type": "code",
   "execution_count": 29,
   "id": "033d0a46-907a-4089-84ac-fcccb93e9aae",
   "metadata": {
    "tags": []
   },
   "outputs": [
    {
     "name": "stderr",
     "output_type": "stream",
     "text": [
      "Using cache found in C:\\Users\\POUYA/.cache\\torch\\hub\\chenyaofo_pytorch-cifar-models_master\n",
      "Using cache found in C:\\Users\\POUYA/.cache\\torch\\hub\\chenyaofo_pytorch-cifar-models_master\n",
      "Using cache found in C:\\Users\\POUYA/.cache\\torch\\hub\\chenyaofo_pytorch-cifar-models_master\n",
      "Using cache found in C:\\Users\\POUYA/.cache\\torch\\hub\\chenyaofo_pytorch-cifar-models_master\n",
      "Using cache found in C:\\Users\\POUYA/.cache\\torch\\hub\\chenyaofo_pytorch-cifar-models_master\n",
      "Using cache found in C:\\Users\\POUYA/.cache\\torch\\hub\\chenyaofo_pytorch-cifar-models_master\n",
      "Using cache found in C:\\Users\\POUYA/.cache\\torch\\hub\\chenyaofo_pytorch-cifar-models_master\n",
      "Using cache found in C:\\Users\\POUYA/.cache\\torch\\hub\\chenyaofo_pytorch-cifar-models_master\n",
      "Using cache found in C:\\Users\\POUYA/.cache\\torch\\hub\\chenyaofo_pytorch-cifar-models_master\n",
      "Using cache found in C:\\Users\\POUYA/.cache\\torch\\hub\\chenyaofo_pytorch-cifar-models_master\n",
      "Using cache found in C:\\Users\\POUYA/.cache\\torch\\hub\\chenyaofo_pytorch-cifar-models_master\n",
      "Using cache found in C:\\Users\\POUYA/.cache\\torch\\hub\\chenyaofo_pytorch-cifar-models_master\n"
     ]
    }
   ],
   "source": [
    "\n",
    "model_4 = torch.hub.load(\"chenyaofo/pytorch-cifar-models\", \"cifar10_resnet20\", pretrained=True).to(device)\n",
    "model_5 = torch.hub.load(\"chenyaofo/pytorch-cifar-models\", \"cifar10_resnet32\", pretrained=True).to(device)\n",
    "model_6 = torch.hub.load(\"chenyaofo/pytorch-cifar-models\", \"cifar10_resnet44\", pretrained=True).to(device)\n",
    "model_7 = torch.hub.load(\"chenyaofo/pytorch-cifar-models\", \"cifar10_resnet56\", pretrained=True).to(device)\n",
    "model_8 = torch.hub.load(\"chenyaofo/pytorch-cifar-models\", \"cifar10_mobilenetv2_x0_5\", pretrained=True).to(device)\n",
    "model_9 = torch.hub.load(\"chenyaofo/pytorch-cifar-models\", \"cifar10_shufflenetv2_x0_5\", pretrained=True).to(device)\n",
    "\n",
    "model_4_r = torch.hub.load(\"chenyaofo/pytorch-cifar-models\", \"cifar10_resnet20\", pretrained=False).to(device)\n",
    "model_5_r = torch.hub.load(\"chenyaofo/pytorch-cifar-models\", \"cifar10_resnet32\", pretrained=False).to(device)\n",
    "model_6_r = torch.hub.load(\"chenyaofo/pytorch-cifar-models\", \"cifar10_resnet44\", pretrained=False).to(device)\n",
    "model_7_r = torch.hub.load(\"chenyaofo/pytorch-cifar-models\", \"cifar10_resnet56\", pretrained=False).to(device)\n",
    "model_8_r = torch.hub.load(\"chenyaofo/pytorch-cifar-models\", \"cifar10_mobilenetv2_x0_5\", pretrained=False).to(device)\n",
    "model_9_r = torch.hub.load(\"chenyaofo/pytorch-cifar-models\", \"cifar10_shufflenetv2_x0_5\", pretrained=False).to(device)\n"
   ]
  },
  {
   "cell_type": "code",
   "execution_count": 217,
   "id": "07a79430-6e91-47f1-8c69-c58b37acbdbf",
   "metadata": {},
   "outputs": [
    {
     "data": {
      "application/vnd.jupyter.widget-view+json": {
       "model_id": "5b01a4eedf4149008551114ae74b237b",
       "version_major": 2,
       "version_minor": 0
      },
      "text/plain": [
       "  0%|          | 0/10 [00:00<?, ?it/s]"
      ]
     },
     "metadata": {},
     "output_type": "display_data"
    },
    {
     "name": "stdout",
     "output_type": "stream",
     "text": [
      "Epoch: 0 | Train loss:  2.0459 | Train acc:  0.2257 | Test loss:  1.8139 | Test acc:  0.2978 \n",
      "Epoch: 1 | Train loss:  1.6878 | Train acc:  0.3508 | Test loss:  1.5223 | Test acc:  0.4071 \n",
      "Epoch: 2 | Train loss:  1.4490 | Train acc:  0.4620 | Test loss:  1.3461 | Test acc:  0.5014 \n",
      "Epoch: 3 | Train loss:  1.2635 | Train acc:  0.5406 | Test loss:  1.3038 | Test acc:  0.5359 \n",
      "Epoch: 4 | Train loss:  1.1459 | Train acc:  0.5897 | Test loss:  1.3851 | Test acc:  0.5385 \n",
      "Epoch: 5 | Train loss:  1.0283 | Train acc:  0.6373 | Test loss:  1.0063 | Test acc:  0.6391 \n",
      "Epoch: 6 | Train loss:  0.9581 | Train acc:  0.6636 | Test loss:  1.0129 | Test acc:  0.6580 \n",
      "Epoch: 7 | Train loss:  0.8972 | Train acc:  0.6857 | Test loss:  1.1664 | Test acc:  0.6174 \n",
      "Epoch: 8 | Train loss:  0.8497 | Train acc:  0.7040 | Test loss:  0.8878 | Test acc:  0.6888 \n",
      "Epoch: 9 | Train loss:  0.8055 | Train acc:  0.7181 | Test loss:  0.9406 | Test acc:  0.6880 \n",
      "total training time for model_6: 3233.558 seconds\n"
     ]
    }
   ],
   "source": [
    "NUM_EPOCHS = 10\n",
    "\n",
    "loss_fn = nn.CrossEntropyLoss()\n",
    "optimizer = torch.optim.Adam(params=model_6_r.parameters(),\n",
    "                            lr = 0.1)\n",
    "\n",
    "from timeit import default_timer as timer\n",
    "start_time = timer()\n",
    "model_6_results = train(model= model_6_r,\n",
    "                       train_dataloader=  train_dataloader,\n",
    "                       test_dataloader= test_dataloader,\n",
    "                       optimizer = optimizer,\n",
    "                       loss_fn=loss_fn,\n",
    "                       epochs=NUM_EPOCHS)\n",
    "end_time = timer()\n",
    "print(f\"total training time for model_6: {end_time - start_time:.3f} seconds\")"
   ]
  },
  {
   "cell_type": "code",
   "execution_count": 218,
   "id": "c3fa600b-1bf7-47eb-9dce-b9077b41dcf3",
   "metadata": {},
   "outputs": [
    {
     "data": {
      "application/vnd.jupyter.widget-view+json": {
       "model_id": "2e3e83a151b94cf985a91034716506e7",
       "version_major": 2,
       "version_minor": 0
      },
      "text/plain": [
       "  0%|          | 0/10 [00:00<?, ?it/s]"
      ]
     },
     "metadata": {},
     "output_type": "display_data"
    },
    {
     "name": "stdout",
     "output_type": "stream",
     "text": [
      "Epoch: 0 | Train loss:  0.7908 | Train acc:  0.7269 | Test loss:  1.2721 | Test acc:  0.6010 \n",
      "Epoch: 1 | Train loss:  0.7450 | Train acc:  0.7428 | Test loss:  0.8660 | Test acc:  0.7136 \n",
      "Epoch: 2 | Train loss:  0.7093 | Train acc:  0.7552 | Test loss:  0.7800 | Test acc:  0.7301 \n",
      "Epoch: 3 | Train loss:  0.6815 | Train acc:  0.7649 | Test loss:  0.7116 | Test acc:  0.7540 \n",
      "Epoch: 4 | Train loss:  0.6581 | Train acc:  0.7737 | Test loss:  0.9093 | Test acc:  0.7086 \n",
      "Epoch: 5 | Train loss:  0.6287 | Train acc:  0.7848 | Test loss:  0.6780 | Test acc:  0.7737 \n",
      "Epoch: 6 | Train loss:  0.6181 | Train acc:  0.7904 | Test loss:  0.6494 | Test acc:  0.7859 \n",
      "Epoch: 7 | Train loss:  0.5891 | Train acc:  0.7969 | Test loss:  0.5744 | Test acc:  0.8078 \n",
      "Epoch: 8 | Train loss:  0.5756 | Train acc:  0.8059 | Test loss:  0.6590 | Test acc:  0.7882 \n",
      "Epoch: 9 | Train loss:  0.5586 | Train acc:  0.8105 | Test loss:  0.6260 | Test acc:  0.7883 \n",
      "total training time for model_6: 3220.997 seconds\n"
     ]
    }
   ],
   "source": [
    "NUM_EPOCHS = 10\n",
    "\n",
    "loss_fn = nn.CrossEntropyLoss()\n",
    "optimizer = torch.optim.Adam(params=model_6_r.parameters(),\n",
    "                            lr = 0.1)\n",
    "\n",
    "from timeit import default_timer as timer\n",
    "start_time = timer()\n",
    "model_6_results = train(model= model_6_r,\n",
    "                       train_dataloader=  train_dataloader,\n",
    "                       test_dataloader= test_dataloader,\n",
    "                       optimizer = optimizer,\n",
    "                       loss_fn=loss_fn,\n",
    "                       epochs=NUM_EPOCHS)\n",
    "end_time = timer()\n",
    "print(f\"total training time for model_6: {end_time - start_time:.3f} seconds\")"
   ]
  },
  {
   "cell_type": "code",
   "execution_count": 225,
   "id": "5bc5459e-1b8e-45d3-95f4-15e18f2273b5",
   "metadata": {},
   "outputs": [
    {
     "name": "stdout",
     "output_type": "stream",
     "text": [
      "saving model to: models\\01_ResNet_model_44.pth\n"
     ]
    }
   ],
   "source": [
    "# #1.create models directory\n",
    "# MODEL_PATH =  Path(\"models\")\n",
    "# MODEL_PATH.mkdir(parents=True, exist_ok=True)\n",
    "\n",
    "# # 2. creat model save path\n",
    "# MODEL_NAME = \"01_ResNet_model_44.pth\"\n",
    "# MODEL_SAVE_PATH = MODEL_PATH / MODEL_NAME\n",
    "\n",
    "# #save the model stat dict\n",
    "# print(f\"saving model to: {MODEL_SAVE_PATH}\")\n",
    "# torch.save(obj=model_6_r.state_dict(), f=MODEL_SAVE_PATH)"
   ]
  },
  {
   "cell_type": "code",
   "execution_count": null,
   "id": "106e878d-ad6d-4ac6-b8a5-5ff71db0936d",
   "metadata": {},
   "outputs": [
    {
     "data": {
      "application/vnd.jupyter.widget-view+json": {
       "model_id": "",
       "version_major": 2,
       "version_minor": 0
      },
      "text/plain": [
       "  0%|          | 0/30 [00:00<?, ?it/s]"
      ]
     },
     "metadata": {},
     "output_type": "display_data"
    },
    {
     "name": "stdout",
     "output_type": "stream",
     "text": [
      "Epoch: 0 | Train loss:  0.5497 | Train acc:  0.8102 | Test loss:  0.6549 | Test acc:  0.7838 \n",
      "Epoch: 1 | Train loss:  0.5358 | Train acc:  0.8186 | Test loss:  0.5328 | Test acc:  0.8245 \n",
      "Epoch: 2 | Train loss:  0.5386 | Train acc:  0.8179 | Test loss:  0.5176 | Test acc:  0.8277 \n",
      "Epoch: 3 | Train loss:  0.5170 | Train acc:  0.8239 | Test loss:  0.5458 | Test acc:  0.8178 \n",
      "Epoch: 4 | Train loss:  0.5014 | Train acc:  0.8308 | Test loss:  0.6172 | Test acc:  0.8040 \n",
      "Epoch: 5 | Train loss:  0.4869 | Train acc:  0.8355 | Test loss:  0.6060 | Test acc:  0.7989 \n",
      "Epoch: 6 | Train loss:  0.4785 | Train acc:  0.8370 | Test loss:  0.5641 | Test acc:  0.8270 \n",
      "Epoch: 7 | Train loss:  0.4691 | Train acc:  0.8416 | Test loss:  0.6654 | Test acc:  0.7826 \n",
      "Epoch: 8 | Train loss:  0.4639 | Train acc:  0.8443 | Test loss:  0.5007 | Test acc:  0.8374 \n",
      "Epoch: 9 | Train loss:  0.4543 | Train acc:  0.8465 | Test loss:  0.6010 | Test acc:  0.8120 \n",
      "Epoch: 10 | Train loss:  0.4447 | Train acc:  0.8505 | Test loss:  0.4925 | Test acc:  0.8415 \n",
      "Epoch: 11 | Train loss:  0.4410 | Train acc:  0.8521 | Test loss:  0.5464 | Test acc:  0.8209 \n",
      "Epoch: 12 | Train loss:  0.4331 | Train acc:  0.8533 | Test loss:  0.4956 | Test acc:  0.8392 \n",
      "Epoch: 13 | Train loss:  0.4301 | Train acc:  0.8528 | Test loss:  0.4963 | Test acc:  0.8359 \n",
      "Epoch: 14 | Train loss:  0.4186 | Train acc:  0.8587 | Test loss:  0.5196 | Test acc:  0.8336 \n",
      "Epoch: 15 | Train loss:  0.4160 | Train acc:  0.8592 | Test loss:  0.4950 | Test acc:  0.8341 \n",
      "Epoch: 16 | Train loss:  0.4101 | Train acc:  0.8621 | Test loss:  0.5054 | Test acc:  0.8318 \n",
      "Epoch: 17 | Train loss:  0.4060 | Train acc:  0.8621 | Test loss:  0.5479 | Test acc:  0.8280 \n",
      "Epoch: 18 | Train loss:  0.3961 | Train acc:  0.8671 | Test loss:  0.4522 | Test acc:  0.8510 \n",
      "Epoch: 19 | Train loss:  0.4004 | Train acc:  0.8657 | Test loss:  0.5004 | Test acc:  0.8378 \n",
      "Epoch: 20 | Train loss:  0.3864 | Train acc:  0.8698 | Test loss:  0.4833 | Test acc:  0.8507 \n",
      "Epoch: 21 | Train loss:  0.3785 | Train acc:  0.8725 | Test loss:  0.5766 | Test acc:  0.8226 \n",
      "Epoch: 22 | Train loss:  0.3744 | Train acc:  0.8734 | Test loss:  0.5030 | Test acc:  0.8464 \n",
      "Epoch: 23 | Train loss:  0.3702 | Train acc:  0.8751 | Test loss:  0.4901 | Test acc:  0.8416 \n",
      "Epoch: 24 | Train loss:  0.3687 | Train acc:  0.8754 | Test loss:  0.5418 | Test acc:  0.8392 \n",
      "Epoch: 25 | Train loss:  0.3626 | Train acc:  0.8778 | Test loss:  0.4716 | Test acc:  0.8448 \n",
      "Epoch: 26 | Train loss:  0.3621 | Train acc:  0.8787 | Test loss:  0.4812 | Test acc:  0.8510 \n",
      "Epoch: 27 | Train loss:  0.3504 | Train acc:  0.8816 | Test loss:  0.4536 | Test acc:  0.8580 \n",
      "Epoch: 28 | Train loss:  0.3507 | Train acc:  0.8833 | Test loss:  0.4743 | Test acc:  0.8489 \n",
      "Epoch: 29 | Train loss:  0.3495 | Train acc:  0.8825 | Test loss:  0.5082 | Test acc:  0.8470 \n",
      "total training time for model_6: 9544.937 seconds\n"
     ]
    }
   ],
   "source": [
    "NUM_EPOCHS = 10\n",
    "\n",
    "loss_fn = nn.CrossEntropyLoss()\n",
    "optimizer = torch.optim.Adam(params=model_6_r.parameters(),\n",
    "                            lr = 0.1)\n",
    "\n",
    "from timeit import default_timer as timer\n",
    "start_time = timer()\n",
    "model_6_results = train(model= model_6_r,\n",
    "                       train_dataloader=  train_dataloader,\n",
    "                       test_dataloader= test_dataloader,\n",
    "                       optimizer = optimizer,\n",
    "                       loss_fn=loss_fn,\n",
    "                       epochs=NUM_EPOCHS)\n",
    "end_time = timer()\n",
    "print(f\"total training time for model_6: {end_time - start_time:.3f} seconds\")"
   ]
  },
  {
   "cell_type": "code",
   "execution_count": 224,
   "id": "909e4640-834d-4417-9ab0-484a07a935a3",
   "metadata": {},
   "outputs": [
    {
     "data": {
      "application/vnd.jupyter.widget-view+json": {
       "model_id": "e3c520cab186473099a23915fcb71922",
       "version_major": 2,
       "version_minor": 0
      },
      "text/plain": [
       "  0%|          | 0/10 [00:00<?, ?it/s]"
      ]
     },
     "metadata": {},
     "output_type": "display_data"
    },
    {
     "name": "stdout",
     "output_type": "stream",
     "text": [
      "Epoch: 0 | Train loss:  0.3520 | Train acc:  0.8795 | Test loss:  0.5018 | Test acc:  0.8479 \n",
      "Epoch: 1 | Train loss:  0.3414 | Train acc:  0.8844 | Test loss:  0.4459 | Test acc:  0.8622 \n",
      "Epoch: 2 | Train loss:  0.3393 | Train acc:  0.8855 | Test loss:  0.4600 | Test acc:  0.8539 \n",
      "Epoch: 3 | Train loss:  0.3348 | Train acc:  0.8875 | Test loss:  0.5598 | Test acc:  0.8330 \n",
      "Epoch: 4 | Train loss:  0.3367 | Train acc:  0.8853 | Test loss:  0.4580 | Test acc:  0.8539 \n",
      "Epoch: 5 | Train loss:  0.3305 | Train acc:  0.8886 | Test loss:  0.5343 | Test acc:  0.8389 \n",
      "Epoch: 6 | Train loss:  0.3198 | Train acc:  0.8932 | Test loss:  0.4869 | Test acc:  0.8514 \n",
      "Epoch: 7 | Train loss:  0.3182 | Train acc:  0.8911 | Test loss:  0.4633 | Test acc:  0.8565 \n",
      "Epoch: 8 | Train loss:  0.3111 | Train acc:  0.8959 | Test loss:  0.4511 | Test acc:  0.8626 \n",
      "Epoch: 9 | Train loss:  0.3144 | Train acc:  0.8950 | Test loss:  0.4514 | Test acc:  0.8622 \n",
      "total training time for model_6: 3407.201 seconds\n"
     ]
    }
   ],
   "source": [
    "NUM_EPOCHS = 10\n",
    "\n",
    "loss_fn = nn.CrossEntropyLoss()\n",
    "optimizer = torch.optim.Adam(params=model_6_r.parameters(),\n",
    "                            lr = 0.1)\n",
    "\n",
    "from timeit import default_timer as timer\n",
    "start_time = timer()\n",
    "model_6_results = train(model= model_6_r,\n",
    "                       train_dataloader=  train_dataloader,\n",
    "                       test_dataloader= test_dataloader,\n",
    "                       optimizer = optimizer,\n",
    "                       loss_fn=loss_fn,\n",
    "                       epochs=NUM_EPOCHS)\n",
    "end_time = timer()\n",
    "print(f\"total training time for model_6: {end_time - start_time:.3f} seconds\")results"
   ]
  },
  {
   "cell_type": "code",
   "execution_count": 44,
   "id": "5d940dde-a459-4f2c-a81b-529164f87dde",
   "metadata": {},
   "outputs": [
    {
     "data": {
      "text/plain": [
       "<All keys matched successfully>"
      ]
     },
     "execution_count": 44,
     "metadata": {},
     "output_type": "execute_result"
    }
   ],
   "source": [
    "#1.create models directory\n",
    "MODEL_PATH =  Path(\"models\")\n",
    "MODEL_PATH.mkdir(parents=True, exist_ok=True)\n",
    "\n",
    "# 2. creat model save path\n",
    "MODEL_NAME = \"01_ResNet_model_44.pth\"\n",
    "MODEL_SAVE_PATH = MODEL_PATH / MODEL_NAME\n",
    "\n",
    "model_6_r.load_state_dict(torch.load(f=MODEL_SAVE_PATH))"
   ]
  },
  {
   "cell_type": "code",
   "execution_count": 63,
   "id": "0efdcd23-ffa6-4325-8616-ba5ff561809b",
   "metadata": {},
   "outputs": [
    {
     "data": {
      "application/vnd.jupyter.widget-view+json": {
       "model_id": "e07f3241f8384396b0baef34fd42fa27",
       "version_major": 2,
       "version_minor": 0
      },
      "text/plain": [
       "  0%|          | 0/200 [00:00<?, ?it/s]"
      ]
     },
     "metadata": {},
     "output_type": "display_data"
    },
    {
     "name": "stdout",
     "output_type": "stream",
     "text": [
      "Epoch: 0 | Train loss:  1.9581 | Train acc:  0.2575 | Test loss:  1.5701 | Test acc:  0.4232 \n",
      "saving model to: models\\01_ResNet_model_44_perfect.pth\n",
      "Epoch: 1 | Train loss:  1.2634 | Train acc:  0.5397 | Test loss:  1.3801 | Test acc:  0.5152 \n",
      "saving model to: models\\01_ResNet_model_44_perfect.pth\n",
      "Epoch: 2 | Train loss:  0.8998 | Train acc:  0.6851 | Test loss:  0.9028 | Test acc:  0.6903 \n",
      "saving model to: models\\01_ResNet_model_44_perfect.pth\n",
      "Epoch: 3 | Train loss:  0.7040 | Train acc:  0.7560 | Test loss:  0.8063 | Test acc:  0.7241 \n",
      "saving model to: models\\01_ResNet_model_44_perfect.pth\n",
      "Epoch: 4 | Train loss:  0.6098 | Train acc:  0.7871 | Test loss:  0.7314 | Test acc:  0.7447 \n",
      "saving model to: models\\01_ResNet_model_44_perfect.pth\n",
      "Epoch: 5 | Train loss:  0.5573 | Train acc:  0.8090 | Test loss:  0.9485 | Test acc:  0.6915 \n",
      "Epoch: 6 | Train loss:  0.5215 | Train acc:  0.8206 | Test loss:  0.6052 | Test acc:  0.7907 \n",
      "saving model to: models\\01_ResNet_model_44_perfect.pth\n",
      "Epoch: 7 | Train loss:  0.4972 | Train acc:  0.8293 | Test loss:  0.6031 | Test acc:  0.7940 \n",
      "saving model to: models\\01_ResNet_model_44_perfect.pth\n",
      "Epoch: 8 | Train loss:  0.4699 | Train acc:  0.8373 | Test loss:  0.7132 | Test acc:  0.7604 \n",
      "Epoch: 9 | Train loss:  0.4558 | Train acc:  0.8435 | Test loss:  0.8537 | Test acc:  0.7225 \n",
      "Epoch: 10 | Train loss:  0.4449 | Train acc:  0.8466 | Test loss:  0.6684 | Test acc:  0.7656 \n",
      "Epoch: 11 | Train loss:  0.4304 | Train acc:  0.8519 | Test loss:  0.6143 | Test acc:  0.7914 \n",
      "Epoch: 12 | Train loss:  0.4138 | Train acc:  0.8579 | Test loss:  0.7720 | Test acc:  0.7583 \n",
      "Epoch: 13 | Train loss:  0.4075 | Train acc:  0.8596 | Test loss:  0.6603 | Test acc:  0.7800 \n",
      "Epoch: 14 | Train loss:  0.3980 | Train acc:  0.8630 | Test loss:  0.6489 | Test acc:  0.7852 \n",
      "Epoch: 15 | Train loss:  0.3894 | Train acc:  0.8673 | Test loss:  0.7583 | Test acc:  0.7589 \n",
      "Epoch: 16 | Train loss:  0.3834 | Train acc:  0.8690 | Test loss:  0.6439 | Test acc:  0.7884 \n",
      "Epoch: 17 | Train loss:  0.3797 | Train acc:  0.8683 | Test loss:  0.5813 | Test acc:  0.8033 \n",
      "saving model to: models\\01_ResNet_model_44_perfect.pth\n",
      "Epoch: 18 | Train loss:  0.3697 | Train acc:  0.8717 | Test loss:  0.8445 | Test acc:  0.7382 \n",
      "Epoch: 19 | Train loss:  0.3683 | Train acc:  0.8726 | Test loss:  0.6079 | Test acc:  0.8027 \n",
      "Epoch: 20 | Train loss:  0.3631 | Train acc:  0.8749 | Test loss:  0.5850 | Test acc:  0.8052 \n",
      "saving model to: models\\01_ResNet_model_44_perfect.pth\n",
      "Epoch: 21 | Train loss:  0.3560 | Train acc:  0.8778 | Test loss:  0.5925 | Test acc:  0.8082 \n",
      "saving model to: models\\01_ResNet_model_44_perfect.pth\n",
      "Epoch: 22 | Train loss:  0.3546 | Train acc:  0.8773 | Test loss:  0.8498 | Test acc:  0.7509 \n",
      "Epoch: 23 | Train loss:  0.3509 | Train acc:  0.8783 | Test loss:  0.7445 | Test acc:  0.7617 \n",
      "Epoch: 24 | Train loss:  0.3486 | Train acc:  0.8786 | Test loss:  0.6318 | Test acc:  0.7857 \n",
      "Epoch: 25 | Train loss:  0.3414 | Train acc:  0.8804 | Test loss:  0.6300 | Test acc:  0.7951 \n",
      "Epoch: 26 | Train loss:  0.3436 | Train acc:  0.8826 | Test loss:  0.5622 | Test acc:  0.8154 \n",
      "saving model to: models\\01_ResNet_model_44_perfect.pth\n",
      "Epoch: 27 | Train loss:  0.3342 | Train acc:  0.8859 | Test loss:  0.5712 | Test acc:  0.8078 \n",
      "Epoch: 28 | Train loss:  0.3336 | Train acc:  0.8852 | Test loss:  0.5510 | Test acc:  0.8178 \n",
      "saving model to: models\\01_ResNet_model_44_perfect.pth\n",
      "Epoch: 29 | Train loss:  0.3296 | Train acc:  0.8854 | Test loss:  0.5337 | Test acc:  0.8208 \n",
      "saving model to: models\\01_ResNet_model_44_perfect.pth\n",
      "Epoch: 30 | Train loss:  0.3256 | Train acc:  0.8874 | Test loss:  0.5967 | Test acc:  0.7979 \n",
      "Epoch: 31 | Train loss:  0.3307 | Train acc:  0.8854 | Test loss:  0.7538 | Test acc:  0.7568 \n",
      "Epoch: 32 | Train loss:  0.3269 | Train acc:  0.8864 | Test loss:  0.5801 | Test acc:  0.7988 \n",
      "Epoch: 33 | Train loss:  0.3242 | Train acc:  0.8874 | Test loss:  0.5877 | Test acc:  0.8129 \n",
      "Epoch: 34 | Train loss:  0.3166 | Train acc:  0.8920 | Test loss:  0.5751 | Test acc:  0.8141 \n",
      "Epoch: 35 | Train loss:  0.3147 | Train acc:  0.8910 | Test loss:  0.6456 | Test acc:  0.7849 \n",
      "Epoch: 36 | Train loss:  0.3166 | Train acc:  0.8893 | Test loss:  0.7096 | Test acc:  0.7732 \n",
      "Epoch: 37 | Train loss:  0.3127 | Train acc:  0.8914 | Test loss:  0.5184 | Test acc:  0.8289 \n",
      "saving model to: models\\01_ResNet_model_44_perfect.pth\n",
      "Epoch: 38 | Train loss:  0.3062 | Train acc:  0.8923 | Test loss:  0.5267 | Test acc:  0.8257 \n",
      "Epoch: 39 | Train loss:  0.3082 | Train acc:  0.8924 | Test loss:  0.5997 | Test acc:  0.8112 \n",
      "Epoch: 40 | Train loss:  0.3017 | Train acc:  0.8947 | Test loss:  0.6022 | Test acc:  0.8088 \n",
      "Epoch: 41 | Train loss:  0.3014 | Train acc:  0.8941 | Test loss:  0.5810 | Test acc:  0.8055 \n",
      "Epoch: 42 | Train loss:  0.3027 | Train acc:  0.8945 | Test loss:  0.5558 | Test acc:  0.8206 \n",
      "Epoch: 43 | Train loss:  0.2955 | Train acc:  0.8963 | Test loss:  0.6689 | Test acc:  0.7900 \n",
      "Epoch: 44 | Train loss:  0.2947 | Train acc:  0.8984 | Test loss:  0.6148 | Test acc:  0.8022 \n",
      "Epoch: 45 | Train loss:  0.2937 | Train acc:  0.8979 | Test loss:  0.6366 | Test acc:  0.7954 \n",
      "Epoch: 46 | Train loss:  0.2951 | Train acc:  0.8987 | Test loss:  0.6636 | Test acc:  0.7906 \n",
      "Epoch: 47 | Train loss:  0.2891 | Train acc:  0.8987 | Test loss:  0.6418 | Test acc:  0.8004 \n",
      "Epoch: 48 | Train loss:  0.2893 | Train acc:  0.9001 | Test loss:  0.6461 | Test acc:  0.7964 \n",
      "Epoch: 49 | Train loss:  0.2829 | Train acc:  0.9016 | Test loss:  0.6032 | Test acc:  0.8073 \n",
      "Epoch: 50 | Train loss:  0.2834 | Train acc:  0.9008 | Test loss:  0.6218 | Test acc:  0.7948 \n",
      "Epoch: 51 | Train loss:  0.2790 | Train acc:  0.9034 | Test loss:  0.7187 | Test acc:  0.7813 \n",
      "Epoch: 52 | Train loss:  0.2773 | Train acc:  0.9033 | Test loss:  0.7376 | Test acc:  0.7759 \n",
      "Epoch: 53 | Train loss:  0.2774 | Train acc:  0.9035 | Test loss:  0.5141 | Test acc:  0.8323 \n",
      "saving model to: models\\01_ResNet_model_44_perfect.pth\n",
      "Epoch: 54 | Train loss:  0.2783 | Train acc:  0.9033 | Test loss:  0.7496 | Test acc:  0.7723 \n",
      "Epoch: 55 | Train loss:  0.2655 | Train acc:  0.9073 | Test loss:  0.5729 | Test acc:  0.8135 \n",
      "Epoch: 56 | Train loss:  0.2708 | Train acc:  0.9063 | Test loss:  0.8149 | Test acc:  0.7636 \n",
      "Epoch: 57 | Train loss:  0.2716 | Train acc:  0.9055 | Test loss:  0.5849 | Test acc:  0.8056 \n",
      "Epoch: 58 | Train loss:  0.2657 | Train acc:  0.9078 | Test loss:  0.6682 | Test acc:  0.7849 \n",
      "Epoch: 59 | Train loss:  0.2631 | Train acc:  0.9081 | Test loss:  0.5384 | Test acc:  0.8247 \n",
      "Epoch: 60 | Train loss:  0.2557 | Train acc:  0.9122 | Test loss:  0.5791 | Test acc:  0.8165 \n",
      "Epoch: 61 | Train loss:  0.2636 | Train acc:  0.9083 | Test loss:  0.6026 | Test acc:  0.8055 \n",
      "Epoch: 62 | Train loss:  0.2562 | Train acc:  0.9112 | Test loss:  0.6279 | Test acc:  0.7983 \n",
      "Epoch: 63 | Train loss:  0.2529 | Train acc:  0.9118 | Test loss:  0.7012 | Test acc:  0.7835 \n",
      "Epoch: 64 | Train loss:  0.2515 | Train acc:  0.9134 | Test loss:  0.6149 | Test acc:  0.8013 \n",
      "Epoch: 65 | Train loss:  0.2478 | Train acc:  0.9146 | Test loss:  0.6078 | Test acc:  0.8100 \n",
      "Epoch: 66 | Train loss:  0.2443 | Train acc:  0.9139 | Test loss:  0.6220 | Test acc:  0.8057 \n",
      "Epoch: 67 | Train loss:  0.2460 | Train acc:  0.9141 | Test loss:  0.5425 | Test acc:  0.8229 \n",
      "Epoch: 68 | Train loss:  0.2421 | Train acc:  0.9156 | Test loss:  0.6268 | Test acc:  0.8059 \n",
      "Epoch: 69 | Train loss:  0.2411 | Train acc:  0.9177 | Test loss:  0.7452 | Test acc:  0.7719 \n",
      "Epoch: 70 | Train loss:  0.2362 | Train acc:  0.9171 | Test loss:  0.5982 | Test acc:  0.8109 \n",
      "Epoch: 71 | Train loss:  0.2349 | Train acc:  0.9181 | Test loss:  0.5280 | Test acc:  0.8266 \n",
      "Epoch: 72 | Train loss:  0.2271 | Train acc:  0.9213 | Test loss:  0.5931 | Test acc:  0.8052 \n",
      "Epoch: 73 | Train loss:  0.2348 | Train acc:  0.9181 | Test loss:  0.5983 | Test acc:  0.8133 \n",
      "Epoch: 74 | Train loss:  0.2237 | Train acc:  0.9217 | Test loss:  0.7472 | Test acc:  0.7850 \n",
      "Epoch: 75 | Train loss:  0.2227 | Train acc:  0.9226 | Test loss:  0.5911 | Test acc:  0.8134 \n",
      "Epoch: 76 | Train loss:  0.2209 | Train acc:  0.9237 | Test loss:  0.6201 | Test acc:  0.8074 \n",
      "Epoch: 77 | Train loss:  0.2188 | Train acc:  0.9246 | Test loss:  0.6269 | Test acc:  0.8092 \n",
      "Epoch: 78 | Train loss:  0.2112 | Train acc:  0.9275 | Test loss:  0.5905 | Test acc:  0.8182 \n",
      "Epoch: 79 | Train loss:  0.2169 | Train acc:  0.9238 | Test loss:  0.5544 | Test acc:  0.8250 \n",
      "Epoch: 80 | Train loss:  0.2075 | Train acc:  0.9284 | Test loss:  0.5462 | Test acc:  0.8294 \n",
      "Epoch: 81 | Train loss:  0.2090 | Train acc:  0.9279 | Test loss:  0.6246 | Test acc:  0.8067 \n",
      "Epoch: 82 | Train loss:  0.2002 | Train acc:  0.9305 | Test loss:  0.4803 | Test acc:  0.8463 \n",
      "saving model to: models\\01_ResNet_model_44_perfect.pth\n",
      "Epoch: 83 | Train loss:  0.2035 | Train acc:  0.9289 | Test loss:  0.5594 | Test acc:  0.8265 \n",
      "Epoch: 84 | Train loss:  0.1937 | Train acc:  0.9337 | Test loss:  0.6612 | Test acc:  0.8041 \n",
      "Epoch: 85 | Train loss:  0.1970 | Train acc:  0.9321 | Test loss:  0.5181 | Test acc:  0.8387 \n",
      "Epoch: 86 | Train loss:  0.1971 | Train acc:  0.9308 | Test loss:  0.5730 | Test acc:  0.8204 \n",
      "Epoch: 87 | Train loss:  0.1889 | Train acc:  0.9336 | Test loss:  0.6785 | Test acc:  0.7993 \n",
      "Epoch: 88 | Train loss:  0.1902 | Train acc:  0.9329 | Test loss:  0.6006 | Test acc:  0.8213 \n",
      "Epoch: 89 | Train loss:  0.1855 | Train acc:  0.9359 | Test loss:  0.6261 | Test acc:  0.8124 \n",
      "Epoch: 90 | Train loss:  0.1823 | Train acc:  0.9370 | Test loss:  0.6058 | Test acc:  0.8165 \n",
      "Epoch: 91 | Train loss:  0.1789 | Train acc:  0.9371 | Test loss:  0.7419 | Test acc:  0.7931 \n",
      "Epoch: 92 | Train loss:  0.1788 | Train acc:  0.9380 | Test loss:  0.4739 | Test acc:  0.8472 \n",
      "saving model to: models\\01_ResNet_model_44_perfect.pth\n",
      "Epoch: 93 | Train loss:  0.1739 | Train acc:  0.9387 | Test loss:  0.5706 | Test acc:  0.8238 \n",
      "Epoch: 94 | Train loss:  0.1721 | Train acc:  0.9418 | Test loss:  0.5800 | Test acc:  0.8243 \n",
      "Epoch: 95 | Train loss:  0.1642 | Train acc:  0.9444 | Test loss:  0.5861 | Test acc:  0.8258 \n",
      "Epoch: 96 | Train loss:  0.1693 | Train acc:  0.9411 | Test loss:  0.6474 | Test acc:  0.8121 \n",
      "Epoch: 97 | Train loss:  0.1653 | Train acc:  0.9423 | Test loss:  0.5527 | Test acc:  0.8304 \n",
      "Epoch: 98 | Train loss:  0.1625 | Train acc:  0.9444 | Test loss:  0.5359 | Test acc:  0.8367 \n",
      "Epoch: 99 | Train loss:  0.1599 | Train acc:  0.9449 | Test loss:  0.6246 | Test acc:  0.8106 \n",
      "Epoch: 100 | Train loss:  0.1541 | Train acc:  0.9465 | Test loss:  0.5612 | Test acc:  0.8276 \n",
      "Epoch: 101 | Train loss:  0.1512 | Train acc:  0.9480 | Test loss:  0.5145 | Test acc:  0.8413 \n",
      "Epoch: 102 | Train loss:  0.1398 | Train acc:  0.9522 | Test loss:  0.6310 | Test acc:  0.8149 \n",
      "Epoch: 103 | Train loss:  0.1417 | Train acc:  0.9507 | Test loss:  0.6976 | Test acc:  0.7991 \n",
      "Epoch: 104 | Train loss:  0.1415 | Train acc:  0.9519 | Test loss:  0.5805 | Test acc:  0.8334 \n",
      "Epoch: 105 | Train loss:  0.1428 | Train acc:  0.9513 | Test loss:  0.5959 | Test acc:  0.8244 \n",
      "Epoch: 106 | Train loss:  0.1400 | Train acc:  0.9512 | Test loss:  0.4802 | Test acc:  0.8477 \n",
      "saving model to: models\\01_ResNet_model_44_perfect.pth\n",
      "Epoch: 107 | Train loss:  0.1211 | Train acc:  0.9586 | Test loss:  0.7185 | Test acc:  0.8129 \n",
      "Epoch: 108 | Train loss:  0.1378 | Train acc:  0.9523 | Test loss:  0.5072 | Test acc:  0.8486 \n",
      "saving model to: models\\01_ResNet_model_44_perfect.pth\n",
      "Epoch: 109 | Train loss:  0.1240 | Train acc:  0.9570 | Test loss:  0.5906 | Test acc:  0.8334 \n",
      "Epoch: 110 | Train loss:  0.1252 | Train acc:  0.9567 | Test loss:  0.5516 | Test acc:  0.8411 \n",
      "Epoch: 111 | Train loss:  0.1251 | Train acc:  0.9569 | Test loss:  0.5159 | Test acc:  0.8492 \n",
      "saving model to: models\\01_ResNet_model_44_perfect.pth\n",
      "Epoch: 112 | Train loss:  0.1166 | Train acc:  0.9609 | Test loss:  0.5877 | Test acc:  0.8302 \n",
      "Epoch: 113 | Train loss:  0.1142 | Train acc:  0.9610 | Test loss:  0.5363 | Test acc:  0.8398 \n",
      "Epoch: 114 | Train loss:  0.1099 | Train acc:  0.9625 | Test loss:  0.5476 | Test acc:  0.8430 \n",
      "Epoch: 115 | Train loss:  0.1054 | Train acc:  0.9636 | Test loss:  0.6029 | Test acc:  0.8314 \n",
      "Epoch: 116 | Train loss:  0.1085 | Train acc:  0.9635 | Test loss:  0.5930 | Test acc:  0.8316 \n",
      "Epoch: 117 | Train loss:  0.1060 | Train acc:  0.9636 | Test loss:  0.5787 | Test acc:  0.8371 \n",
      "Epoch: 118 | Train loss:  0.1024 | Train acc:  0.9656 | Test loss:  0.5490 | Test acc:  0.8410 \n",
      "Epoch: 119 | Train loss:  0.0976 | Train acc:  0.9675 | Test loss:  0.6303 | Test acc:  0.8266 \n",
      "Epoch: 120 | Train loss:  0.1044 | Train acc:  0.9647 | Test loss:  0.6209 | Test acc:  0.8313 \n",
      "Epoch: 121 | Train loss:  0.0877 | Train acc:  0.9710 | Test loss:  0.5831 | Test acc:  0.8358 \n",
      "Epoch: 122 | Train loss:  0.0887 | Train acc:  0.9709 | Test loss:  0.6434 | Test acc:  0.8183 \n",
      "Epoch: 123 | Train loss:  0.0972 | Train acc:  0.9673 | Test loss:  0.5364 | Test acc:  0.8526 \n",
      "saving model to: models\\01_ResNet_model_44_perfect.pth\n",
      "Epoch: 124 | Train loss:  0.0844 | Train acc:  0.9724 | Test loss:  0.6021 | Test acc:  0.8306 \n",
      "Epoch: 125 | Train loss:  0.0787 | Train acc:  0.9741 | Test loss:  0.6526 | Test acc:  0.8247 \n",
      "Epoch: 126 | Train loss:  0.0808 | Train acc:  0.9735 | Test loss:  0.5599 | Test acc:  0.8446 \n",
      "Epoch: 127 | Train loss:  0.0735 | Train acc:  0.9764 | Test loss:  0.5599 | Test acc:  0.8495 \n",
      "Epoch: 128 | Train loss:  0.0768 | Train acc:  0.9740 | Test loss:  0.5715 | Test acc:  0.8467 \n",
      "Epoch: 129 | Train loss:  0.0734 | Train acc:  0.9755 | Test loss:  0.5662 | Test acc:  0.8485 \n",
      "Epoch: 130 | Train loss:  0.0595 | Train acc:  0.9812 | Test loss:  0.5359 | Test acc:  0.8534 \n",
      "saving model to: models\\01_ResNet_model_44_perfect.pth\n",
      "Epoch: 131 | Train loss:  0.0615 | Train acc:  0.9801 | Test loss:  0.5305 | Test acc:  0.8458 \n",
      "Epoch: 132 | Train loss:  0.0659 | Train acc:  0.9790 | Test loss:  0.6583 | Test acc:  0.8300 \n",
      "Epoch: 133 | Train loss:  0.0644 | Train acc:  0.9790 | Test loss:  0.6715 | Test acc:  0.8203 \n",
      "Epoch: 134 | Train loss:  0.0667 | Train acc:  0.9783 | Test loss:  0.5532 | Test acc:  0.8493 \n",
      "Epoch: 135 | Train loss:  0.0616 | Train acc:  0.9802 | Test loss:  0.5573 | Test acc:  0.8502 \n",
      "Epoch: 136 | Train loss:  0.0421 | Train acc:  0.9875 | Test loss:  0.5098 | Test acc:  0.8587 \n",
      "saving model to: models\\01_ResNet_model_44_perfect.pth\n",
      "Epoch: 137 | Train loss:  0.0449 | Train acc:  0.9861 | Test loss:  0.6389 | Test acc:  0.8398 \n",
      "Epoch: 138 | Train loss:  0.0503 | Train acc:  0.9846 | Test loss:  0.7614 | Test acc:  0.8150 \n",
      "Epoch: 139 | Train loss:  0.0631 | Train acc:  0.9797 | Test loss:  0.5461 | Test acc:  0.8513 \n",
      "Epoch: 140 | Train loss:  0.0497 | Train acc:  0.9847 | Test loss:  0.5219 | Test acc:  0.8605 \n",
      "saving model to: models\\01_ResNet_model_44_perfect.pth\n",
      "Epoch: 141 | Train loss:  0.0367 | Train acc:  0.9896 | Test loss:  0.5230 | Test acc:  0.8619 \n",
      "saving model to: models\\01_ResNet_model_44_perfect.pth\n",
      "Epoch: 142 | Train loss:  0.0267 | Train acc:  0.9925 | Test loss:  0.5698 | Test acc:  0.8554 \n",
      "Epoch: 143 | Train loss:  0.0286 | Train acc:  0.9922 | Test loss:  0.5063 | Test acc:  0.8691 \n",
      "saving model to: models\\01_ResNet_model_44_perfect.pth\n",
      "Epoch: 144 | Train loss:  0.0268 | Train acc:  0.9927 | Test loss:  0.4948 | Test acc:  0.8664 \n",
      "Epoch: 145 | Train loss:  0.0376 | Train acc:  0.9887 | Test loss:  0.5569 | Test acc:  0.8517 \n",
      "Epoch: 146 | Train loss:  0.0467 | Train acc:  0.9855 | Test loss:  0.5674 | Test acc:  0.8486 \n",
      "Epoch: 147 | Train loss:  0.0297 | Train acc:  0.9913 | Test loss:  0.5184 | Test acc:  0.8672 \n",
      "Epoch: 148 | Train loss:  0.0199 | Train acc:  0.9944 | Test loss:  0.5957 | Test acc:  0.8526 \n",
      "Epoch: 149 | Train loss:  0.0216 | Train acc:  0.9944 | Test loss:  0.5363 | Test acc:  0.8578 \n",
      "Epoch: 150 | Train loss:  0.0266 | Train acc:  0.9928 | Test loss:  0.5420 | Test acc:  0.8628 \n",
      "Epoch: 151 | Train loss:  0.0261 | Train acc:  0.9929 | Test loss:  0.4867 | Test acc:  0.8731 \n",
      "saving model to: models\\01_ResNet_model_44_perfect.pth\n",
      "Epoch: 152 | Train loss:  0.0154 | Train acc:  0.9964 | Test loss:  0.4744 | Test acc:  0.8783 \n",
      "saving model to: models\\01_ResNet_model_44_perfect.pth\n",
      "Epoch: 153 | Train loss:  0.0134 | Train acc:  0.9967 | Test loss:  0.4698 | Test acc:  0.8794 \n",
      "saving model to: models\\01_ResNet_model_44_perfect.pth\n",
      "Epoch: 154 | Train loss:  0.0077 | Train acc:  0.9988 | Test loss:  0.4432 | Test acc:  0.8878 \n",
      "saving model to: models\\01_ResNet_model_44_perfect.pth\n",
      "Epoch: 155 | Train loss:  0.0037 | Train acc:  0.9997 | Test loss:  0.4086 | Test acc:  0.8949 \n",
      "saving model to: models\\01_ResNet_model_44_perfect.pth\n",
      "Epoch: 156 | Train loss:  0.0018 | Train acc:  1.0000 | Test loss:  0.3940 | Test acc:  0.8965 \n",
      "saving model to: models\\01_ResNet_model_44_perfect.pth\n",
      "Epoch: 157 | Train loss:  0.0015 | Train acc:  1.0000 | Test loss:  0.3784 | Test acc:  0.9007 \n",
      "saving model to: models\\01_ResNet_model_44_perfect.pth\n",
      "Epoch: 158 | Train loss:  0.0013 | Train acc:  1.0000 | Test loss:  0.3780 | Test acc:  0.8999 \n",
      "Epoch: 159 | Train loss:  0.0014 | Train acc:  1.0000 | Test loss:  0.3712 | Test acc:  0.9003 \n",
      "Epoch: 160 | Train loss:  0.0014 | Train acc:  1.0000 | Test loss:  0.3683 | Test acc:  0.9000 \n",
      "Epoch: 161 | Train loss:  0.0014 | Train acc:  1.0000 | Test loss:  0.3725 | Test acc:  0.8968 \n",
      "Epoch: 162 | Train loss:  0.0015 | Train acc:  1.0000 | Test loss:  0.3661 | Test acc:  0.8994 \n",
      "Epoch: 163 | Train loss:  0.0015 | Train acc:  1.0000 | Test loss:  0.3653 | Test acc:  0.8994 \n",
      "Epoch: 164 | Train loss:  0.0015 | Train acc:  1.0000 | Test loss:  0.3666 | Test acc:  0.8999 \n",
      "Epoch: 165 | Train loss:  0.0015 | Train acc:  1.0000 | Test loss:  0.3698 | Test acc:  0.8978 \n",
      "Epoch: 166 | Train loss:  0.0015 | Train acc:  1.0000 | Test loss:  0.3698 | Test acc:  0.8983 \n",
      "Epoch: 167 | Train loss:  0.0016 | Train acc:  1.0000 | Test loss:  0.3709 | Test acc:  0.8985 \n",
      "Epoch: 168 | Train loss:  0.0016 | Train acc:  1.0000 | Test loss:  0.3710 | Test acc:  0.9001 \n",
      "Epoch: 169 | Train loss:  0.0016 | Train acc:  1.0000 | Test loss:  0.3716 | Test acc:  0.8990 \n",
      "Epoch: 170 | Train loss:  0.0016 | Train acc:  1.0000 | Test loss:  0.3758 | Test acc:  0.8982 \n",
      "Epoch: 171 | Train loss:  0.0016 | Train acc:  1.0000 | Test loss:  0.3747 | Test acc:  0.8978 \n",
      "Epoch: 172 | Train loss:  0.0016 | Train acc:  1.0000 | Test loss:  0.3754 | Test acc:  0.8979 \n",
      "Epoch: 173 | Train loss:  0.0016 | Train acc:  1.0000 | Test loss:  0.3793 | Test acc:  0.8981 \n",
      "Epoch: 174 | Train loss:  0.0016 | Train acc:  1.0000 | Test loss:  0.3800 | Test acc:  0.8972 \n",
      "Epoch: 175 | Train loss:  0.0016 | Train acc:  1.0000 | Test loss:  0.3797 | Test acc:  0.8978 \n",
      "Epoch: 176 | Train loss:  0.0015 | Train acc:  1.0000 | Test loss:  0.3797 | Test acc:  0.8988 \n",
      "Epoch: 177 | Train loss:  0.0016 | Train acc:  1.0000 | Test loss:  0.3805 | Test acc:  0.8976 \n",
      "Epoch: 178 | Train loss:  0.0016 | Train acc:  1.0000 | Test loss:  0.3802 | Test acc:  0.8982 \n",
      "Epoch: 179 | Train loss:  0.0016 | Train acc:  1.0000 | Test loss:  0.3826 | Test acc:  0.8972 \n",
      "Epoch: 180 | Train loss:  0.0016 | Train acc:  1.0000 | Test loss:  0.3888 | Test acc:  0.8951 \n",
      "Epoch: 181 | Train loss:  0.0016 | Train acc:  1.0000 | Test loss:  0.3812 | Test acc:  0.8996 \n",
      "Epoch: 182 | Train loss:  0.0016 | Train acc:  1.0000 | Test loss:  0.3856 | Test acc:  0.8989 \n",
      "Epoch: 183 | Train loss:  0.0016 | Train acc:  1.0000 | Test loss:  0.3881 | Test acc:  0.8977 \n",
      "Epoch: 184 | Train loss:  0.0015 | Train acc:  1.0000 | Test loss:  0.3859 | Test acc:  0.8982 \n",
      "Epoch: 185 | Train loss:  0.0015 | Train acc:  1.0000 | Test loss:  0.3896 | Test acc:  0.8965 \n",
      "Epoch: 186 | Train loss:  0.0015 | Train acc:  1.0000 | Test loss:  0.3868 | Test acc:  0.8971 \n",
      "Epoch: 187 | Train loss:  0.0016 | Train acc:  1.0000 | Test loss:  0.3871 | Test acc:  0.8980 \n",
      "Epoch: 188 | Train loss:  0.0015 | Train acc:  1.0000 | Test loss:  0.3866 | Test acc:  0.8986 \n",
      "Epoch: 189 | Train loss:  0.0015 | Train acc:  1.0000 | Test loss:  0.3888 | Test acc:  0.8977 \n",
      "Epoch: 190 | Train loss:  0.0016 | Train acc:  1.0000 | Test loss:  0.3882 | Test acc:  0.8979 \n",
      "Epoch: 191 | Train loss:  0.0015 | Train acc:  1.0000 | Test loss:  0.3872 | Test acc:  0.8980 \n",
      "Epoch: 192 | Train loss:  0.0015 | Train acc:  1.0000 | Test loss:  0.3894 | Test acc:  0.8970 \n",
      "Epoch: 193 | Train loss:  0.0016 | Train acc:  1.0000 | Test loss:  0.3883 | Test acc:  0.8989 \n",
      "Epoch: 194 | Train loss:  0.0015 | Train acc:  1.0000 | Test loss:  0.3905 | Test acc:  0.8960 \n",
      "Epoch: 195 | Train loss:  0.0015 | Train acc:  1.0000 | Test loss:  0.3895 | Test acc:  0.8981 \n",
      "Epoch: 196 | Train loss:  0.0016 | Train acc:  1.0000 | Test loss:  0.3900 | Test acc:  0.8977 \n",
      "Epoch: 197 | Train loss:  0.0015 | Train acc:  1.0000 | Test loss:  0.3890 | Test acc:  0.8985 \n",
      "Epoch: 198 | Train loss:  0.0015 | Train acc:  1.0000 | Test loss:  0.3892 | Test acc:  0.8990 \n",
      "Epoch: 199 | Train loss:  0.0015 | Train acc:  1.0000 | Test loss:  0.3898 | Test acc:  0.8974 \n",
      "total training time for model_6: 80125.001 seconds\n"
     ]
    }
   ],
   "source": [
    "NUM_EPOCHS = 200\n",
    "\n",
    "loss_fn = nn.CrossEntropyLoss()\n",
    "optimizer = torch.optim.SGD(params=model_6_r.parameters(),\n",
    "                            lr = 0.1, momentum=0.9,dampening=0,weight_decay=0.0005,nesterov=True)\n",
    "scheduler = lr_scheduler.CosineAnnealingLR(optimizer, T_max=200,eta_min=0)\n",
    "\n",
    "start_time = timer()\n",
    "model_6_results = train(model_name='01_ResNet_model_44_perfect',model= model_6_r,\n",
    "                       train_dataloader=  train_dataloader,\n",
    "                       test_dataloader= test_dataloader,\n",
    "                       optimizer = optimizer,\n",
    "                        scheduler=scheduler,\n",
    "                       loss_fn=loss_fn,\n",
    "                       epochs=NUM_EPOCHS)\n",
    "end_time = timer()\n",
    "print(f\"total training time for model_6: {end_time - start_time:.3f} seconds\")"
   ]
  },
  {
   "cell_type": "code",
   "execution_count": 64,
   "id": "d81cae9b-4abf-4b70-8f83-612429ace5aa",
   "metadata": {},
   "outputs": [
    {
     "data": {
      "image/png": "[encoded data removed]",
      "text/plain": [
       "<Figure size 1500x700 with 2 Axes>"
      ]
     },
     "metadata": {},
     "output_type": "display_data"
    }
   ],
   "source": [
    "plot_loss_curves(model_6_results)"
   ]
  },
  {
   "cell_type": "code",
   "execution_count": 33,
   "id": "ecaa3518-d0a8-4628-adf7-c8661ff1750b",
   "metadata": {
    "tags": []
   },
   "outputs": [
    {
     "name": "stderr",
     "output_type": "stream",
     "text": [
      "  0%|          | 1/200 [02:54<9:38:03, 174.29s/it]"
     ]
    },
    {
     "name": "stdout",
     "output_type": "stream",
     "text": [
      "Epoch: 0 | Train loss:  1.9505 | Train acc:  0.2726 | Test loss:  1.5460 | Test acc:  0.4253 \n",
      "saving model to: models\\01_ResNet_model_44_perfect_arg.pth\n"
     ]
    },
    {
     "name": "stderr",
     "output_type": "stream",
     "text": [
      "  1%|          | 2/200 [05:52<9:43:17, 176.75s/it]"
     ]
    },
    {
     "name": "stdout",
     "output_type": "stream",
     "text": [
      "Epoch: 1 | Train loss:  1.3491 | Train acc:  0.5091 | Test loss:  1.0905 | Test acc:  0.6100 \n",
      "saving model to: models\\01_ResNet_model_44_perfect_arg.pth\n"
     ]
    },
    {
     "name": "stderr",
     "output_type": "stream",
     "text": [
      "  2%|▏         | 3/200 [08:51<9:43:51, 177.82s/it]"
     ]
    },
    {
     "name": "stdout",
     "output_type": "stream",
     "text": [
      "Epoch: 2 | Train loss:  0.9857 | Train acc:  0.6512 | Test loss:  0.9339 | Test acc:  0.6731 \n",
      "saving model to: models\\01_ResNet_model_44_perfect_arg.pth\n"
     ]
    },
    {
     "name": "stderr",
     "output_type": "stream",
     "text": [
      "  2%|▏         | 4/200 [11:52<9:43:59, 178.77s/it]"
     ]
    },
    {
     "name": "stdout",
     "output_type": "stream",
     "text": [
      "Epoch: 3 | Train loss:  0.8068 | Train acc:  0.7176 | Test loss:  0.9729 | Test acc:  0.6838 \n",
      "saving model to: models\\01_ResNet_model_44_perfect_arg.pth\n"
     ]
    },
    {
     "name": "stderr",
     "output_type": "stream",
     "text": [
      "  2%|▎         | 5/200 [14:51<9:41:33, 178.94s/it]"
     ]
    },
    {
     "name": "stdout",
     "output_type": "stream",
     "text": [
      "Epoch: 4 | Train loss:  0.7223 | Train acc:  0.7502 | Test loss:  0.6998 | Test acc:  0.7597 \n",
      "saving model to: models\\01_ResNet_model_44_perfect_arg.pth\n"
     ]
    },
    {
     "name": "stderr",
     "output_type": "stream",
     "text": [
      "  3%|▎         | 6/200 [18:05<9:55:11, 184.08s/it]"
     ]
    },
    {
     "name": "stdout",
     "output_type": "stream",
     "text": [
      "Epoch: 5 | Train loss:  0.6726 | Train acc:  0.7700 | Test loss:  0.7513 | Test acc:  0.7421 \n"
     ]
    },
    {
     "name": "stderr",
     "output_type": "stream",
     "text": [
      "  4%|▎         | 7/200 [21:30<10:14:36, 191.07s/it]"
     ]
    },
    {
     "name": "stdout",
     "output_type": "stream",
     "text": [
      "Epoch: 6 | Train loss:  0.6417 | Train acc:  0.7792 | Test loss:  0.6287 | Test acc:  0.7904 \n",
      "saving model to: models\\01_ResNet_model_44_perfect_arg.pth\n"
     ]
    },
    {
     "name": "stderr",
     "output_type": "stream",
     "text": [
      "  4%|▍         | 8/200 [24:40<10:09:30, 190.47s/it]"
     ]
    },
    {
     "name": "stdout",
     "output_type": "stream",
     "text": [
      "Epoch: 7 | Train loss:  0.6140 | Train acc:  0.7883 | Test loss:  0.7023 | Test acc:  0.7657 \n"
     ]
    },
    {
     "name": "stderr",
     "output_type": "stream",
     "text": [
      "  4%|▍         | 9/200 [27:50<10:06:32, 190.53s/it]"
     ]
    },
    {
     "name": "stdout",
     "output_type": "stream",
     "text": [
      "Epoch: 8 | Train loss:  0.5958 | Train acc:  0.7957 | Test loss:  0.6076 | Test acc:  0.7986 \n",
      "saving model to: models\\01_ResNet_model_44_perfect_arg.pth\n"
     ]
    },
    {
     "name": "stderr",
     "output_type": "stream",
     "text": [
      "  5%|▌         | 10/200 [31:00<10:02:59, 190.42s/it]"
     ]
    },
    {
     "name": "stdout",
     "output_type": "stream",
     "text": [
      "Epoch: 9 | Train loss:  0.5752 | Train acc:  0.8015 | Test loss:  0.6415 | Test acc:  0.7803 \n"
     ]
    },
    {
     "name": "stderr",
     "output_type": "stream",
     "text": [
      "  6%|▌         | 11/200 [34:09<9:58:12, 189.91s/it] "
     ]
    },
    {
     "name": "stdout",
     "output_type": "stream",
     "text": [
      "Epoch: 10 | Train loss:  0.5703 | Train acc:  0.8043 | Test loss:  0.8575 | Test acc:  0.7199 \n"
     ]
    },
    {
     "name": "stderr",
     "output_type": "stream",
     "text": [
      "  6%|▌         | 12/200 [37:18<9:54:12, 189.64s/it]"
     ]
    },
    {
     "name": "stdout",
     "output_type": "stream",
     "text": [
      "Epoch: 11 | Train loss:  0.5544 | Train acc:  0.8089 | Test loss:  0.7263 | Test acc:  0.7570 \n"
     ]
    },
    {
     "name": "stderr",
     "output_type": "stream",
     "text": [
      "  6%|▋         | 13/200 [40:27<9:50:09, 189.36s/it]"
     ]
    },
    {
     "name": "stdout",
     "output_type": "stream",
     "text": [
      "Epoch: 12 | Train loss:  0.5439 | Train acc:  0.8129 | Test loss:  0.6919 | Test acc:  0.7681 \n"
     ]
    },
    {
     "name": "stderr",
     "output_type": "stream",
     "text": [
      "  7%|▋         | 14/200 [43:35<9:45:45, 188.96s/it]"
     ]
    },
    {
     "name": "stdout",
     "output_type": "stream",
     "text": [
      "Epoch: 13 | Train loss:  0.5325 | Train acc:  0.8193 | Test loss:  0.7048 | Test acc:  0.7715 \n"
     ]
    },
    {
     "name": "stderr",
     "output_type": "stream",
     "text": [
      "  8%|▊         | 15/200 [46:45<9:43:21, 189.20s/it]"
     ]
    },
    {
     "name": "stdout",
     "output_type": "stream",
     "text": [
      "Epoch: 14 | Train loss:  0.5293 | Train acc:  0.8197 | Test loss:  0.7019 | Test acc:  0.7727 \n"
     ]
    },
    {
     "name": "stderr",
     "output_type": "stream",
     "text": [
      "  8%|▊         | 16/200 [49:53<9:39:42, 189.04s/it]"
     ]
    },
    {
     "name": "stdout",
     "output_type": "stream",
     "text": [
      "Epoch: 15 | Train loss:  0.5218 | Train acc:  0.8208 | Test loss:  0.6805 | Test acc:  0.7698 \n"
     ]
    },
    {
     "name": "stderr",
     "output_type": "stream",
     "text": [
      "  8%|▊         | 17/200 [53:04<9:38:09, 189.56s/it]"
     ]
    },
    {
     "name": "stdout",
     "output_type": "stream",
     "text": [
      "Epoch: 16 | Train loss:  0.5168 | Train acc:  0.8236 | Test loss:  0.6824 | Test acc:  0.7591 \n"
     ]
    },
    {
     "name": "stderr",
     "output_type": "stream",
     "text": [
      "  9%|▉         | 18/200 [56:17<9:37:38, 190.43s/it]"
     ]
    },
    {
     "name": "stdout",
     "output_type": "stream",
     "text": [
      "Epoch: 17 | Train loss:  0.5109 | Train acc:  0.8256 | Test loss:  0.5530 | Test acc:  0.8094 \n",
      "saving model to: models\\01_ResNet_model_44_perfect_arg.pth\n"
     ]
    },
    {
     "name": "stderr",
     "output_type": "stream",
     "text": [
      " 10%|▉         | 19/200 [59:30<9:37:01, 191.28s/it]"
     ]
    },
    {
     "name": "stdout",
     "output_type": "stream",
     "text": [
      "Epoch: 18 | Train loss:  0.5056 | Train acc:  0.8260 | Test loss:  0.8479 | Test acc:  0.7267 \n"
     ]
    },
    {
     "name": "stderr",
     "output_type": "stream",
     "text": [
      " 10%|█         | 20/200 [1:02:44<9:36:50, 192.28s/it]"
     ]
    },
    {
     "name": "stdout",
     "output_type": "stream",
     "text": [
      "Epoch: 19 | Train loss:  0.5001 | Train acc:  0.8275 | Test loss:  0.6146 | Test acc:  0.7959 \n"
     ]
    },
    {
     "name": "stderr",
     "output_type": "stream",
     "text": [
      " 10%|█         | 21/200 [1:05:59<9:35:43, 192.98s/it]"
     ]
    },
    {
     "name": "stdout",
     "output_type": "stream",
     "text": [
      "Epoch: 20 | Train loss:  0.4984 | Train acc:  0.8285 | Test loss:  0.5867 | Test acc:  0.8071 \n"
     ]
    },
    {
     "name": "stderr",
     "output_type": "stream",
     "text": [
      " 11%|█         | 22/200 [1:09:14<9:34:24, 193.62s/it]"
     ]
    },
    {
     "name": "stdout",
     "output_type": "stream",
     "text": [
      "Epoch: 21 | Train loss:  0.4883 | Train acc:  0.8325 | Test loss:  0.5550 | Test acc:  0.8066 \n"
     ]
    },
    {
     "name": "stderr",
     "output_type": "stream",
     "text": [
      " 12%|█▏        | 23/200 [1:12:28<9:31:12, 193.63s/it]"
     ]
    },
    {
     "name": "stdout",
     "output_type": "stream",
     "text": [
      "Epoch: 22 | Train loss:  0.4875 | Train acc:  0.8329 | Test loss:  0.5236 | Test acc:  0.8205 \n",
      "saving model to: models\\01_ResNet_model_44_perfect_arg.pth\n"
     ]
    },
    {
     "name": "stderr",
     "output_type": "stream",
     "text": [
      " 12%|█▏        | 24/200 [1:15:42<9:28:55, 193.95s/it]"
     ]
    },
    {
     "name": "stdout",
     "output_type": "stream",
     "text": [
      "Epoch: 23 | Train loss:  0.4814 | Train acc:  0.8334 | Test loss:  0.6302 | Test acc:  0.7852 \n"
     ]
    },
    {
     "name": "stderr",
     "output_type": "stream",
     "text": [
      " 12%|█▎        | 25/200 [1:18:58<9:27:17, 194.50s/it]"
     ]
    },
    {
     "name": "stdout",
     "output_type": "stream",
     "text": [
      "Epoch: 24 | Train loss:  0.4784 | Train acc:  0.8359 | Test loss:  0.6099 | Test acc:  0.8023 \n"
     ]
    },
    {
     "name": "stderr",
     "output_type": "stream",
     "text": [
      " 13%|█▎        | 26/200 [1:22:14<9:25:08, 194.88s/it]"
     ]
    },
    {
     "name": "stdout",
     "output_type": "stream",
     "text": [
      "Epoch: 25 | Train loss:  0.4819 | Train acc:  0.8337 | Test loss:  0.5259 | Test acc:  0.8210 \n",
      "saving model to: models\\01_ResNet_model_44_perfect_arg.pth\n"
     ]
    },
    {
     "name": "stderr",
     "output_type": "stream",
     "text": [
      " 14%|█▎        | 27/200 [1:25:30<9:23:04, 195.29s/it]"
     ]
    },
    {
     "name": "stdout",
     "output_type": "stream",
     "text": [
      "Epoch: 26 | Train loss:  0.4758 | Train acc:  0.8349 | Test loss:  0.5349 | Test acc:  0.8197 \n"
     ]
    },
    {
     "name": "stderr",
     "output_type": "stream",
     "text": [
      " 14%|█▍        | 28/200 [1:28:47<9:21:22, 195.83s/it]"
     ]
    },
    {
     "name": "stdout",
     "output_type": "stream",
     "text": [
      "Epoch: 27 | Train loss:  0.4668 | Train acc:  0.8417 | Test loss:  0.5868 | Test acc:  0.8055 \n"
     ]
    },
    {
     "name": "stderr",
     "output_type": "stream",
     "text": [
      " 14%|█▍        | 29/200 [1:32:06<9:20:18, 196.60s/it]"
     ]
    },
    {
     "name": "stdout",
     "output_type": "stream",
     "text": [
      "Epoch: 28 | Train loss:  0.4651 | Train acc:  0.8422 | Test loss:  0.5315 | Test acc:  0.8211 \n",
      "saving model to: models\\01_ResNet_model_44_perfect_arg.pth\n"
     ]
    },
    {
     "name": "stderr",
     "output_type": "stream",
     "text": [
      " 15%|█▌        | 30/200 [1:35:22<9:16:57, 196.57s/it]"
     ]
    },
    {
     "name": "stdout",
     "output_type": "stream",
     "text": [
      "Epoch: 29 | Train loss:  0.4683 | Train acc:  0.8394 | Test loss:  0.6378 | Test acc:  0.7922 \n"
     ]
    },
    {
     "name": "stderr",
     "output_type": "stream",
     "text": [
      " 16%|█▌        | 31/200 [1:38:35<9:10:36, 195.48s/it]"
     ]
    },
    {
     "name": "stdout",
     "output_type": "stream",
     "text": [
      "Epoch: 30 | Train loss:  0.4608 | Train acc:  0.8430 | Test loss:  0.6323 | Test acc:  0.7809 \n"
     ]
    },
    {
     "name": "stderr",
     "output_type": "stream",
     "text": [
      " 16%|█▌        | 32/200 [1:41:47<9:03:51, 194.23s/it]"
     ]
    },
    {
     "name": "stdout",
     "output_type": "stream",
     "text": [
      "Epoch: 31 | Train loss:  0.4581 | Train acc:  0.8441 | Test loss:  0.5415 | Test acc:  0.8123 \n"
     ]
    },
    {
     "name": "stderr",
     "output_type": "stream",
     "text": [
      " 16%|█▋        | 33/200 [1:44:56<8:56:16, 192.67s/it]"
     ]
    },
    {
     "name": "stdout",
     "output_type": "stream",
     "text": [
      "Epoch: 32 | Train loss:  0.4606 | Train acc:  0.8430 | Test loss:  0.5127 | Test acc:  0.8283 \n",
      "saving model to: models\\01_ResNet_model_44_perfect_arg.pth\n"
     ]
    },
    {
     "name": "stderr",
     "output_type": "stream",
     "text": [
      " 17%|█▋        | 34/200 [1:48:05<8:50:02, 191.58s/it]"
     ]
    },
    {
     "name": "stdout",
     "output_type": "stream",
     "text": [
      "Epoch: 33 | Train loss:  0.4468 | Train acc:  0.8463 | Test loss:  0.6534 | Test acc:  0.7755 \n"
     ]
    },
    {
     "name": "stderr",
     "output_type": "stream",
     "text": [
      " 18%|█▊        | 35/200 [1:51:13<8:44:09, 190.60s/it]"
     ]
    },
    {
     "name": "stdout",
     "output_type": "stream",
     "text": [
      "Epoch: 34 | Train loss:  0.4530 | Train acc:  0.8468 | Test loss:  1.0707 | Test acc:  0.6764 \n"
     ]
    },
    {
     "name": "stderr",
     "output_type": "stream",
     "text": [
      " 18%|█▊        | 36/200 [1:54:21<8:38:35, 189.73s/it]"
     ]
    },
    {
     "name": "stdout",
     "output_type": "stream",
     "text": [
      "Epoch: 35 | Train loss:  0.4506 | Train acc:  0.8463 | Test loss:  0.6556 | Test acc:  0.7882 \n"
     ]
    },
    {
     "name": "stderr",
     "output_type": "stream",
     "text": [
      " 18%|█▊        | 37/200 [1:57:28<8:33:14, 188.92s/it]"
     ]
    },
    {
     "name": "stdout",
     "output_type": "stream",
     "text": [
      "Epoch: 36 | Train loss:  0.4476 | Train acc:  0.8463 | Test loss:  0.5526 | Test acc:  0.8065 \n"
     ]
    },
    {
     "name": "stderr",
     "output_type": "stream",
     "text": [
      " 19%|█▉        | 38/200 [2:00:36<8:29:16, 188.62s/it]"
     ]
    },
    {
     "name": "stdout",
     "output_type": "stream",
     "text": [
      "Epoch: 37 | Train loss:  0.4424 | Train acc:  0.8484 | Test loss:  0.5355 | Test acc:  0.8204 \n"
     ]
    },
    {
     "name": "stderr",
     "output_type": "stream",
     "text": [
      " 20%|█▉        | 39/200 [2:03:43<8:24:51, 188.15s/it]"
     ]
    },
    {
     "name": "stdout",
     "output_type": "stream",
     "text": [
      "Epoch: 38 | Train loss:  0.4402 | Train acc:  0.8496 | Test loss:  0.6724 | Test acc:  0.7905 \n"
     ]
    },
    {
     "name": "stderr",
     "output_type": "stream",
     "text": [
      " 20%|██        | 40/200 [2:06:50<8:21:02, 187.89s/it]"
     ]
    },
    {
     "name": "stdout",
     "output_type": "stream",
     "text": [
      "Epoch: 39 | Train loss:  0.4351 | Train acc:  0.8508 | Test loss:  0.5448 | Test acc:  0.8170 \n"
     ]
    },
    {
     "name": "stderr",
     "output_type": "stream",
     "text": [
      " 20%|██        | 41/200 [2:09:56<8:16:28, 187.35s/it]"
     ]
    },
    {
     "name": "stdout",
     "output_type": "stream",
     "text": [
      "Epoch: 40 | Train loss:  0.4377 | Train acc:  0.8500 | Test loss:  0.5747 | Test acc:  0.8037 \n"
     ]
    },
    {
     "name": "stderr",
     "output_type": "stream",
     "text": [
      " 21%|██        | 42/200 [2:13:03<8:12:46, 187.13s/it]"
     ]
    },
    {
     "name": "stdout",
     "output_type": "stream",
     "text": [
      "Epoch: 41 | Train loss:  0.4322 | Train acc:  0.8514 | Test loss:  0.7692 | Test acc:  0.7582 \n"
     ]
    },
    {
     "name": "stderr",
     "output_type": "stream",
     "text": [
      " 22%|██▏       | 43/200 [2:16:09<8:08:55, 186.85s/it]"
     ]
    },
    {
     "name": "stdout",
     "output_type": "stream",
     "text": [
      "Epoch: 42 | Train loss:  0.4340 | Train acc:  0.8510 | Test loss:  0.5249 | Test acc:  0.8259 \n"
     ]
    },
    {
     "name": "stderr",
     "output_type": "stream",
     "text": [
      " 22%|██▏       | 44/200 [2:19:15<8:05:18, 186.66s/it]"
     ]
    },
    {
     "name": "stdout",
     "output_type": "stream",
     "text": [
      "Epoch: 43 | Train loss:  0.4348 | Train acc:  0.8515 | Test loss:  0.5601 | Test acc:  0.8155 \n"
     ]
    },
    {
     "name": "stderr",
     "output_type": "stream",
     "text": [
      " 22%|██▎       | 45/200 [2:22:21<8:01:46, 186.49s/it]"
     ]
    },
    {
     "name": "stdout",
     "output_type": "stream",
     "text": [
      "Epoch: 44 | Train loss:  0.4277 | Train acc:  0.8530 | Test loss:  0.4881 | Test acc:  0.8337 \n",
      "saving model to: models\\01_ResNet_model_44_perfect_arg.pth\n"
     ]
    },
    {
     "name": "stderr",
     "output_type": "stream",
     "text": [
      " 23%|██▎       | 46/200 [2:25:27<7:57:59, 186.23s/it]"
     ]
    },
    {
     "name": "stdout",
     "output_type": "stream",
     "text": [
      "Epoch: 45 | Train loss:  0.4244 | Train acc:  0.8552 | Test loss:  0.4618 | Test acc:  0.8416 \n",
      "saving model to: models\\01_ResNet_model_44_perfect_arg.pth\n"
     ]
    },
    {
     "name": "stderr",
     "output_type": "stream",
     "text": [
      " 24%|██▎       | 47/200 [2:28:32<7:54:22, 186.03s/it]"
     ]
    },
    {
     "name": "stdout",
     "output_type": "stream",
     "text": [
      "Epoch: 46 | Train loss:  0.4196 | Train acc:  0.8561 | Test loss:  0.5136 | Test acc:  0.8280 \n"
     ]
    },
    {
     "name": "stderr",
     "output_type": "stream",
     "text": [
      " 24%|██▍       | 48/200 [2:31:38<7:51:16, 186.03s/it]"
     ]
    },
    {
     "name": "stdout",
     "output_type": "stream",
     "text": [
      "Epoch: 47 | Train loss:  0.4203 | Train acc:  0.8552 | Test loss:  0.5603 | Test acc:  0.8107 \n"
     ]
    },
    {
     "name": "stderr",
     "output_type": "stream",
     "text": [
      " 24%|██▍       | 49/200 [2:34:43<7:47:29, 185.76s/it]"
     ]
    },
    {
     "name": "stdout",
     "output_type": "stream",
     "text": [
      "Epoch: 48 | Train loss:  0.4213 | Train acc:  0.8564 | Test loss:  0.7096 | Test acc:  0.7652 \n"
     ]
    },
    {
     "name": "stderr",
     "output_type": "stream",
     "text": [
      " 25%|██▌       | 50/200 [2:37:49<7:44:09, 185.66s/it]"
     ]
    },
    {
     "name": "stdout",
     "output_type": "stream",
     "text": [
      "Epoch: 49 | Train loss:  0.4158 | Train acc:  0.8574 | Test loss:  0.5810 | Test acc:  0.8087 \n"
     ]
    },
    {
     "name": "stderr",
     "output_type": "stream",
     "text": [
      " 26%|██▌       | 51/200 [2:40:55<7:41:11, 185.71s/it]"
     ]
    },
    {
     "name": "stdout",
     "output_type": "stream",
     "text": [
      "Epoch: 50 | Train loss:  0.4146 | Train acc:  0.8584 | Test loss:  0.5837 | Test acc:  0.8055 \n"
     ]
    },
    {
     "name": "stderr",
     "output_type": "stream",
     "text": [
      " 26%|██▌       | 52/200 [2:44:00<7:38:07, 185.73s/it]"
     ]
    },
    {
     "name": "stdout",
     "output_type": "stream",
     "text": [
      "Epoch: 51 | Train loss:  0.4128 | Train acc:  0.8577 | Test loss:  0.5300 | Test acc:  0.8170 \n"
     ]
    },
    {
     "name": "stderr",
     "output_type": "stream",
     "text": [
      " 26%|██▋       | 53/200 [2:47:06<7:34:47, 185.63s/it]"
     ]
    },
    {
     "name": "stdout",
     "output_type": "stream",
     "text": [
      "Epoch: 52 | Train loss:  0.4142 | Train acc:  0.8577 | Test loss:  0.4569 | Test acc:  0.8420 \n",
      "saving model to: models\\01_ResNet_model_44_perfect_arg.pth\n"
     ]
    },
    {
     "name": "stderr",
     "output_type": "stream",
     "text": [
      " 27%|██▋       | 54/200 [2:50:12<7:31:57, 185.74s/it]"
     ]
    },
    {
     "name": "stdout",
     "output_type": "stream",
     "text": [
      "Epoch: 53 | Train loss:  0.4096 | Train acc:  0.8595 | Test loss:  0.5226 | Test acc:  0.8282 \n"
     ]
    },
    {
     "name": "stderr",
     "output_type": "stream",
     "text": [
      " 28%|██▊       | 55/200 [2:53:18<7:28:54, 185.75s/it]"
     ]
    },
    {
     "name": "stdout",
     "output_type": "stream",
     "text": [
      "Epoch: 54 | Train loss:  0.4121 | Train acc:  0.8579 | Test loss:  0.5007 | Test acc:  0.8295 \n"
     ]
    },
    {
     "name": "stderr",
     "output_type": "stream",
     "text": [
      " 28%|██▊       | 56/200 [2:56:23<7:25:34, 185.66s/it]"
     ]
    },
    {
     "name": "stdout",
     "output_type": "stream",
     "text": [
      "Epoch: 55 | Train loss:  0.4022 | Train acc:  0.8615 | Test loss:  0.5968 | Test acc:  0.8065 \n"
     ]
    },
    {
     "name": "stderr",
     "output_type": "stream",
     "text": [
      " 28%|██▊       | 57/200 [2:59:28<7:21:47, 185.37s/it]"
     ]
    },
    {
     "name": "stdout",
     "output_type": "stream",
     "text": [
      "Epoch: 56 | Train loss:  0.4068 | Train acc:  0.8599 | Test loss:  0.6026 | Test acc:  0.7987 \n"
     ]
    },
    {
     "name": "stderr",
     "output_type": "stream",
     "text": [
      " 29%|██▉       | 58/200 [3:02:33<7:18:45, 185.39s/it]"
     ]
    },
    {
     "name": "stdout",
     "output_type": "stream",
     "text": [
      "Epoch: 57 | Train loss:  0.4033 | Train acc:  0.8609 | Test loss:  0.4550 | Test acc:  0.8487 \n",
      "saving model to: models\\01_ResNet_model_44_perfect_arg.pth\n"
     ]
    },
    {
     "name": "stderr",
     "output_type": "stream",
     "text": [
      " 30%|██▉       | 59/200 [3:05:39<7:15:39, 185.38s/it]"
     ]
    },
    {
     "name": "stdout",
     "output_type": "stream",
     "text": [
      "Epoch: 58 | Train loss:  0.4034 | Train acc:  0.8603 | Test loss:  0.4995 | Test acc:  0.8306 \n"
     ]
    },
    {
     "name": "stderr",
     "output_type": "stream",
     "text": [
      " 30%|███       | 60/200 [3:08:45<7:13:08, 185.63s/it]"
     ]
    },
    {
     "name": "stdout",
     "output_type": "stream",
     "text": [
      "Epoch: 59 | Train loss:  0.3972 | Train acc:  0.8632 | Test loss:  0.6009 | Test acc:  0.8095 \n"
     ]
    },
    {
     "name": "stderr",
     "output_type": "stream",
     "text": [
      " 30%|███       | 61/200 [3:11:50<7:09:32, 185.42s/it]"
     ]
    },
    {
     "name": "stdout",
     "output_type": "stream",
     "text": [
      "Epoch: 60 | Train loss:  0.3913 | Train acc:  0.8659 | Test loss:  0.4517 | Test acc:  0.8429 \n"
     ]
    },
    {
     "name": "stderr",
     "output_type": "stream",
     "text": [
      " 31%|███       | 62/200 [3:14:55<7:06:26, 185.41s/it]"
     ]
    },
    {
     "name": "stdout",
     "output_type": "stream",
     "text": [
      "Epoch: 61 | Train loss:  0.3943 | Train acc:  0.8652 | Test loss:  0.6423 | Test acc:  0.7960 \n"
     ]
    },
    {
     "name": "stderr",
     "output_type": "stream",
     "text": [
      " 32%|███▏      | 63/200 [3:18:00<7:03:16, 185.37s/it]"
     ]
    },
    {
     "name": "stdout",
     "output_type": "stream",
     "text": [
      "Epoch: 62 | Train loss:  0.3929 | Train acc:  0.8654 | Test loss:  0.4900 | Test acc:  0.8356 \n"
     ]
    },
    {
     "name": "stderr",
     "output_type": "stream",
     "text": [
      " 32%|███▏      | 64/200 [3:21:06<7:00:24, 185.48s/it]"
     ]
    },
    {
     "name": "stdout",
     "output_type": "stream",
     "text": [
      "Epoch: 63 | Train loss:  0.3910 | Train acc:  0.8660 | Test loss:  0.4725 | Test acc:  0.8387 \n"
     ]
    },
    {
     "name": "stderr",
     "output_type": "stream",
     "text": [
      " 32%|███▎      | 65/200 [3:24:11<6:56:47, 185.24s/it]"
     ]
    },
    {
     "name": "stdout",
     "output_type": "stream",
     "text": [
      "Epoch: 64 | Train loss:  0.3877 | Train acc:  0.8673 | Test loss:  0.7459 | Test acc:  0.7579 \n"
     ]
    },
    {
     "name": "stderr",
     "output_type": "stream",
     "text": [
      " 33%|███▎      | 66/200 [3:27:16<6:53:53, 185.32s/it]"
     ]
    },
    {
     "name": "stdout",
     "output_type": "stream",
     "text": [
      "Epoch: 65 | Train loss:  0.3872 | Train acc:  0.8662 | Test loss:  0.4432 | Test acc:  0.8511 \n",
      "saving model to: models\\01_ResNet_model_44_perfect_arg.pth\n"
     ]
    },
    {
     "name": "stderr",
     "output_type": "stream",
     "text": [
      " 34%|███▎      | 67/200 [3:30:22<6:50:47, 185.32s/it]"
     ]
    },
    {
     "name": "stdout",
     "output_type": "stream",
     "text": [
      "Epoch: 66 | Train loss:  0.3855 | Train acc:  0.8672 | Test loss:  0.5224 | Test acc:  0.8271 \n"
     ]
    },
    {
     "name": "stderr",
     "output_type": "stream",
     "text": [
      " 34%|███▍      | 68/200 [3:33:26<6:47:24, 185.18s/it]"
     ]
    },
    {
     "name": "stdout",
     "output_type": "stream",
     "text": [
      "Epoch: 67 | Train loss:  0.3813 | Train acc:  0.8680 | Test loss:  0.5125 | Test acc:  0.8283 \n"
     ]
    },
    {
     "name": "stderr",
     "output_type": "stream",
     "text": [
      " 34%|███▍      | 69/200 [3:36:31<6:43:52, 184.98s/it]"
     ]
    },
    {
     "name": "stdout",
     "output_type": "stream",
     "text": [
      "Epoch: 68 | Train loss:  0.3779 | Train acc:  0.8703 | Test loss:  0.5015 | Test acc:  0.8317 \n"
     ]
    },
    {
     "name": "stderr",
     "output_type": "stream",
     "text": [
      " 35%|███▌      | 70/200 [3:39:36<6:40:41, 184.94s/it]"
     ]
    },
    {
     "name": "stdout",
     "output_type": "stream",
     "text": [
      "Epoch: 69 | Train loss:  0.3783 | Train acc:  0.8701 | Test loss:  0.5657 | Test acc:  0.8092 \n"
     ]
    },
    {
     "name": "stderr",
     "output_type": "stream",
     "text": [
      " 36%|███▌      | 71/200 [3:42:41<6:37:52, 185.06s/it]"
     ]
    },
    {
     "name": "stdout",
     "output_type": "stream",
     "text": [
      "Epoch: 70 | Train loss:  0.3778 | Train acc:  0.8710 | Test loss:  0.5138 | Test acc:  0.8347 \n"
     ]
    },
    {
     "name": "stderr",
     "output_type": "stream",
     "text": [
      " 36%|███▌      | 72/200 [3:45:47<6:35:21, 185.32s/it]"
     ]
    },
    {
     "name": "stdout",
     "output_type": "stream",
     "text": [
      "Epoch: 71 | Train loss:  0.3772 | Train acc:  0.8691 | Test loss:  0.3987 | Test acc:  0.8646 \n",
      "saving model to: models\\01_ResNet_model_44_perfect_arg.pth\n"
     ]
    },
    {
     "name": "stderr",
     "output_type": "stream",
     "text": [
      " 36%|███▋      | 73/200 [3:48:52<6:32:14, 185.31s/it]"
     ]
    },
    {
     "name": "stdout",
     "output_type": "stream",
     "text": [
      "Epoch: 72 | Train loss:  0.3721 | Train acc:  0.8733 | Test loss:  0.5182 | Test acc:  0.8249 \n"
     ]
    },
    {
     "name": "stderr",
     "output_type": "stream",
     "text": [
      " 37%|███▋      | 74/200 [3:51:57<6:28:42, 185.10s/it]"
     ]
    },
    {
     "name": "stdout",
     "output_type": "stream",
     "text": [
      "Epoch: 73 | Train loss:  0.3711 | Train acc:  0.8722 | Test loss:  0.4656 | Test acc:  0.8401 \n"
     ]
    },
    {
     "name": "stderr",
     "output_type": "stream",
     "text": [
      " 38%|███▊      | 75/200 [3:55:01<6:25:12, 184.90s/it]"
     ]
    },
    {
     "name": "stdout",
     "output_type": "stream",
     "text": [
      "Epoch: 74 | Train loss:  0.3693 | Train acc:  0.8740 | Test loss:  0.5390 | Test acc:  0.8161 \n"
     ]
    },
    {
     "name": "stderr",
     "output_type": "stream",
     "text": [
      " 38%|███▊      | 76/200 [3:58:07<6:22:39, 185.15s/it]"
     ]
    },
    {
     "name": "stdout",
     "output_type": "stream",
     "text": [
      "Epoch: 75 | Train loss:  0.3637 | Train acc:  0.8748 | Test loss:  0.6140 | Test acc:  0.8015 \n"
     ]
    },
    {
     "name": "stderr",
     "output_type": "stream",
     "text": [
      " 38%|███▊      | 77/200 [4:01:13<6:20:09, 185.44s/it]"
     ]
    },
    {
     "name": "stdout",
     "output_type": "stream",
     "text": [
      "Epoch: 76 | Train loss:  0.3637 | Train acc:  0.8755 | Test loss:  0.4292 | Test acc:  0.8513 \n"
     ]
    },
    {
     "name": "stderr",
     "output_type": "stream",
     "text": [
      " 39%|███▉      | 78/200 [4:04:20<6:17:36, 185.71s/it]"
     ]
    },
    {
     "name": "stdout",
     "output_type": "stream",
     "text": [
      "Epoch: 77 | Train loss:  0.3604 | Train acc:  0.8759 | Test loss:  0.4901 | Test acc:  0.8394 \n"
     ]
    },
    {
     "name": "stderr",
     "output_type": "stream",
     "text": [
      " 40%|███▉      | 79/200 [4:07:24<6:14:00, 185.46s/it]"
     ]
    },
    {
     "name": "stdout",
     "output_type": "stream",
     "text": [
      "Epoch: 78 | Train loss:  0.3615 | Train acc:  0.8764 | Test loss:  0.4181 | Test acc:  0.8594 \n"
     ]
    },
    {
     "name": "stderr",
     "output_type": "stream",
     "text": [
      " 40%|████      | 80/200 [4:10:06<5:56:41, 178.35s/it]"
     ]
    },
    {
     "name": "stdout",
     "output_type": "stream",
     "text": [
      "Epoch: 79 | Train loss:  0.3577 | Train acc:  0.8770 | Test loss:  0.5227 | Test acc:  0.8226 \n"
     ]
    },
    {
     "name": "stderr",
     "output_type": "stream",
     "text": [
      " 40%|████      | 81/200 [4:16:05<7:40:56, 232.41s/it]"
     ]
    },
    {
     "name": "stdout",
     "output_type": "stream",
     "text": [
      "Epoch: 80 | Train loss:  0.3535 | Train acc:  0.8787 | Test loss:  0.4825 | Test acc:  0.8414 \n"
     ]
    },
    {
     "name": "stderr",
     "output_type": "stream",
     "text": [
      " 41%|████      | 82/200 [4:24:29<10:17:28, 313.97s/it]"
     ]
    },
    {
     "name": "stdout",
     "output_type": "stream",
     "text": [
      "Epoch: 81 | Train loss:  0.3518 | Train acc:  0.8791 | Test loss:  0.4113 | Test acc:  0.8631 \n"
     ]
    },
    {
     "name": "stderr",
     "output_type": "stream",
     "text": [
      " 42%|████▏     | 83/200 [4:32:52<12:02:31, 370.53s/it]"
     ]
    },
    {
     "name": "stdout",
     "output_type": "stream",
     "text": [
      "Epoch: 82 | Train loss:  0.3522 | Train acc:  0.8790 | Test loss:  0.4079 | Test acc:  0.8636 \n"
     ]
    },
    {
     "name": "stderr",
     "output_type": "stream",
     "text": [
      " 42%|████▏     | 84/200 [4:41:22<13:17:18, 412.40s/it]"
     ]
    },
    {
     "name": "stdout",
     "output_type": "stream",
     "text": [
      "Epoch: 83 | Train loss:  0.3489 | Train acc:  0.8779 | Test loss:  0.4725 | Test acc:  0.8398 \n"
     ]
    },
    {
     "name": "stderr",
     "output_type": "stream",
     "text": [
      " 42%|████▎     | 85/200 [4:49:50<14:05:33, 441.16s/it]"
     ]
    },
    {
     "name": "stdout",
     "output_type": "stream",
     "text": [
      "Epoch: 84 | Train loss:  0.3451 | Train acc:  0.8829 | Test loss:  0.4438 | Test acc:  0.8499 \n"
     ]
    },
    {
     "name": "stderr",
     "output_type": "stream",
     "text": [
      " 43%|████▎     | 86/200 [4:58:08<14:30:54, 458.37s/it]"
     ]
    },
    {
     "name": "stdout",
     "output_type": "stream",
     "text": [
      "Epoch: 85 | Train loss:  0.3464 | Train acc:  0.8805 | Test loss:  0.5294 | Test acc:  0.8237 \n"
     ]
    },
    {
     "name": "stderr",
     "output_type": "stream",
     "text": [
      " 44%|████▎     | 87/200 [5:01:01<11:41:46, 372.62s/it]"
     ]
    },
    {
     "name": "stdout",
     "output_type": "stream",
     "text": [
      "Epoch: 86 | Train loss:  0.3386 | Train acc:  0.8839 | Test loss:  0.4409 | Test acc:  0.8565 \n"
     ]
    },
    {
     "name": "stderr",
     "output_type": "stream",
     "text": [
      " 44%|████▍     | 88/200 [5:03:06<9:16:44, 298.25s/it] "
     ]
    },
    {
     "name": "stdout",
     "output_type": "stream",
     "text": [
      "Epoch: 87 | Train loss:  0.3396 | Train acc:  0.8837 | Test loss:  0.4683 | Test acc:  0.8472 \n"
     ]
    },
    {
     "name": "stderr",
     "output_type": "stream",
     "text": [
      " 44%|████▍     | 89/200 [5:05:10<7:35:18, 246.11s/it]"
     ]
    },
    {
     "name": "stdout",
     "output_type": "stream",
     "text": [
      "Epoch: 88 | Train loss:  0.3332 | Train acc:  0.8858 | Test loss:  0.4992 | Test acc:  0.8310 \n"
     ]
    },
    {
     "name": "stderr",
     "output_type": "stream",
     "text": [
      " 45%|████▌     | 90/200 [5:07:16<6:24:50, 209.91s/it]"
     ]
    },
    {
     "name": "stdout",
     "output_type": "stream",
     "text": [
      "Epoch: 89 | Train loss:  0.3310 | Train acc:  0.8871 | Test loss:  0.4373 | Test acc:  0.8528 \n"
     ]
    },
    {
     "name": "stderr",
     "output_type": "stream",
     "text": [
      " 46%|████▌     | 91/200 [5:09:21<5:35:04, 184.44s/it]"
     ]
    },
    {
     "name": "stdout",
     "output_type": "stream",
     "text": [
      "Epoch: 90 | Train loss:  0.3325 | Train acc:  0.8871 | Test loss:  0.4158 | Test acc:  0.8596 \n"
     ]
    },
    {
     "name": "stderr",
     "output_type": "stream",
     "text": [
      " 46%|████▌     | 92/200 [5:11:26<4:59:50, 166.58s/it]"
     ]
    },
    {
     "name": "stdout",
     "output_type": "stream",
     "text": [
      "Epoch: 91 | Train loss:  0.3311 | Train acc:  0.8856 | Test loss:  0.4345 | Test acc:  0.8551 \n"
     ]
    },
    {
     "name": "stderr",
     "output_type": "stream",
     "text": [
      " 46%|████▋     | 93/200 [5:13:31<4:34:53, 154.15s/it]"
     ]
    },
    {
     "name": "stdout",
     "output_type": "stream",
     "text": [
      "Epoch: 92 | Train loss:  0.3266 | Train acc:  0.8876 | Test loss:  0.3896 | Test acc:  0.8657 \n",
      "saving model to: models\\01_ResNet_model_44_perfect_arg.pth\n"
     ]
    },
    {
     "name": "stderr",
     "output_type": "stream",
     "text": [
      " 47%|████▋     | 94/200 [5:15:36<4:16:58, 145.46s/it]"
     ]
    },
    {
     "name": "stdout",
     "output_type": "stream",
     "text": [
      "Epoch: 93 | Train loss:  0.3278 | Train acc:  0.8864 | Test loss:  0.4363 | Test acc:  0.8530 \n"
     ]
    },
    {
     "name": "stderr",
     "output_type": "stream",
     "text": [
      " 48%|████▊     | 95/200 [5:17:41<4:04:00, 139.44s/it]"
     ]
    },
    {
     "name": "stdout",
     "output_type": "stream",
     "text": [
      "Epoch: 94 | Train loss:  0.3209 | Train acc:  0.8905 | Test loss:  0.3994 | Test acc:  0.8646 \n"
     ]
    },
    {
     "name": "stderr",
     "output_type": "stream",
     "text": [
      " 48%|████▊     | 96/200 [5:19:46<3:54:16, 135.16s/it]"
     ]
    },
    {
     "name": "stdout",
     "output_type": "stream",
     "text": [
      "Epoch: 95 | Train loss:  0.3150 | Train acc:  0.8911 | Test loss:  0.4678 | Test acc:  0.8387 \n"
     ]
    },
    {
     "name": "stderr",
     "output_type": "stream",
     "text": [
      " 48%|████▊     | 97/200 [5:21:51<3:46:45, 132.09s/it]"
     ]
    },
    {
     "name": "stdout",
     "output_type": "stream",
     "text": [
      "Epoch: 96 | Train loss:  0.3187 | Train acc:  0.8908 | Test loss:  0.4111 | Test acc:  0.8586 \n"
     ]
    },
    {
     "name": "stderr",
     "output_type": "stream",
     "text": [
      " 49%|████▉     | 98/200 [5:23:57<3:41:17, 130.17s/it]"
     ]
    },
    {
     "name": "stdout",
     "output_type": "stream",
     "text": [
      "Epoch: 97 | Train loss:  0.3169 | Train acc:  0.8919 | Test loss:  0.4601 | Test acc:  0.8478 \n"
     ]
    },
    {
     "name": "stderr",
     "output_type": "stream",
     "text": [
      " 50%|████▉     | 99/200 [5:26:02<3:36:41, 128.73s/it]"
     ]
    },
    {
     "name": "stdout",
     "output_type": "stream",
     "text": [
      "Epoch: 98 | Train loss:  0.3030 | Train acc:  0.8967 | Test loss:  0.5430 | Test acc:  0.8303 \n"
     ]
    },
    {
     "name": "stderr",
     "output_type": "stream",
     "text": [
      " 50%|█████     | 100/200 [5:28:08<3:33:08, 127.89s/it]"
     ]
    },
    {
     "name": "stdout",
     "output_type": "stream",
     "text": [
      "Epoch: 99 | Train loss:  0.3092 | Train acc:  0.8944 | Test loss:  0.4172 | Test acc:  0.8578 \n"
     ]
    },
    {
     "name": "stderr",
     "output_type": "stream",
     "text": [
      " 50%|█████     | 101/200 [5:31:15<4:00:20, 145.66s/it]"
     ]
    },
    {
     "name": "stdout",
     "output_type": "stream",
     "text": [
      "Epoch: 100 | Train loss:  0.3042 | Train acc:  0.8966 | Test loss:  0.4413 | Test acc:  0.8515 \n"
     ]
    },
    {
     "name": "stderr",
     "output_type": "stream",
     "text": [
      " 51%|█████     | 102/200 [5:33:19<3:46:59, 138.97s/it]"
     ]
    },
    {
     "name": "stdout",
     "output_type": "stream",
     "text": [
      "Epoch: 101 | Train loss:  0.3039 | Train acc:  0.8956 | Test loss:  0.4781 | Test acc:  0.8448 \n"
     ]
    },
    {
     "name": "stderr",
     "output_type": "stream",
     "text": [
      " 52%|█████▏    | 103/200 [5:35:21<3:36:33, 133.96s/it]"
     ]
    },
    {
     "name": "stdout",
     "output_type": "stream",
     "text": [
      "Epoch: 102 | Train loss:  0.2992 | Train acc:  0.8971 | Test loss:  0.4130 | Test acc:  0.8596 \n"
     ]
    },
    {
     "name": "stderr",
     "output_type": "stream",
     "text": [
      " 52%|█████▏    | 104/200 [5:37:35<3:34:10, 133.86s/it]"
     ]
    },
    {
     "name": "stdout",
     "output_type": "stream",
     "text": [
      "Epoch: 103 | Train loss:  0.2925 | Train acc:  0.8993 | Test loss:  0.3857 | Test acc:  0.8740 \n",
      "saving model to: models\\01_ResNet_model_44_perfect_arg.pth\n"
     ]
    },
    {
     "name": "stderr",
     "output_type": "stream",
     "text": [
      " 52%|█████▎    | 105/200 [5:39:46<3:30:38, 133.04s/it]"
     ]
    },
    {
     "name": "stdout",
     "output_type": "stream",
     "text": [
      "Epoch: 104 | Train loss:  0.2974 | Train acc:  0.8966 | Test loss:  0.3947 | Test acc:  0.8688 \n"
     ]
    },
    {
     "name": "stderr",
     "output_type": "stream",
     "text": [
      " 53%|█████▎    | 106/200 [5:41:48<3:23:17, 129.76s/it]"
     ]
    },
    {
     "name": "stdout",
     "output_type": "stream",
     "text": [
      "Epoch: 105 | Train loss:  0.2920 | Train acc:  0.8996 | Test loss:  0.4865 | Test acc:  0.8361 \n"
     ]
    },
    {
     "name": "stderr",
     "output_type": "stream",
     "text": [
      " 54%|█████▎    | 107/200 [5:43:52<3:18:23, 128.00s/it]"
     ]
    },
    {
     "name": "stdout",
     "output_type": "stream",
     "text": [
      "Epoch: 106 | Train loss:  0.2891 | Train acc:  0.9002 | Test loss:  0.4041 | Test acc:  0.8664 \n"
     ]
    },
    {
     "name": "stderr",
     "output_type": "stream",
     "text": [
      " 54%|█████▍    | 108/200 [5:45:54<3:13:40, 126.31s/it]"
     ]
    },
    {
     "name": "stdout",
     "output_type": "stream",
     "text": [
      "Epoch: 107 | Train loss:  0.2863 | Train acc:  0.9038 | Test loss:  0.4043 | Test acc:  0.8662 \n"
     ]
    },
    {
     "name": "stderr",
     "output_type": "stream",
     "text": [
      " 55%|█████▍    | 109/200 [5:47:57<3:09:52, 125.19s/it]"
     ]
    },
    {
     "name": "stdout",
     "output_type": "stream",
     "text": [
      "Epoch: 108 | Train loss:  0.2871 | Train acc:  0.9011 | Test loss:  0.4137 | Test acc:  0.8612 \n"
     ]
    },
    {
     "name": "stderr",
     "output_type": "stream",
     "text": [
      " 55%|█████▌    | 110/200 [5:49:59<3:06:32, 124.36s/it]"
     ]
    },
    {
     "name": "stdout",
     "output_type": "stream",
     "text": [
      "Epoch: 109 | Train loss:  0.2822 | Train acc:  0.9040 | Test loss:  0.3576 | Test acc:  0.8799 \n",
      "saving model to: models\\01_ResNet_model_44_perfect_arg.pth\n"
     ]
    },
    {
     "name": "stderr",
     "output_type": "stream",
     "text": [
      " 56%|█████▌    | 111/200 [5:52:01<3:03:30, 123.71s/it]"
     ]
    },
    {
     "name": "stdout",
     "output_type": "stream",
     "text": [
      "Epoch: 110 | Train loss:  0.2762 | Train acc:  0.9050 | Test loss:  0.4215 | Test acc:  0.8590 \n"
     ]
    },
    {
     "name": "stderr",
     "output_type": "stream",
     "text": [
      " 56%|█████▌    | 112/200 [5:54:39<3:16:20, 133.87s/it]"
     ]
    },
    {
     "name": "stdout",
     "output_type": "stream",
     "text": [
      "Epoch: 111 | Train loss:  0.2721 | Train acc:  0.9060 | Test loss:  0.3457 | Test acc:  0.8836 \n",
      "saving model to: models\\01_ResNet_model_44_perfect_arg.pth\n"
     ]
    },
    {
     "name": "stderr",
     "output_type": "stream",
     "text": [
      " 56%|█████▋    | 113/200 [5:57:51<3:39:35, 151.44s/it]"
     ]
    },
    {
     "name": "stdout",
     "output_type": "stream",
     "text": [
      "Epoch: 112 | Train loss:  0.2681 | Train acc:  0.9087 | Test loss:  0.3764 | Test acc:  0.8771 \n"
     ]
    },
    {
     "name": "stderr",
     "output_type": "stream",
     "text": [
      " 57%|█████▋    | 114/200 [6:01:02<3:54:00, 163.26s/it]"
     ]
    },
    {
     "name": "stdout",
     "output_type": "stream",
     "text": [
      "Epoch: 113 | Train loss:  0.2717 | Train acc:  0.9066 | Test loss:  0.4178 | Test acc:  0.8588 \n"
     ]
    },
    {
     "name": "stderr",
     "output_type": "stream",
     "text": [
      " 57%|█████▊    | 115/200 [6:04:13<4:02:59, 171.52s/it]"
     ]
    },
    {
     "name": "stdout",
     "output_type": "stream",
     "text": [
      "Epoch: 114 | Train loss:  0.2652 | Train acc:  0.9108 | Test loss:  0.3949 | Test acc:  0.8677 \n"
     ]
    },
    {
     "name": "stderr",
     "output_type": "stream",
     "text": [
      " 58%|█████▊    | 116/200 [6:07:23<4:08:02, 177.18s/it]"
     ]
    },
    {
     "name": "stdout",
     "output_type": "stream",
     "text": [
      "Epoch: 115 | Train loss:  0.2599 | Train acc:  0.9113 | Test loss:  0.3956 | Test acc:  0.8678 \n"
     ]
    },
    {
     "name": "stderr",
     "output_type": "stream",
     "text": [
      " 58%|█████▊    | 117/200 [6:10:35<4:11:03, 181.49s/it]"
     ]
    },
    {
     "name": "stdout",
     "output_type": "stream",
     "text": [
      "Epoch: 116 | Train loss:  0.2609 | Train acc:  0.9087 | Test loss:  0.3591 | Test acc:  0.8803 \n"
     ]
    },
    {
     "name": "stderr",
     "output_type": "stream",
     "text": [
      " 59%|█████▉    | 118/200 [6:13:46<4:11:49, 184.27s/it]"
     ]
    },
    {
     "name": "stdout",
     "output_type": "stream",
     "text": [
      "Epoch: 117 | Train loss:  0.2561 | Train acc:  0.9123 | Test loss:  0.4071 | Test acc:  0.8655 \n"
     ]
    },
    {
     "name": "stderr",
     "output_type": "stream",
     "text": [
      " 60%|█████▉    | 119/200 [6:16:55<4:10:44, 185.73s/it]"
     ]
    },
    {
     "name": "stdout",
     "output_type": "stream",
     "text": [
      "Epoch: 118 | Train loss:  0.2498 | Train acc:  0.9136 | Test loss:  0.3488 | Test acc:  0.8832 \n"
     ]
    },
    {
     "name": "stderr",
     "output_type": "stream",
     "text": [
      " 60%|██████    | 120/200 [6:20:04<4:08:55, 186.69s/it]"
     ]
    },
    {
     "name": "stdout",
     "output_type": "stream",
     "text": [
      "Epoch: 119 | Train loss:  0.2489 | Train acc:  0.9126 | Test loss:  0.3749 | Test acc:  0.8748 \n"
     ]
    },
    {
     "name": "stderr",
     "output_type": "stream",
     "text": [
      " 60%|██████    | 121/200 [6:23:13<4:06:40, 187.35s/it]"
     ]
    },
    {
     "name": "stdout",
     "output_type": "stream",
     "text": [
      "Epoch: 120 | Train loss:  0.2474 | Train acc:  0.9142 | Test loss:  0.3534 | Test acc:  0.8832 \n"
     ]
    },
    {
     "name": "stderr",
     "output_type": "stream",
     "text": [
      " 61%|██████    | 122/200 [6:26:22<4:04:23, 188.00s/it]"
     ]
    },
    {
     "name": "stdout",
     "output_type": "stream",
     "text": [
      "Epoch: 121 | Train loss:  0.2419 | Train acc:  0.9172 | Test loss:  0.4984 | Test acc:  0.8427 \n"
     ]
    },
    {
     "name": "stderr",
     "output_type": "stream",
     "text": [
      " 62%|██████▏   | 123/200 [6:29:31<4:01:30, 188.19s/it]"
     ]
    },
    {
     "name": "stdout",
     "output_type": "stream",
     "text": [
      "Epoch: 122 | Train loss:  0.2413 | Train acc:  0.9161 | Test loss:  0.3587 | Test acc:  0.8781 \n"
     ]
    },
    {
     "name": "stderr",
     "output_type": "stream",
     "text": [
      " 62%|██████▏   | 124/200 [6:32:39<3:58:21, 188.18s/it]"
     ]
    },
    {
     "name": "stdout",
     "output_type": "stream",
     "text": [
      "Epoch: 123 | Train loss:  0.2400 | Train acc:  0.9178 | Test loss:  0.3740 | Test acc:  0.8785 \n"
     ]
    },
    {
     "name": "stderr",
     "output_type": "stream",
     "text": [
      " 62%|██████▎   | 125/200 [6:35:47<3:55:14, 188.19s/it]"
     ]
    },
    {
     "name": "stdout",
     "output_type": "stream",
     "text": [
      "Epoch: 124 | Train loss:  0.2337 | Train acc:  0.9193 | Test loss:  0.3587 | Test acc:  0.8798 \n"
     ]
    },
    {
     "name": "stderr",
     "output_type": "stream",
     "text": [
      " 63%|██████▎   | 126/200 [6:38:55<3:51:57, 188.07s/it]"
     ]
    },
    {
     "name": "stdout",
     "output_type": "stream",
     "text": [
      "Epoch: 125 | Train loss:  0.2284 | Train acc:  0.9214 | Test loss:  0.3741 | Test acc:  0.8730 \n"
     ]
    },
    {
     "name": "stderr",
     "output_type": "stream",
     "text": [
      " 64%|██████▎   | 127/200 [6:42:04<3:49:00, 188.22s/it]"
     ]
    },
    {
     "name": "stdout",
     "output_type": "stream",
     "text": [
      "Epoch: 126 | Train loss:  0.2324 | Train acc:  0.9198 | Test loss:  0.4355 | Test acc:  0.8630 \n"
     ]
    },
    {
     "name": "stderr",
     "output_type": "stream",
     "text": [
      " 64%|██████▍   | 128/200 [6:45:12<3:46:02, 188.37s/it]"
     ]
    },
    {
     "name": "stdout",
     "output_type": "stream",
     "text": [
      "Epoch: 127 | Train loss:  0.2235 | Train acc:  0.9238 | Test loss:  0.3863 | Test acc:  0.8746 \n"
     ]
    },
    {
     "name": "stderr",
     "output_type": "stream",
     "text": [
      " 64%|██████▍   | 129/200 [6:48:21<3:42:51, 188.34s/it]"
     ]
    },
    {
     "name": "stdout",
     "output_type": "stream",
     "text": [
      "Epoch: 128 | Train loss:  0.2166 | Train acc:  0.9243 | Test loss:  0.3216 | Test acc:  0.8926 \n",
      "saving model to: models\\01_ResNet_model_44_perfect_arg.pth\n"
     ]
    },
    {
     "name": "stderr",
     "output_type": "stream",
     "text": [
      " 65%|██████▌   | 130/200 [6:51:30<3:40:11, 188.74s/it]"
     ]
    },
    {
     "name": "stdout",
     "output_type": "stream",
     "text": [
      "Epoch: 129 | Train loss:  0.2184 | Train acc:  0.9249 | Test loss:  0.3503 | Test acc:  0.8856 \n"
     ]
    },
    {
     "name": "stderr",
     "output_type": "stream",
     "text": [
      " 66%|██████▌   | 131/200 [6:54:39<3:36:58, 188.68s/it]"
     ]
    },
    {
     "name": "stdout",
     "output_type": "stream",
     "text": [
      "Epoch: 130 | Train loss:  0.2153 | Train acc:  0.9255 | Test loss:  0.3340 | Test acc:  0.8903 \n"
     ]
    },
    {
     "name": "stderr",
     "output_type": "stream",
     "text": [
      " 66%|██████▌   | 132/200 [6:57:48<3:33:58, 188.81s/it]"
     ]
    },
    {
     "name": "stdout",
     "output_type": "stream",
     "text": [
      "Epoch: 131 | Train loss:  0.2072 | Train acc:  0.9286 | Test loss:  0.3591 | Test acc:  0.8800 \n"
     ]
    },
    {
     "name": "stderr",
     "output_type": "stream",
     "text": [
      " 66%|██████▋   | 133/200 [7:00:58<3:31:15, 189.19s/it]"
     ]
    },
    {
     "name": "stdout",
     "output_type": "stream",
     "text": [
      "Epoch: 132 | Train loss:  0.2046 | Train acc:  0.9289 | Test loss:  0.3425 | Test acc:  0.8888 \n"
     ]
    },
    {
     "name": "stderr",
     "output_type": "stream",
     "text": [
      " 67%|██████▋   | 134/200 [7:04:08<3:28:19, 189.38s/it]"
     ]
    },
    {
     "name": "stdout",
     "output_type": "stream",
     "text": [
      "Epoch: 133 | Train loss:  0.2068 | Train acc:  0.9281 | Test loss:  0.3585 | Test acc:  0.8808 \n"
     ]
    },
    {
     "name": "stderr",
     "output_type": "stream",
     "text": [
      " 68%|██████▊   | 135/200 [7:07:17<3:25:03, 189.28s/it]"
     ]
    },
    {
     "name": "stdout",
     "output_type": "stream",
     "text": [
      "Epoch: 134 | Train loss:  0.1991 | Train acc:  0.9311 | Test loss:  0.3580 | Test acc:  0.8810 \n"
     ]
    },
    {
     "name": "stderr",
     "output_type": "stream",
     "text": [
      " 68%|██████▊   | 136/200 [7:10:26<3:21:49, 189.22s/it]"
     ]
    },
    {
     "name": "stdout",
     "output_type": "stream",
     "text": [
      "Epoch: 135 | Train loss:  0.1956 | Train acc:  0.9336 | Test loss:  0.3348 | Test acc:  0.8886 \n"
     ]
    },
    {
     "name": "stderr",
     "output_type": "stream",
     "text": [
      " 68%|██████▊   | 137/200 [7:13:34<3:18:14, 188.80s/it]"
     ]
    },
    {
     "name": "stdout",
     "output_type": "stream",
     "text": [
      "Epoch: 136 | Train loss:  0.1897 | Train acc:  0.9345 | Test loss:  0.2920 | Test acc:  0.9023 \n",
      "saving model to: models\\01_ResNet_model_44_perfect_arg.pth\n"
     ]
    },
    {
     "name": "stderr",
     "output_type": "stream",
     "text": [
      " 69%|██████▉   | 138/200 [7:16:42<3:14:50, 188.56s/it]"
     ]
    },
    {
     "name": "stdout",
     "output_type": "stream",
     "text": [
      "Epoch: 137 | Train loss:  0.1870 | Train acc:  0.9364 | Test loss:  0.3061 | Test acc:  0.8975 \n"
     ]
    },
    {
     "name": "stderr",
     "output_type": "stream",
     "text": [
      " 70%|██████▉   | 139/200 [7:19:50<3:11:35, 188.46s/it]"
     ]
    },
    {
     "name": "stdout",
     "output_type": "stream",
     "text": [
      "Epoch: 138 | Train loss:  0.1838 | Train acc:  0.9362 | Test loss:  0.3361 | Test acc:  0.8925 \n"
     ]
    },
    {
     "name": "stderr",
     "output_type": "stream",
     "text": [
      " 70%|███████   | 140/200 [7:22:59<3:08:36, 188.60s/it]"
     ]
    },
    {
     "name": "stdout",
     "output_type": "stream",
     "text": [
      "Epoch: 139 | Train loss:  0.1794 | Train acc:  0.9384 | Test loss:  0.3366 | Test acc:  0.8898 \n"
     ]
    },
    {
     "name": "stderr",
     "output_type": "stream",
     "text": [
      " 70%|███████   | 141/200 [7:26:06<3:05:01, 188.15s/it]"
     ]
    },
    {
     "name": "stdout",
     "output_type": "stream",
     "text": [
      "Epoch: 140 | Train loss:  0.1801 | Train acc:  0.9378 | Test loss:  0.3393 | Test acc:  0.8925 \n"
     ]
    },
    {
     "name": "stderr",
     "output_type": "stream",
     "text": [
      " 71%|███████   | 142/200 [7:29:14<3:01:49, 188.09s/it]"
     ]
    },
    {
     "name": "stdout",
     "output_type": "stream",
     "text": [
      "Epoch: 141 | Train loss:  0.1722 | Train acc:  0.9404 | Test loss:  0.2921 | Test acc:  0.9032 \n",
      "saving model to: models\\01_ResNet_model_44_perfect_arg.pth\n"
     ]
    },
    {
     "name": "stderr",
     "output_type": "stream",
     "text": [
      " 72%|███████▏  | 143/200 [7:32:22<2:58:33, 187.95s/it]"
     ]
    },
    {
     "name": "stdout",
     "output_type": "stream",
     "text": [
      "Epoch: 142 | Train loss:  0.1659 | Train acc:  0.9435 | Test loss:  0.3068 | Test acc:  0.9011 \n"
     ]
    },
    {
     "name": "stderr",
     "output_type": "stream",
     "text": [
      " 72%|███████▏  | 144/200 [7:35:30<2:55:27, 187.99s/it]"
     ]
    },
    {
     "name": "stdout",
     "output_type": "stream",
     "text": [
      "Epoch: 143 | Train loss:  0.1645 | Train acc:  0.9431 | Test loss:  0.3253 | Test acc:  0.8950 \n"
     ]
    },
    {
     "name": "stderr",
     "output_type": "stream",
     "text": [
      " 72%|███████▎  | 145/200 [7:38:37<2:52:10, 187.82s/it]"
     ]
    },
    {
     "name": "stdout",
     "output_type": "stream",
     "text": [
      "Epoch: 144 | Train loss:  0.1587 | Train acc:  0.9453 | Test loss:  0.3062 | Test acc:  0.9018 \n"
     ]
    },
    {
     "name": "stderr",
     "output_type": "stream",
     "text": [
      " 73%|███████▎  | 146/200 [7:41:45<2:48:58, 187.75s/it]"
     ]
    },
    {
     "name": "stdout",
     "output_type": "stream",
     "text": [
      "Epoch: 145 | Train loss:  0.1574 | Train acc:  0.9452 | Test loss:  0.3053 | Test acc:  0.9025 \n"
     ]
    },
    {
     "name": "stderr",
     "output_type": "stream",
     "text": [
      " 74%|███████▎  | 147/200 [7:44:52<2:45:41, 187.57s/it]"
     ]
    },
    {
     "name": "stdout",
     "output_type": "stream",
     "text": [
      "Epoch: 146 | Train loss:  0.1519 | Train acc:  0.9478 | Test loss:  0.3686 | Test acc:  0.8858 \n"
     ]
    },
    {
     "name": "stderr",
     "output_type": "stream",
     "text": [
      " 74%|███████▍  | 148/200 [7:47:59<2:42:32, 187.54s/it]"
     ]
    },
    {
     "name": "stdout",
     "output_type": "stream",
     "text": [
      "Epoch: 147 | Train loss:  0.1467 | Train acc:  0.9493 | Test loss:  0.3364 | Test acc:  0.8964 \n"
     ]
    },
    {
     "name": "stderr",
     "output_type": "stream",
     "text": [
      " 74%|███████▍  | 149/200 [7:51:07<2:39:20, 187.46s/it]"
     ]
    },
    {
     "name": "stdout",
     "output_type": "stream",
     "text": [
      "Epoch: 148 | Train loss:  0.1397 | Train acc:  0.9518 | Test loss:  0.3020 | Test acc:  0.9067 \n",
      "saving model to: models\\01_ResNet_model_44_perfect_arg.pth\n"
     ]
    },
    {
     "name": "stderr",
     "output_type": "stream",
     "text": [
      " 75%|███████▌  | 150/200 [7:54:15<2:36:27, 187.74s/it]"
     ]
    },
    {
     "name": "stdout",
     "output_type": "stream",
     "text": [
      "Epoch: 149 | Train loss:  0.1420 | Train acc:  0.9510 | Test loss:  0.2940 | Test acc:  0.9080 \n",
      "saving model to: models\\01_ResNet_model_44_perfect_arg.pth\n"
     ]
    },
    {
     "name": "stderr",
     "output_type": "stream",
     "text": [
      " 76%|███████▌  | 151/200 [7:57:22<2:33:13, 187.63s/it]"
     ]
    },
    {
     "name": "stdout",
     "output_type": "stream",
     "text": [
      "Epoch: 150 | Train loss:  0.1323 | Train acc:  0.9543 | Test loss:  0.2792 | Test acc:  0.9121 \n",
      "saving model to: models\\01_ResNet_model_44_perfect_arg.pth\n"
     ]
    },
    {
     "name": "stderr",
     "output_type": "stream",
     "text": [
      " 76%|███████▌  | 152/200 [8:00:30<2:30:08, 187.68s/it]"
     ]
    },
    {
     "name": "stdout",
     "output_type": "stream",
     "text": [
      "Epoch: 151 | Train loss:  0.1289 | Train acc:  0.9557 | Test loss:  0.2667 | Test acc:  0.9151 \n",
      "saving model to: models\\01_ResNet_model_44_perfect_arg.pth\n"
     ]
    },
    {
     "name": "stderr",
     "output_type": "stream",
     "text": [
      " 76%|███████▋  | 153/200 [8:03:37<2:26:47, 187.39s/it]"
     ]
    },
    {
     "name": "stdout",
     "output_type": "stream",
     "text": [
      "Epoch: 152 | Train loss:  0.1234 | Train acc:  0.9583 | Test loss:  0.2565 | Test acc:  0.9172 \n",
      "saving model to: models\\01_ResNet_model_44_perfect_arg.pth\n"
     ]
    },
    {
     "name": "stderr",
     "output_type": "stream",
     "text": [
      " 77%|███████▋  | 154/200 [8:06:44<2:23:31, 187.21s/it]"
     ]
    },
    {
     "name": "stdout",
     "output_type": "stream",
     "text": [
      "Epoch: 153 | Train loss:  0.1198 | Train acc:  0.9591 | Test loss:  0.3019 | Test acc:  0.9081 \n"
     ]
    },
    {
     "name": "stderr",
     "output_type": "stream",
     "text": [
      " 78%|███████▊  | 155/200 [8:09:51<2:20:21, 187.15s/it]"
     ]
    },
    {
     "name": "stdout",
     "output_type": "stream",
     "text": [
      "Epoch: 154 | Train loss:  0.1160 | Train acc:  0.9605 | Test loss:  0.3030 | Test acc:  0.9057 \n"
     ]
    },
    {
     "name": "stderr",
     "output_type": "stream",
     "text": [
      " 78%|███████▊  | 156/200 [8:12:59<2:17:28, 187.46s/it]"
     ]
    },
    {
     "name": "stdout",
     "output_type": "stream",
     "text": [
      "Epoch: 155 | Train loss:  0.1130 | Train acc:  0.9615 | Test loss:  0.3006 | Test acc:  0.9078 \n"
     ]
    },
    {
     "name": "stderr",
     "output_type": "stream",
     "text": [
      " 78%|███████▊  | 157/200 [8:16:06<2:14:16, 187.36s/it]"
     ]
    },
    {
     "name": "stdout",
     "output_type": "stream",
     "text": [
      "Epoch: 156 | Train loss:  0.1047 | Train acc:  0.9642 | Test loss:  0.2871 | Test acc:  0.9103 \n"
     ]
    },
    {
     "name": "stderr",
     "output_type": "stream",
     "text": [
      " 79%|███████▉  | 158/200 [8:19:14<2:11:12, 187.43s/it]"
     ]
    },
    {
     "name": "stdout",
     "output_type": "stream",
     "text": [
      "Epoch: 157 | Train loss:  0.0972 | Train acc:  0.9664 | Test loss:  0.2682 | Test acc:  0.9185 \n",
      "saving model to: models\\01_ResNet_model_44_perfect_arg.pth\n"
     ]
    },
    {
     "name": "stderr",
     "output_type": "stream",
     "text": [
      " 80%|███████▉  | 159/200 [8:22:21<2:08:07, 187.49s/it]"
     ]
    },
    {
     "name": "stdout",
     "output_type": "stream",
     "text": [
      "Epoch: 158 | Train loss:  0.0994 | Train acc:  0.9664 | Test loss:  0.3204 | Test acc:  0.9035 \n"
     ]
    },
    {
     "name": "stderr",
     "output_type": "stream",
     "text": [
      " 80%|████████  | 160/200 [8:25:28<2:04:50, 187.26s/it]"
     ]
    },
    {
     "name": "stdout",
     "output_type": "stream",
     "text": [
      "Epoch: 159 | Train loss:  0.0941 | Train acc:  0.9689 | Test loss:  0.2850 | Test acc:  0.9148 \n"
     ]
    },
    {
     "name": "stderr",
     "output_type": "stream",
     "text": [
      " 80%|████████  | 161/200 [8:28:35<2:01:41, 187.21s/it]"
     ]
    },
    {
     "name": "stdout",
     "output_type": "stream",
     "text": [
      "Epoch: 160 | Train loss:  0.0912 | Train acc:  0.9692 | Test loss:  0.2731 | Test acc:  0.9166 \n"
     ]
    },
    {
     "name": "stderr",
     "output_type": "stream",
     "text": [
      " 81%|████████  | 162/200 [8:31:42<1:58:27, 187.04s/it]"
     ]
    },
    {
     "name": "stdout",
     "output_type": "stream",
     "text": [
      "Epoch: 161 | Train loss:  0.0836 | Train acc:  0.9719 | Test loss:  0.2714 | Test acc:  0.9179 \n"
     ]
    },
    {
     "name": "stderr",
     "output_type": "stream",
     "text": [
      " 82%|████████▏ | 163/200 [8:34:48<1:55:15, 186.91s/it]"
     ]
    },
    {
     "name": "stdout",
     "output_type": "stream",
     "text": [
      "Epoch: 162 | Train loss:  0.0775 | Train acc:  0.9744 | Test loss:  0.2713 | Test acc:  0.9204 \n",
      "saving model to: models\\01_ResNet_model_44_perfect_arg.pth\n"
     ]
    },
    {
     "name": "stderr",
     "output_type": "stream",
     "text": [
      " 82%|████████▏ | 164/200 [8:37:56<1:52:22, 187.30s/it]"
     ]
    },
    {
     "name": "stdout",
     "output_type": "stream",
     "text": [
      "Epoch: 163 | Train loss:  0.0759 | Train acc:  0.9736 | Test loss:  0.2965 | Test acc:  0.9134 \n"
     ]
    },
    {
     "name": "stderr",
     "output_type": "stream",
     "text": [
      " 82%|████████▎ | 165/200 [8:41:04<1:49:13, 187.26s/it]"
     ]
    },
    {
     "name": "stdout",
     "output_type": "stream",
     "text": [
      "Epoch: 164 | Train loss:  0.0716 | Train acc:  0.9765 | Test loss:  0.2655 | Test acc:  0.9201 \n"
     ]
    },
    {
     "name": "stderr",
     "output_type": "stream",
     "text": [
      " 83%|████████▎ | 166/200 [8:44:10<1:46:00, 187.07s/it]"
     ]
    },
    {
     "name": "stdout",
     "output_type": "stream",
     "text": [
      "Epoch: 165 | Train loss:  0.0660 | Train acc:  0.9783 | Test loss:  0.2867 | Test acc:  0.9183 \n"
     ]
    },
    {
     "name": "stderr",
     "output_type": "stream",
     "text": [
      " 84%|████████▎ | 167/200 [8:47:18<1:42:57, 187.19s/it]"
     ]
    },
    {
     "name": "stdout",
     "output_type": "stream",
     "text": [
      "Epoch: 166 | Train loss:  0.0596 | Train acc:  0.9805 | Test loss:  0.2605 | Test acc:  0.9239 \n",
      "saving model to: models\\01_ResNet_model_44_perfect_arg.pth\n"
     ]
    },
    {
     "name": "stderr",
     "output_type": "stream",
     "text": [
      " 84%|████████▍ | 168/200 [8:50:25<1:39:54, 187.33s/it]"
     ]
    },
    {
     "name": "stdout",
     "output_type": "stream",
     "text": [
      "Epoch: 167 | Train loss:  0.0606 | Train acc:  0.9799 | Test loss:  0.2586 | Test acc:  0.9258 \n",
      "saving model to: models\\01_ResNet_model_44_perfect_arg.pth\n"
     ]
    },
    {
     "name": "stderr",
     "output_type": "stream",
     "text": [
      " 84%|████████▍ | 169/200 [8:53:33<1:36:53, 187.53s/it]"
     ]
    },
    {
     "name": "stdout",
     "output_type": "stream",
     "text": [
      "Epoch: 168 | Train loss:  0.0552 | Train acc:  0.9822 | Test loss:  0.2813 | Test acc:  0.9222 \n"
     ]
    },
    {
     "name": "stderr",
     "output_type": "stream",
     "text": [
      " 85%|████████▌ | 170/200 [8:56:40<1:33:41, 187.40s/it]"
     ]
    },
    {
     "name": "stdout",
     "output_type": "stream",
     "text": [
      "Epoch: 169 | Train loss:  0.0521 | Train acc:  0.9833 | Test loss:  0.2642 | Test acc:  0.9266 \n",
      "saving model to: models\\01_ResNet_model_44_perfect_arg.pth\n"
     ]
    },
    {
     "name": "stderr",
     "output_type": "stream",
     "text": [
      " 86%|████████▌ | 171/200 [8:59:47<1:30:29, 187.21s/it]"
     ]
    },
    {
     "name": "stdout",
     "output_type": "stream",
     "text": [
      "Epoch: 170 | Train loss:  0.0437 | Train acc:  0.9863 | Test loss:  0.2568 | Test acc:  0.9266 \n",
      "saving model to: models\\01_ResNet_model_44_perfect_arg.pth\n"
     ]
    },
    {
     "name": "stderr",
     "output_type": "stream",
     "text": [
      " 86%|████████▌ | 172/200 [9:02:54<1:27:17, 187.04s/it]"
     ]
    },
    {
     "name": "stdout",
     "output_type": "stream",
     "text": [
      "Epoch: 171 | Train loss:  0.0419 | Train acc:  0.9867 | Test loss:  0.2539 | Test acc:  0.9308 \n",
      "saving model to: models\\01_ResNet_model_44_perfect_arg.pth\n"
     ]
    },
    {
     "name": "stderr",
     "output_type": "stream",
     "text": [
      " 86%|████████▋ | 173/200 [9:06:01<1:24:13, 187.15s/it]"
     ]
    },
    {
     "name": "stdout",
     "output_type": "stream",
     "text": [
      "Epoch: 172 | Train loss:  0.0390 | Train acc:  0.9876 | Test loss:  0.2605 | Test acc:  0.9285 \n"
     ]
    },
    {
     "name": "stderr",
     "output_type": "stream",
     "text": [
      " 87%|████████▋ | 174/200 [9:09:08<1:21:03, 187.07s/it]"
     ]
    },
    {
     "name": "stdout",
     "output_type": "stream",
     "text": [
      "Epoch: 173 | Train loss:  0.0359 | Train acc:  0.9886 | Test loss:  0.2557 | Test acc:  0.9288 \n"
     ]
    },
    {
     "name": "stderr",
     "output_type": "stream",
     "text": [
      " 88%|████████▊ | 175/200 [9:12:15<1:17:52, 186.91s/it]"
     ]
    },
    {
     "name": "stdout",
     "output_type": "stream",
     "text": [
      "Epoch: 174 | Train loss:  0.0311 | Train acc:  0.9900 | Test loss:  0.2651 | Test acc:  0.9278 \n"
     ]
    },
    {
     "name": "stderr",
     "output_type": "stream",
     "text": [
      " 88%|████████▊ | 176/200 [9:15:21<1:14:44, 186.85s/it]"
     ]
    },
    {
     "name": "stdout",
     "output_type": "stream",
     "text": [
      "Epoch: 175 | Train loss:  0.0278 | Train acc:  0.9919 | Test loss:  0.2411 | Test acc:  0.9350 \n",
      "saving model to: models\\01_ResNet_model_44_perfect_arg.pth\n"
     ]
    },
    {
     "name": "stderr",
     "output_type": "stream",
     "text": [
      " 88%|████████▊ | 177/200 [9:18:28<1:11:35, 186.76s/it]"
     ]
    },
    {
     "name": "stdout",
     "output_type": "stream",
     "text": [
      "Epoch: 176 | Train loss:  0.0231 | Train acc:  0.9931 | Test loss:  0.2473 | Test acc:  0.9309 \n"
     ]
    },
    {
     "name": "stderr",
     "output_type": "stream",
     "text": [
      " 89%|████████▉ | 178/200 [9:21:33<1:08:19, 186.33s/it]"
     ]
    },
    {
     "name": "stdout",
     "output_type": "stream",
     "text": [
      "Epoch: 177 | Train loss:  0.0247 | Train acc:  0.9926 | Test loss:  0.2423 | Test acc:  0.9364 \n",
      "saving model to: models\\01_ResNet_model_44_perfect_arg.pth\n"
     ]
    },
    {
     "name": "stderr",
     "output_type": "stream",
     "text": [
      " 90%|████████▉ | 179/200 [9:24:40<1:05:15, 186.47s/it]"
     ]
    },
    {
     "name": "stdout",
     "output_type": "stream",
     "text": [
      "Epoch: 178 | Train loss:  0.0204 | Train acc:  0.9941 | Test loss:  0.2415 | Test acc:  0.9346 \n"
     ]
    },
    {
     "name": "stderr",
     "output_type": "stream",
     "text": [
      " 90%|█████████ | 180/200 [9:27:46<1:02:07, 186.36s/it]"
     ]
    },
    {
     "name": "stdout",
     "output_type": "stream",
     "text": [
      "Epoch: 179 | Train loss:  0.0173 | Train acc:  0.9957 | Test loss:  0.2439 | Test acc:  0.9334 \n"
     ]
    },
    {
     "name": "stderr",
     "output_type": "stream",
     "text": [
      " 90%|█████████ | 181/200 [9:30:53<59:01, 186.37s/it]  "
     ]
    },
    {
     "name": "stdout",
     "output_type": "stream",
     "text": [
      "Epoch: 180 | Train loss:  0.0164 | Train acc:  0.9956 | Test loss:  0.2432 | Test acc:  0.9361 \n"
     ]
    },
    {
     "name": "stderr",
     "output_type": "stream",
     "text": [
      " 91%|█████████ | 182/200 [9:33:59<55:55, 186.44s/it]"
     ]
    },
    {
     "name": "stdout",
     "output_type": "stream",
     "text": [
      "Epoch: 181 | Train loss:  0.0146 | Train acc:  0.9961 | Test loss:  0.2391 | Test acc:  0.9385 \n",
      "saving model to: models\\01_ResNet_model_44_perfect_arg.pth\n"
     ]
    },
    {
     "name": "stderr",
     "output_type": "stream",
     "text": [
      " 92%|█████████▏| 183/200 [9:37:06<52:49, 186.41s/it]"
     ]
    },
    {
     "name": "stdout",
     "output_type": "stream",
     "text": [
      "Epoch: 182 | Train loss:  0.0132 | Train acc:  0.9967 | Test loss:  0.2416 | Test acc:  0.9365 \n"
     ]
    },
    {
     "name": "stderr",
     "output_type": "stream",
     "text": [
      " 92%|█████████▏| 184/200 [9:40:12<49:43, 186.49s/it]"
     ]
    },
    {
     "name": "stdout",
     "output_type": "stream",
     "text": [
      "Epoch: 183 | Train loss:  0.0119 | Train acc:  0.9973 | Test loss:  0.2434 | Test acc:  0.9356 \n"
     ]
    },
    {
     "name": "stderr",
     "output_type": "stream",
     "text": [
      " 92%|█████████▎| 185/200 [9:43:18<46:35, 186.38s/it]"
     ]
    },
    {
     "name": "stdout",
     "output_type": "stream",
     "text": [
      "Epoch: 184 | Train loss:  0.0103 | Train acc:  0.9979 | Test loss:  0.2392 | Test acc:  0.9353 \n"
     ]
    },
    {
     "name": "stderr",
     "output_type": "stream",
     "text": [
      " 93%|█████████▎| 186/200 [9:46:24<43:26, 186.15s/it]"
     ]
    },
    {
     "name": "stdout",
     "output_type": "stream",
     "text": [
      "Epoch: 185 | Train loss:  0.0098 | Train acc:  0.9979 | Test loss:  0.2416 | Test acc:  0.9379 \n"
     ]
    },
    {
     "name": "stderr",
     "output_type": "stream",
     "text": [
      " 94%|█████████▎| 187/200 [9:49:30<40:17, 186.00s/it]"
     ]
    },
    {
     "name": "stdout",
     "output_type": "stream",
     "text": [
      "Epoch: 186 | Train loss:  0.0090 | Train acc:  0.9982 | Test loss:  0.2428 | Test acc:  0.9389 \n",
      "saving model to: models\\01_ResNet_model_44_perfect_arg.pth\n"
     ]
    },
    {
     "name": "stderr",
     "output_type": "stream",
     "text": [
      " 94%|█████████▍| 188/200 [9:52:36<37:12, 186.08s/it]"
     ]
    },
    {
     "name": "stdout",
     "output_type": "stream",
     "text": [
      "Epoch: 187 | Train loss:  0.0085 | Train acc:  0.9981 | Test loss:  0.2400 | Test acc:  0.9378 \n"
     ]
    },
    {
     "name": "stderr",
     "output_type": "stream",
     "text": [
      " 94%|█████████▍| 189/200 [9:55:42<34:06, 186.05s/it]"
     ]
    },
    {
     "name": "stdout",
     "output_type": "stream",
     "text": [
      "Epoch: 188 | Train loss:  0.0088 | Train acc:  0.9983 | Test loss:  0.2370 | Test acc:  0.9386 \n"
     ]
    },
    {
     "name": "stderr",
     "output_type": "stream",
     "text": [
      " 95%|█████████▌| 190/200 [9:58:47<30:57, 185.77s/it]"
     ]
    },
    {
     "name": "stdout",
     "output_type": "stream",
     "text": [
      "Epoch: 189 | Train loss:  0.0070 | Train acc:  0.9988 | Test loss:  0.2397 | Test acc:  0.9390 \n",
      "saving model to: models\\01_ResNet_model_44_perfect_arg.pth\n"
     ]
    },
    {
     "name": "stderr",
     "output_type": "stream",
     "text": [
      " 96%|█████████▌| 191/200 [10:01:53<27:52, 185.82s/it]"
     ]
    },
    {
     "name": "stdout",
     "output_type": "stream",
     "text": [
      "Epoch: 190 | Train loss:  0.0070 | Train acc:  0.9987 | Test loss:  0.2364 | Test acc:  0.9390 \n"
     ]
    },
    {
     "name": "stderr",
     "output_type": "stream",
     "text": [
      " 96%|█████████▌| 192/200 [10:04:59<24:47, 185.94s/it]"
     ]
    },
    {
     "name": "stdout",
     "output_type": "stream",
     "text": [
      "Epoch: 191 | Train loss:  0.0069 | Train acc:  0.9987 | Test loss:  0.2362 | Test acc:  0.9381 \n"
     ]
    },
    {
     "name": "stderr",
     "output_type": "stream",
     "text": [
      " 96%|█████████▋| 193/200 [10:08:05<21:40, 185.82s/it]"
     ]
    },
    {
     "name": "stdout",
     "output_type": "stream",
     "text": [
      "Epoch: 192 | Train loss:  0.0072 | Train acc:  0.9986 | Test loss:  0.2405 | Test acc:  0.9373 \n"
     ]
    },
    {
     "name": "stderr",
     "output_type": "stream",
     "text": [
      " 97%|█████████▋| 194/200 [10:11:11<18:36, 186.13s/it]"
     ]
    },
    {
     "name": "stdout",
     "output_type": "stream",
     "text": [
      "Epoch: 193 | Train loss:  0.0063 | Train acc:  0.9991 | Test loss:  0.2394 | Test acc:  0.9384 \n"
     ]
    },
    {
     "name": "stderr",
     "output_type": "stream",
     "text": [
      " 98%|█████████▊| 195/200 [10:14:17<15:30, 186.03s/it]"
     ]
    },
    {
     "name": "stdout",
     "output_type": "stream",
     "text": [
      "Epoch: 194 | Train loss:  0.0066 | Train acc:  0.9989 | Test loss:  0.2366 | Test acc:  0.9386 \n"
     ]
    },
    {
     "name": "stderr",
     "output_type": "stream",
     "text": [
      " 98%|█████████▊| 196/200 [10:17:23<12:24, 186.08s/it]"
     ]
    },
    {
     "name": "stdout",
     "output_type": "stream",
     "text": [
      "Epoch: 195 | Train loss:  0.0060 | Train acc:  0.9992 | Test loss:  0.2355 | Test acc:  0.9392 \n",
      "saving model to: models\\01_ResNet_model_44_perfect_arg.pth\n"
     ]
    },
    {
     "name": "stderr",
     "output_type": "stream",
     "text": [
      " 98%|█████████▊| 197/200 [10:20:29<09:17, 185.84s/it]"
     ]
    },
    {
     "name": "stdout",
     "output_type": "stream",
     "text": [
      "Epoch: 196 | Train loss:  0.0067 | Train acc:  0.9989 | Test loss:  0.2351 | Test acc:  0.9390 \n"
     ]
    },
    {
     "name": "stderr",
     "output_type": "stream",
     "text": [
      " 99%|█████████▉| 198/200 [10:23:35<06:12, 186.06s/it]"
     ]
    },
    {
     "name": "stdout",
     "output_type": "stream",
     "text": [
      "Epoch: 197 | Train loss:  0.0060 | Train acc:  0.9992 | Test loss:  0.2348 | Test acc:  0.9386 \n"
     ]
    },
    {
     "name": "stderr",
     "output_type": "stream",
     "text": [
      "100%|█████████▉| 199/200 [10:26:41<03:05, 185.91s/it]"
     ]
    },
    {
     "name": "stdout",
     "output_type": "stream",
     "text": [
      "Epoch: 198 | Train loss:  0.0058 | Train acc:  0.9991 | Test loss:  0.2351 | Test acc:  0.9392 \n"
     ]
    },
    {
     "name": "stderr",
     "output_type": "stream",
     "text": [
      "100%|██████████| 200/200 [10:29:47<00:00, 188.94s/it]"
     ]
    },
    {
     "name": "stdout",
     "output_type": "stream",
     "text": [
      "Epoch: 199 | Train loss:  0.0056 | Train acc:  0.9992 | Test loss:  0.2341 | Test acc:  0.9395 \n",
      "saving model to: models\\01_ResNet_model_44_perfect_arg.pth\n"
     ]
    },
    {
     "name": "stderr",
     "output_type": "stream",
     "text": [
      "\n"
     ]
    }
   ],
   "source": [
    "NUM_EPOCHS = 200\n",
    "\n",
    "loss_fn = nn.CrossEntropyLoss()\n",
    "optimizer = torch.optim.SGD(params=model_6_r.parameters(),\n",
    "                            lr = 0.1, momentum=0.9,dampening=0,weight_decay=0.0005,nesterov=True)\n",
    "scheduler = lr_scheduler.CosineAnnealingLR(optimizer, T_max=200,eta_min=0)\n",
    "\n",
    "# start_time = timer()\n",
    "model_6_results_2 = train(model_name='01_ResNet_model_44_perfect_arg',model= model_6_r,\n",
    "                       train_dataloader=  train_dataloader,\n",
    "                       test_dataloader= test_dataloader,\n",
    "                       optimizer = optimizer,\n",
    "                        scheduler=scheduler,\n",
    "                       loss_fn=loss_fn,\n",
    "                       epochs=NUM_EPOCHS)\n",
    "# end_time = timer()\n",
    "# print(f\"total training time for model_6: {end_time - start_time:.3f} seconds\")"
   ]
  },
  {
   "cell_type": "code",
   "execution_count": 37,
   "id": "18a44bcd-f02a-4761-82af-69e83eb22589",
   "metadata": {
    "tags": []
   },
   "outputs": [
    {
     "data": {
      "image/png": "[encoded data removed]",
      "text/plain": [
       "<Figure size 1500x700 with 2 Axes>"
      ]
     },
     "metadata": {},
     "output_type": "display_data"
    }
   ],
   "source": [
    "plot_loss_curves(model_6_results_2)"
   ]
  },
  {
   "cell_type": "code",
   "execution_count": null,
   "id": "5deb6a14-f375-4751-8a71-f5ddd0a2a124",
   "metadata": {},
   "outputs": [],
   "source": [
    "# set up training data\n",
    "stats = ((0.4914, 0.4822, 0.4465), (0.2023, 0.1994, 0.2010))\n",
    "data_transform_train = transforms.Compose([\n",
    "    # transforms.TrivialAugmentWide(num_magnitude_bins=31),\n",
    "    transforms.RandomCrop(32, padding=4, padding_mode='reflect'),\n",
    "    transforms.RandomHorizontalFlip(p=0.5),\n",
    "    transforms.ToTensor(),\n",
    "    transforms.Normalize(*stats,inplace=True)\n",
    "])\n",
    "\n",
    "data_transform_test = transforms.Compose([\n",
    "    transforms.ToTensor(),\n",
    "    transforms.Normalize(*stats)\n",
    "])\n",
    "\n",
    "train_data = datasets.CIFAR10(root=\"Tdata\",train=True,download=True,\n",
    "                                  transform = data_transform_train,\n",
    "                                  target_transform = None)\n",
    "\n",
    "test_data = datasets.CIFAR10(root=\"Tdata\",train=False,download=True,\n",
    "                                  transform =data_transform_test,\n",
    "                                  target_transform = None)\n",
    "\n",
    "test_data_normal = datasets.CIFAR10(root=\"Tdata\",train=False,download=True,\n",
    "                                  target_transform = None)"
   ]
  }
 ],
 "metadata": {
  "kernelspec": {
   "display_name": "Python 3 (ipykernel)",
   "language": "python",
   "name": "python3"
  },
  "language_info": {
   "codemirror_mode": {
    "name": "ipython",
    "version": 3
   },
   "file_extension": ".py",
   "mimetype": "text/x-python",
   "name": "python",
   "nbconvert_exporter": "python",
   "pygments_lexer": "ipython3",
   "version": "3.11.7"
  }
 },
 "nbformat": 4,
 "nbformat_minor": 5
}
