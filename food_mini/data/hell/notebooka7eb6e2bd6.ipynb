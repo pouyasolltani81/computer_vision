{
 "cells": [
  {
   "cell_type": "code",
   "execution_count": 1,
   "metadata": {
    "_cell_guid": "b1076dfc-b9ad-4769-8c92-a6c4dae69d19",
    "_kg_hide-input": true,
    "_kg_hide-output": true,
    "_uuid": "8f2839f25d086af736a60e9eeb907d3b93b6e0e5",
    "scrolled": true,
    "tags": []
   },
   "outputs": [],
   "source": [
    "# This Python 3 environment comes with many helpful analytics libraries installed\n",
    "# It is defined by the kaggle/python Docker image: https://github.com/kaggle/docker-python\n",
    "# For example, here's several helpful packages to load\n",
    "\n",
    "import numpy as np # linear algebra\n",
    "import pandas as pd # data processing, CSV file I/O (e.g. pd.read_csv)\n",
    "\n",
    "# Input data files are available in the read-only \"../input/\" directory\n",
    "# For example, running this (by clicking run or pressing Shift+Enter) will list all files under the input directory\n",
    "\n",
    "import os\n",
    "for dirname, _, filenames in os.walk('/kaggle/input'):\n",
    "    for filename in filenames:\n",
    "        print(os.path.join(dirname, filename))\n",
    "\n",
    "# You can write up to 20GB to the current directory (/kaggle/working/) that gets preserved as output when you create a version using \"Save & Run All\" \n",
    "# You can also write temporary files to /kaggle/temp/, but they won't be saved outside of the current session"
   ]
  },
  {
   "cell_type": "markdown",
   "metadata": {},
   "source": [
    "# Problem Statement\n",
    "\n",
    "<li>VegCart(Random Name) is a fresh produce supply chain company. They are pioneers in solving one of the toughest supply chain problems of the world by leveraging innovative technology. They source fresh produce from farmers and deliver them to businesses within 12 hours. An integral component of their automation process is the development of robust classifiers which can distinguish between images of different types of vegetables, while also correctly labeling images that do not contain any one type of vegetable as noise.</li>\n",
    "\n",
    "<li>As a starting point, we have been tasked with preparing a multiclass classifier for identifying these vegetables. The dataset provided has all the required images to achieve the task.</li>"
   ]
  },
  {
   "cell_type": "code",
   "execution_count": 2,
   "metadata": {
    "_kg_hide-input": true,
    "tags": []
   },
   "outputs": [
    {
     "ename": "ModuleNotFoundError",
     "evalue": "No module named 'tensorflow'",
     "output_type": "error",
     "traceback": [
      "\u001b[1;31m---------------------------------------------------------------------------\u001b[0m",
      "\u001b[1;31mModuleNotFoundError\u001b[0m                       Traceback (most recent call last)",
      "Cell \u001b[1;32mIn[2], line 12\u001b[0m\n\u001b[0;32m      8\u001b[0m \u001b[38;5;28;01mimport\u001b[39;00m \u001b[38;5;21;01msklearn\u001b[39;00m\u001b[38;5;21;01m.\u001b[39;00m\u001b[38;5;21;01mmetrics\u001b[39;00m \u001b[38;5;28;01mas\u001b[39;00m \u001b[38;5;21;01mmetrics\u001b[39;00m\n\u001b[0;32m     11\u001b[0m \u001b[38;5;66;03m# Tensorflow import\u001b[39;00m\n\u001b[1;32m---> 12\u001b[0m \u001b[38;5;28;01mimport\u001b[39;00m \u001b[38;5;21;01mtensorflow\u001b[39;00m \u001b[38;5;28;01mas\u001b[39;00m \u001b[38;5;21;01mtf\u001b[39;00m\n\u001b[0;32m     13\u001b[0m \u001b[38;5;28;01mfrom\u001b[39;00m \u001b[38;5;21;01mtensorflow\u001b[39;00m \u001b[38;5;28;01mimport\u001b[39;00m keras\n\u001b[0;32m     14\u001b[0m \u001b[38;5;28;01mfrom\u001b[39;00m \u001b[38;5;21;01mtensorflow\u001b[39;00m\u001b[38;5;21;01m.\u001b[39;00m\u001b[38;5;21;01mkeras\u001b[39;00m \u001b[38;5;28;01mimport\u001b[39;00m layers\n",
      "\u001b[1;31mModuleNotFoundError\u001b[0m: No module named 'tensorflow'"
     ]
    }
   ],
   "source": [
    "import os\n",
    "import glob\n",
    "import random\n",
    "import numpy as np\n",
    "import pandas as pd\n",
    "import matplotlib.pyplot as plt\n",
    "import seaborn as sns\n",
    "import sklearn.metrics as metrics\n",
    "\n",
    "\n",
    "# Tensorflow import\n",
    "import tensorflow as tf\n",
    "from tensorflow import keras\n",
    "from tensorflow.keras import layers\n",
    "from tensorflow.keras.layers import Conv2D, MaxPooling2D, GlobalAveragePooling2D, Dense, ReLU, Softmax, BatchNormalization, Dropout\n",
    "from tensorflow.random import set_seed"
   ]
  },
  {
   "cell_type": "code",
   "execution_count": null,
   "metadata": {
    "_kg_hide-input": true,
    "tags": []
   },
   "outputs": [],
   "source": [
    "def training_plot(metrics, history):\n",
    "  f, ax = plt.subplots(1, len(metrics), figsize=(5*len(metrics), 5))\n",
    "  for idx, metric in enumerate(metrics):\n",
    "    ax[idx].plot(history.history[metric], ls='dashed')\n",
    "    ax[idx].set_xlabel(\"Epochs\")\n",
    "    ax[idx].set_ylabel(metric)\n",
    "    ax[idx].plot(history.history['val_' + metric]);\n",
    "    ax[idx].legend([metric, 'val_' + metric])\n",
    "    \n",
    "def ConfusionMatrix(model, ds, label_list):\n",
    "# Note: This logic doesn't work with shuffled datasets\n",
    "    plt.figure(figsize=(15,15))\n",
    "    y_pred = model.predict(ds)\n",
    "    predicted_categories = tf.argmax(y_pred, axis=1)\n",
    "    true_categories = tf.concat([y for x, y in ds], axis=0)\n",
    "    cm = metrics.confusion_matrix(true_categories,predicted_categories) # last batch \n",
    "    sns.heatmap(cm, annot=True, xticklabels=label_list, yticklabels=label_list, cmap=\"YlGnBu\", fmt='g')\n",
    "    plt.show()\n",
    "    \n",
    "def testAccuracy(model):\n",
    "    true_categories = tf.concat([y for x, y in test_ds], axis=0)\n",
    "    images = tf.concat([x for x, y in test_ds], axis=0)\n",
    "    y_pred = model.predict(test_ds)\n",
    "    class_names = test_data.class_names\n",
    "    predicted_categories = tf.argmax(y_pred, axis=1)\n",
    "    test_acc = metrics.accuracy_score(true_categories, predicted_categories) * 100\n",
    "    print(f'\\nTest Accuracy: {test_acc:.2f}%\\n')\n",
    "    \n",
    "def plot_image(pred_array, true_label, img, class_names):\n",
    "  plt.grid(False)\n",
    "  plt.xticks([])\n",
    "  plt.yticks([])\n",
    "\n",
    "  plt.imshow(img, cmap=plt.cm.binary)\n",
    "\n",
    "  predicted_label = np.argmax(pred_array)\n",
    "  if predicted_label == true_label:\n",
    "    color = 'blue'\n",
    "  else:\n",
    "    color = 'red'\n",
    "\n",
    "  plt.xlabel(\"{} {:2.0f}% \".format(class_names[predicted_label],\n",
    "                                100*np.max(pred_array),\n",
    "                                ),\n",
    "                                color=color)\n",
    "\n",
    "def predictions(model):\n",
    "    true_categories = tf.concat([y for x, y in test_ds], axis=0)\n",
    "    images = tf.concat([x for x, y in test_ds], axis=0)\n",
    "    y_pred = model.predict(test_ds)\n",
    "    class_names = test_data.class_names\n",
    "    # Randomly sample 15 test images and plot it with their predicted labels, and the true labels.\n",
    "    indices = random.sample(range(len(images)), 15)\n",
    "    # Color correct predictions in blue and incorrect predictions in red.\n",
    "    num_rows = 5\n",
    "    num_cols = 3\n",
    "    num_images = num_rows*num_cols\n",
    "    plt.figure(figsize=(4*num_cols, 2*num_rows))\n",
    "    for i,index in enumerate(indices):\n",
    "      plt.subplot(num_rows, num_cols, i+1)\n",
    "      plot_image(y_pred[index], true_categories[index], images[index],class_names)\n",
    "    plt.tight_layout()\n",
    "    plt.show()\n",
    "\n",
    "checkpoint_callback = tf.keras.callbacks.ModelCheckpoint(\"final_model.h5\", save_best_only=True)\n",
    "\n",
    "early_stopping_callback = tf.keras.callbacks.EarlyStopping(\n",
    "    monitor=\"val_loss\",patience=5, restore_best_weights=True\n",
    ")"
   ]
  },
  {
   "cell_type": "code",
   "execution_count": null,
   "metadata": {
    "_kg_hide-input": true,
    "tags": []
   },
   "outputs": [],
   "source": [
    "set_seed(111) # set random seed\n",
    "\n",
    "# To supress any warnings during the flow\n",
    "import warnings\n",
    "warnings.filterwarnings('ignore')"
   ]
  },
  {
   "cell_type": "code",
   "execution_count": null,
   "metadata": {
    "tags": []
   },
   "outputs": [],
   "source": [
    "class_dirs = os.listdir(\"../input/vegetable-image-dataset/Vegetable Images/train\") # list all directories inside \"train\" folder\n",
    "\n",
    "image_dict = {} # dict to store image array(key) for every class(value)\n",
    "\n",
    "count_dict = {} # dict to store count of files(key) for every class(value)\n",
    "\n",
    "# iterate over all class_dirs\n",
    "for cls in class_dirs:\n",
    "    # get list of all paths inside the subdirectory\n",
    "    file_paths = glob.glob(f'../input/vegetable-image-dataset/Vegetable Images/train/{cls}/*')\n",
    "    # count number of files in each class and add it to count_dict\n",
    "    count_dict[cls] = len(file_paths)\n",
    "    # select random item from list of image paths\n",
    "    image_path = random.choice(file_paths)\n",
    "    # load image using keras utility function and save it in image_dict\n",
    "    image_dict[cls] = tf.keras.utils.load_img(image_path)"
   ]
  },
  {
   "cell_type": "markdown",
   "metadata": {},
   "source": [
    "# Exploratory Data Analysis"
   ]
  },
  {
   "cell_type": "code",
   "execution_count": null,
   "metadata": {
    "execution": {
     "iopub.execute_input": "2022-10-28T10:34:13.712222Z",
     "iopub.status.busy": "2022-10-28T10:34:13.711821Z",
     "iopub.status.idle": "2022-10-28T10:34:14.783219Z",
     "shell.execute_reply": "2022-10-28T10:34:14.782262Z",
     "shell.execute_reply.started": "2022-10-28T10:34:13.712191Z"
    }
   },
   "outputs": [],
   "source": [
    "## Viz Random Sample from each class\n",
    "plt.figure(figsize=(15, 12))\n",
    "# iterate over dictionary items (class label, image array)\n",
    "for i, (cls,img) in enumerate(image_dict.items()): \n",
    "    # create a subplot axis\n",
    "    ax = plt.subplot(4, 4, i + 1)\n",
    "    # plot each image\n",
    "    plt.imshow(img)\n",
    "    # set \"class name\" along with \"image size\" as title \n",
    "    plt.title(f'{cls}, {img.size}')\n",
    "    plt.axis(\"off\")"
   ]
  },
  {
   "cell_type": "code",
   "execution_count": null,
   "metadata": {
    "execution": {
     "iopub.execute_input": "2022-10-28T10:34:14.78593Z",
     "iopub.status.busy": "2022-10-28T10:34:14.784961Z",
     "iopub.status.idle": "2022-10-28T10:34:14.809163Z",
     "shell.execute_reply": "2022-10-28T10:34:14.807933Z",
     "shell.execute_reply.started": "2022-10-28T10:34:14.785892Z"
    }
   },
   "outputs": [],
   "source": [
    "## Let's now Plot the Data Distribution of Training Data across Classes\n",
    "df_count_train = pd.DataFrame({\n",
    "    \"class\": count_dict.keys(),     # keys of count_dict are class labels\n",
    "    \"count\": count_dict.values(),   # value of count_dict contain counts of each class\n",
    "})\n",
    "print(\"Count of training samples per class:\\n\", df_count_train)"
   ]
  },
  {
   "cell_type": "code",
   "execution_count": null,
   "metadata": {
    "execution": {
     "iopub.execute_input": "2022-10-28T10:34:14.811782Z",
     "iopub.status.busy": "2022-10-28T10:34:14.81135Z",
     "iopub.status.idle": "2022-10-28T10:34:15.135415Z",
     "shell.execute_reply": "2022-10-28T10:34:15.134437Z",
     "shell.execute_reply.started": "2022-10-28T10:34:14.811743Z"
    }
   },
   "outputs": [],
   "source": [
    "# draw a bar plot using pandas in-built plotting function\n",
    "plt.figure(figsize=(15,12))\n",
    "df_count_train.plot.bar(x='class', y='count', title=\"Training Data Count per class\") \n",
    "plt.show()"
   ]
  },
  {
   "cell_type": "markdown",
   "metadata": {},
   "source": [
    "# Loading data set"
   ]
  },
  {
   "cell_type": "code",
   "execution_count": null,
   "metadata": {
    "_kg_hide-output": false,
    "execution": {
     "iopub.execute_input": "2022-10-28T10:34:15.91377Z",
     "iopub.status.busy": "2022-10-28T10:34:15.913393Z",
     "iopub.status.idle": "2022-10-28T10:34:23.513576Z",
     "shell.execute_reply": "2022-10-28T10:34:23.512588Z",
     "shell.execute_reply.started": "2022-10-28T10:34:15.913738Z"
    }
   },
   "outputs": [],
   "source": [
    "print('\\nLoading Train Data...')\n",
    "train_data = tf.keras.utils.image_dataset_from_directory(\n",
    "    \"../input/vegetable-image-dataset/Vegetable Images/train\", shuffle = True,\n",
    ")\n",
    "\n",
    "print('\\nLoading Validation Data...')\n",
    "val_data = tf.keras.utils.image_dataset_from_directory(\n",
    "    \"../input/vegetable-image-dataset/Vegetable Images/validation\", shuffle = False,\n",
    ")\n",
    "\n",
    "print('\\nLoading Test Data...')\n",
    "test_data = tf.keras.utils.image_dataset_from_directory(\n",
    "    \"../input/vegetable-image-dataset/Vegetable Images/test\", shuffle = False,\n",
    ")"
   ]
  },
  {
   "cell_type": "markdown",
   "metadata": {},
   "source": [
    "# Data Preprocessing"
   ]
  },
  {
   "cell_type": "code",
   "execution_count": null,
   "metadata": {
    "execution": {
     "iopub.execute_input": "2022-10-28T10:34:23.515997Z",
     "iopub.status.busy": "2022-10-28T10:34:23.515632Z",
     "iopub.status.idle": "2022-10-28T10:34:23.62305Z",
     "shell.execute_reply": "2022-10-28T10:34:23.622116Z",
     "shell.execute_reply.started": "2022-10-28T10:34:23.515961Z"
    }
   },
   "outputs": [],
   "source": [
    "height, width = 224, 224\n",
    "\n",
    "# Data Processing Stage with resizing and rescaling operations\n",
    "data_preprocess = keras.Sequential(\n",
    "    name=\"data_preprocess\",\n",
    "    layers=[\n",
    "        layers.Resizing(height, width), # Shape Preprocessing\n",
    "        layers.Rescaling(1.0/255), # Value Preprocessing\n",
    "    ]\n",
    ")\n",
    "\n",
    "# Perform Data Processing on the train, val, test dataset\n",
    "train_ds = train_data.map(lambda x, y: (data_preprocess(x), y))\n",
    "val_ds = val_data.map(lambda x, y: (data_preprocess(x), y))\n",
    "test_ds = test_data.map(lambda x, y: (data_preprocess(x), y))"
   ]
  },
  {
   "cell_type": "code",
   "execution_count": null,
   "metadata": {
    "execution": {
     "iopub.execute_input": "2022-10-28T10:34:23.624741Z",
     "iopub.status.busy": "2022-10-28T10:34:23.624416Z",
     "iopub.status.idle": "2022-10-28T10:34:23.630078Z",
     "shell.execute_reply": "2022-10-28T10:34:23.629192Z",
     "shell.execute_reply.started": "2022-10-28T10:34:23.624707Z"
    }
   },
   "outputs": [],
   "source": [
    "num_classes = 15\n",
    "hidden_size_1 = 1024\n",
    "hidden_size_2 = 256"
   ]
  },
  {
   "cell_type": "markdown",
   "metadata": {},
   "source": [
    "\n",
    "# Training Simple Neural Network (MLP)\n",
    "\n",
    "Running a ANN for the given images\n"
   ]
  },
  {
   "cell_type": "code",
   "execution_count": null,
   "metadata": {
    "execution": {
     "iopub.execute_input": "2022-10-28T10:34:23.633894Z",
     "iopub.status.busy": "2022-10-28T10:34:23.633295Z",
     "iopub.status.idle": "2022-10-28T10:34:23.699152Z",
     "shell.execute_reply": "2022-10-28T10:34:23.698143Z",
     "shell.execute_reply.started": "2022-10-28T10:34:23.633835Z"
    }
   },
   "outputs": [],
   "source": [
    "model_ann = keras.Sequential(\n",
    "    name=\"model_ann\",\n",
    "    layers=[\n",
    "        layers.Flatten(input_shape=(height, width, 3)),\n",
    "        layers.Dense(units=hidden_size_1, activation='relu'), # hidden layer 1\n",
    "        layers.Dense(units=hidden_size_2, activation='relu'), # hidden layer 2\n",
    "        layers.Dense(units=num_classes, activation='softmax'), # output layer\n",
    "    ]\n",
    ")"
   ]
  },
  {
   "cell_type": "code",
   "execution_count": null,
   "metadata": {
    "execution": {
     "iopub.execute_input": "2022-10-28T10:34:23.700843Z",
     "iopub.status.busy": "2022-10-28T10:34:23.700436Z",
     "iopub.status.idle": "2022-10-28T10:34:23.708128Z",
     "shell.execute_reply": "2022-10-28T10:34:23.707046Z",
     "shell.execute_reply.started": "2022-10-28T10:34:23.700781Z"
    }
   },
   "outputs": [],
   "source": [
    "model_ann.summary()"
   ]
  },
  {
   "cell_type": "code",
   "execution_count": null,
   "metadata": {
    "execution": {
     "iopub.execute_input": "2022-10-28T10:34:23.710146Z",
     "iopub.status.busy": "2022-10-28T10:34:23.709648Z",
     "iopub.status.idle": "2022-10-28T10:34:25.659285Z",
     "shell.execute_reply": "2022-10-28T10:34:25.657958Z",
     "shell.execute_reply.started": "2022-10-28T10:34:23.710099Z"
    }
   },
   "outputs": [],
   "source": [
    "tf.keras.utils.plot_model(model_ann, to_file=\"model_ann.png\", show_shapes=True)"
   ]
  },
  {
   "cell_type": "code",
   "execution_count": null,
   "metadata": {
    "execution": {
     "iopub.execute_input": "2022-10-28T10:34:25.661389Z",
     "iopub.status.busy": "2022-10-28T10:34:25.661025Z",
     "iopub.status.idle": "2022-10-28T10:34:25.680207Z",
     "shell.execute_reply": "2022-10-28T10:34:25.679082Z",
     "shell.execute_reply.started": "2022-10-28T10:34:25.661357Z"
    }
   },
   "outputs": [],
   "source": [
    "model_ann.compile(optimizer='adam',\n",
    "              loss='sparse_categorical_crossentropy',\n",
    "              metrics=['accuracy'])"
   ]
  },
  {
   "cell_type": "code",
   "execution_count": null,
   "metadata": {
    "execution": {
     "iopub.execute_input": "2022-10-28T10:34:25.682594Z",
     "iopub.status.busy": "2022-10-28T10:34:25.682027Z",
     "iopub.status.idle": "2022-10-28T10:52:50.540722Z",
     "shell.execute_reply": "2022-10-28T10:52:50.539696Z",
     "shell.execute_reply.started": "2022-10-28T10:34:25.682559Z"
    }
   },
   "outputs": [],
   "source": [
    "epochs = 25\n",
    "model_fit = model_ann.fit(train_ds, validation_data=val_ds, epochs=epochs)"
   ]
  },
  {
   "cell_type": "code",
   "execution_count": null,
   "metadata": {
    "execution": {
     "iopub.execute_input": "2022-10-28T10:52:50.544271Z",
     "iopub.status.busy": "2022-10-28T10:52:50.543802Z",
     "iopub.status.idle": "2022-10-28T10:52:51.113589Z",
     "shell.execute_reply": "2022-10-28T10:52:51.112537Z",
     "shell.execute_reply.started": "2022-10-28T10:52:50.544233Z"
    }
   },
   "outputs": [],
   "source": [
    "training_plot(['loss', 'accuracy'], model_fit)"
   ]
  },
  {
   "cell_type": "code",
   "execution_count": null,
   "metadata": {
    "execution": {
     "iopub.execute_input": "2022-10-28T10:52:51.117567Z",
     "iopub.status.busy": "2022-10-28T10:52:51.116668Z",
     "iopub.status.idle": "2022-10-28T10:53:16.767683Z",
     "shell.execute_reply": "2022-10-28T10:53:16.766599Z",
     "shell.execute_reply.started": "2022-10-28T10:52:51.117507Z"
    }
   },
   "outputs": [],
   "source": [
    "testAccuracy(model_ann)"
   ]
  },
  {
   "cell_type": "code",
   "execution_count": null,
   "metadata": {
    "execution": {
     "iopub.execute_input": "2022-10-28T10:53:16.772131Z",
     "iopub.status.busy": "2022-10-28T10:53:16.770932Z",
     "iopub.status.idle": "2022-10-28T10:53:28.386058Z",
     "shell.execute_reply": "2022-10-28T10:53:28.384936Z",
     "shell.execute_reply.started": "2022-10-28T10:53:16.772091Z"
    }
   },
   "outputs": [],
   "source": [
    "ConfusionMatrix(model_ann, test_ds, test_data.class_names)"
   ]
  },
  {
   "cell_type": "markdown",
   "metadata": {},
   "source": [
    "# Training a simple CNN (Baseline Model)"
   ]
  },
  {
   "cell_type": "code",
   "execution_count": null,
   "metadata": {
    "execution": {
     "iopub.execute_input": "2022-10-28T11:07:26.674634Z",
     "iopub.status.busy": "2022-10-28T11:07:26.674237Z",
     "iopub.status.idle": "2022-10-28T11:07:26.730109Z",
     "shell.execute_reply": "2022-10-28T11:07:26.729107Z",
     "shell.execute_reply.started": "2022-10-28T11:07:26.674601Z"
    }
   },
   "outputs": [],
   "source": [
    "model_base_cnn = keras.Sequential(\n",
    "    name=\"model_base_cnn\",\n",
    "    layers=[\n",
    "        layers.Conv2D(filters=16, kernel_size=3, strides=1, padding=\"same\", activation='relu', input_shape=(height, width, 3)),\n",
    "        layers.MaxPooling2D(),\n",
    "        layers.Flatten(),\n",
    "        layers.Dense(units=256, activation='relu'),\n",
    "        layers.Dense(units=num_classes, activation='softmax')\n",
    "    ]\n",
    ")"
   ]
  },
  {
   "cell_type": "code",
   "execution_count": null,
   "metadata": {
    "execution": {
     "iopub.execute_input": "2022-10-28T11:07:27.280308Z",
     "iopub.status.busy": "2022-10-28T11:07:27.279629Z",
     "iopub.status.idle": "2022-10-28T11:07:27.285851Z",
     "shell.execute_reply": "2022-10-28T11:07:27.284796Z",
     "shell.execute_reply.started": "2022-10-28T11:07:27.280271Z"
    }
   },
   "outputs": [],
   "source": [
    "model_base_cnn.summary()"
   ]
  },
  {
   "cell_type": "code",
   "execution_count": null,
   "metadata": {
    "execution": {
     "iopub.execute_input": "2022-10-28T11:07:28.056432Z",
     "iopub.status.busy": "2022-10-28T11:07:28.055905Z",
     "iopub.status.idle": "2022-10-28T11:07:28.312992Z",
     "shell.execute_reply": "2022-10-28T11:07:28.311823Z",
     "shell.execute_reply.started": "2022-10-28T11:07:28.056389Z"
    }
   },
   "outputs": [],
   "source": [
    "tf.keras.utils.plot_model(model_base_cnn, to_file=\"model_cnn.png\", show_shapes=True)"
   ]
  },
  {
   "cell_type": "code",
   "execution_count": null,
   "metadata": {
    "execution": {
     "iopub.execute_input": "2022-10-28T11:07:28.718372Z",
     "iopub.status.busy": "2022-10-28T11:07:28.717651Z",
     "iopub.status.idle": "2022-10-28T11:07:28.731187Z",
     "shell.execute_reply": "2022-10-28T11:07:28.730245Z",
     "shell.execute_reply.started": "2022-10-28T11:07:28.718329Z"
    }
   },
   "outputs": [],
   "source": [
    "model_base_cnn.compile(optimizer='adam',\n",
    "              loss='sparse_categorical_crossentropy',\n",
    "              metrics=['accuracy'])"
   ]
  },
  {
   "cell_type": "code",
   "execution_count": null,
   "metadata": {
    "execution": {
     "iopub.execute_input": "2022-10-28T11:07:29.881424Z",
     "iopub.status.busy": "2022-10-28T11:07:29.880668Z",
     "iopub.status.idle": "2022-10-28T11:24:17.088748Z",
     "shell.execute_reply": "2022-10-28T11:24:17.0877Z",
     "shell.execute_reply.started": "2022-10-28T11:07:29.881385Z"
    }
   },
   "outputs": [],
   "source": [
    "epochs = 25\n",
    "model_base_cnn_fit = model_base_cnn.fit(train_ds, validation_data=val_ds, epochs=epochs)"
   ]
  },
  {
   "cell_type": "code",
   "execution_count": null,
   "metadata": {
    "execution": {
     "iopub.execute_input": "2022-10-28T11:24:17.091713Z",
     "iopub.status.busy": "2022-10-28T11:24:17.09105Z",
     "iopub.status.idle": "2022-10-28T11:24:17.464814Z",
     "shell.execute_reply": "2022-10-28T11:24:17.463831Z",
     "shell.execute_reply.started": "2022-10-28T11:24:17.091675Z"
    }
   },
   "outputs": [],
   "source": [
    "training_plot(['loss', 'accuracy'], model_base_cnn_fit)"
   ]
  },
  {
   "cell_type": "code",
   "execution_count": null,
   "metadata": {
    "execution": {
     "iopub.execute_input": "2022-10-28T11:24:17.46706Z",
     "iopub.status.busy": "2022-10-28T11:24:17.466089Z",
     "iopub.status.idle": "2022-10-28T11:24:35.18678Z",
     "shell.execute_reply": "2022-10-28T11:24:35.185286Z",
     "shell.execute_reply.started": "2022-10-28T11:24:17.467022Z"
    }
   },
   "outputs": [],
   "source": [
    "testAccuracy(model_base_cnn)"
   ]
  },
  {
   "cell_type": "code",
   "execution_count": null,
   "metadata": {
    "execution": {
     "iopub.execute_input": "2022-10-28T11:24:35.193571Z",
     "iopub.status.busy": "2022-10-28T11:24:35.192945Z",
     "iopub.status.idle": "2022-10-28T11:24:47.811312Z",
     "shell.execute_reply": "2022-10-28T11:24:47.810191Z",
     "shell.execute_reply.started": "2022-10-28T11:24:35.193533Z"
    }
   },
   "outputs": [],
   "source": [
    "ConfusionMatrix(model_base_cnn, test_ds, test_data.class_names)"
   ]
  },
  {
   "cell_type": "markdown",
   "metadata": {},
   "source": [
    "# Improving Baseline Model\n",
    "\n",
    "## Creating Deeper Model (Adding more convolution and max pooling layers)"
   ]
  },
  {
   "cell_type": "code",
   "execution_count": null,
   "metadata": {
    "execution": {
     "iopub.execute_input": "2022-10-28T11:27:24.785708Z",
     "iopub.status.busy": "2022-10-28T11:27:24.784761Z",
     "iopub.status.idle": "2022-10-28T11:27:24.861492Z",
     "shell.execute_reply": "2022-10-28T11:27:24.860581Z",
     "shell.execute_reply.started": "2022-10-28T11:27:24.785665Z"
    }
   },
   "outputs": [],
   "source": [
    "model_impv_cnn = keras.Sequential(\n",
    "    name=\"model_impv_cnn_2\",\n",
    "    layers=[\n",
    "        layers.Conv2D(filters=64, kernel_size=3, strides=1, padding=\"same\", activation='relu', input_shape=(height, width, 3)),\n",
    "        layers.Conv2D(filters=64, kernel_size=3, strides=1, padding=\"same\", activation='relu', input_shape=(height, width, 3)),\n",
    "        layers.MaxPooling2D(),\n",
    "        layers.Conv2D(filters=32, kernel_size=3, strides=1, padding=\"same\", activation='relu', input_shape=(height, width, 3)),\n",
    "        layers.Conv2D(filters=32, kernel_size=3, strides=1, padding=\"same\", activation='relu', input_shape=(height, width, 3)),\n",
    "        layers.MaxPooling2D(),\n",
    "        layers.Conv2D(filters=16, kernel_size=3, strides=1, padding=\"same\", activation='relu', input_shape=(height, width, 3)),\n",
    "        layers.Conv2D(filters=16, kernel_size=3, strides=1, padding=\"same\", activation='relu', input_shape=(height, width, 3)),\n",
    "        layers.MaxPooling2D(),\n",
    "        layers.GlobalAveragePooling2D(),\n",
    "        layers.Dense(units=num_classes, activation='softmax')\n",
    "    ]\n",
    ")"
   ]
  },
  {
   "cell_type": "code",
   "execution_count": null,
   "metadata": {
    "execution": {
     "iopub.execute_input": "2022-10-28T11:27:25.126617Z",
     "iopub.status.busy": "2022-10-28T11:27:25.12629Z",
     "iopub.status.idle": "2022-10-28T11:27:25.134718Z",
     "shell.execute_reply": "2022-10-28T11:27:25.13353Z",
     "shell.execute_reply.started": "2022-10-28T11:27:25.126587Z"
    }
   },
   "outputs": [],
   "source": [
    "model_impv_cnn.summary()"
   ]
  },
  {
   "cell_type": "code",
   "execution_count": null,
   "metadata": {
    "execution": {
     "iopub.execute_input": "2022-10-28T11:27:28.881419Z",
     "iopub.status.busy": "2022-10-28T11:27:28.879436Z",
     "iopub.status.idle": "2022-10-28T11:27:29.274087Z",
     "shell.execute_reply": "2022-10-28T11:27:29.272904Z",
     "shell.execute_reply.started": "2022-10-28T11:27:28.881377Z"
    }
   },
   "outputs": [],
   "source": [
    "tf.keras.utils.plot_model(model_impv_cnn, to_file=\"model_cnn_2.png\", show_shapes=True)"
   ]
  },
  {
   "cell_type": "code",
   "execution_count": null,
   "metadata": {
    "execution": {
     "iopub.execute_input": "2022-10-28T11:30:54.447757Z",
     "iopub.status.busy": "2022-10-28T11:30:54.44738Z",
     "iopub.status.idle": "2022-10-28T11:30:54.461176Z",
     "shell.execute_reply": "2022-10-28T11:30:54.460058Z",
     "shell.execute_reply.started": "2022-10-28T11:30:54.447724Z"
    }
   },
   "outputs": [],
   "source": [
    "model_impv_cnn.compile(optimizer='adam',\n",
    "              loss='sparse_categorical_crossentropy',\n",
    "              metrics=['accuracy'])"
   ]
  },
  {
   "cell_type": "code",
   "execution_count": null,
   "metadata": {
    "execution": {
     "iopub.execute_input": "2022-10-28T11:30:55.040936Z",
     "iopub.status.busy": "2022-10-28T11:30:55.040555Z",
     "iopub.status.idle": "2022-10-28T12:02:50.651106Z",
     "shell.execute_reply": "2022-10-28T12:02:50.650034Z",
     "shell.execute_reply.started": "2022-10-28T11:30:55.040903Z"
    }
   },
   "outputs": [],
   "source": [
    "epochs = 25\n",
    "model_fit = model_impv_cnn.fit(train_ds, validation_data=val_ds, epochs=epochs)"
   ]
  },
  {
   "cell_type": "code",
   "execution_count": null,
   "metadata": {
    "execution": {
     "iopub.execute_input": "2022-10-28T12:02:50.653823Z",
     "iopub.status.busy": "2022-10-28T12:02:50.653416Z",
     "iopub.status.idle": "2022-10-28T12:02:51.022906Z",
     "shell.execute_reply": "2022-10-28T12:02:51.021845Z",
     "shell.execute_reply.started": "2022-10-28T12:02:50.653783Z"
    }
   },
   "outputs": [],
   "source": [
    "training_plot(['loss', 'accuracy'], model_fit)"
   ]
  },
  {
   "cell_type": "code",
   "execution_count": null,
   "metadata": {
    "execution": {
     "iopub.execute_input": "2022-10-28T12:02:51.024978Z",
     "iopub.status.busy": "2022-10-28T12:02:51.024249Z",
     "iopub.status.idle": "2022-10-28T12:03:08.99469Z",
     "shell.execute_reply": "2022-10-28T12:03:08.993572Z",
     "shell.execute_reply.started": "2022-10-28T12:02:51.024938Z"
    }
   },
   "outputs": [],
   "source": [
    "testAccuracy(model_impv_cnn)"
   ]
  },
  {
   "cell_type": "code",
   "execution_count": null,
   "metadata": {
    "execution": {
     "iopub.execute_input": "2022-10-28T12:03:08.998752Z",
     "iopub.status.busy": "2022-10-28T12:03:08.998426Z",
     "iopub.status.idle": "2022-10-28T12:03:25.237762Z",
     "shell.execute_reply": "2022-10-28T12:03:25.236759Z",
     "shell.execute_reply.started": "2022-10-28T12:03:08.998723Z"
    }
   },
   "outputs": [],
   "source": [
    "ConfusionMatrix(model_impv_cnn, test_ds, test_data.class_names)"
   ]
  },
  {
   "cell_type": "markdown",
   "metadata": {},
   "source": [
    "# Further Improving Baseline Model\n",
    "\n",
    "<b>Reducing the overfitting of the model using BatchNormalization and Dropout layers. Adding Global Average Pooling instead of Flatten layer.</b>\n"
   ]
  },
  {
   "cell_type": "code",
   "execution_count": null,
   "metadata": {
    "execution": {
     "iopub.execute_input": "2022-10-28T13:49:05.780566Z",
     "iopub.status.busy": "2022-10-28T13:49:05.780191Z",
     "iopub.status.idle": "2022-10-28T13:49:05.875817Z",
     "shell.execute_reply": "2022-10-28T13:49:05.874908Z",
     "shell.execute_reply.started": "2022-10-28T13:49:05.780533Z"
    }
   },
   "outputs": [],
   "source": [
    "model_bndr_cnn = keras.Sequential(\n",
    "    name=\"model_cnn_4\",\n",
    "    layers=[\n",
    "        layers.Conv2D(filters=64, kernel_size=3, strides=1, padding=\"same\", activation='relu', input_shape=(height, width, 3)),\n",
    "        layers.Conv2D(filters=64, kernel_size=3, strides=1, padding=\"same\", activation='relu', input_shape=(height, width, 3)),\n",
    "        layers.BatchNormalization(),\n",
    "        layers.MaxPooling2D(),\n",
    "        layers.Conv2D(filters=32, kernel_size=3, strides=1, padding=\"same\", activation='relu', input_shape=(height, width, 3)),\n",
    "        layers.Conv2D(filters=32, kernel_size=3, strides=1, padding=\"same\", activation='relu', input_shape=(height, width, 3)),\n",
    "        layers.BatchNormalization(),\n",
    "        layers.MaxPooling2D(),\n",
    "        layers.Conv2D(filters=16, kernel_size=3, strides=1, padding=\"same\", activation='relu', input_shape=(height, width, 3)),\n",
    "        layers.Conv2D(filters=16, kernel_size=3, strides=1, padding=\"same\", activation='relu', input_shape=(height, width, 3)),\n",
    "        layers.MaxPooling2D(),\n",
    "        layers.GlobalAveragePooling2D(),\n",
    "        layers.Dropout(0.25),\n",
    "        layers.Dense(units=num_classes, activation='softmax')\n",
    "    ]\n",
    ")"
   ]
  },
  {
   "cell_type": "code",
   "execution_count": null,
   "metadata": {
    "execution": {
     "iopub.execute_input": "2022-10-28T13:49:06.086971Z",
     "iopub.status.busy": "2022-10-28T13:49:06.085929Z",
     "iopub.status.idle": "2022-10-28T13:49:06.095766Z",
     "shell.execute_reply": "2022-10-28T13:49:06.09472Z",
     "shell.execute_reply.started": "2022-10-28T13:49:06.086931Z"
    }
   },
   "outputs": [],
   "source": [
    "model_bndr_cnn.summary()"
   ]
  },
  {
   "cell_type": "code",
   "execution_count": null,
   "metadata": {
    "execution": {
     "iopub.execute_input": "2022-10-28T13:49:06.394372Z",
     "iopub.status.busy": "2022-10-28T13:49:06.393493Z",
     "iopub.status.idle": "2022-10-28T13:49:07.186907Z",
     "shell.execute_reply": "2022-10-28T13:49:07.18581Z",
     "shell.execute_reply.started": "2022-10-28T13:49:06.394326Z"
    }
   },
   "outputs": [],
   "source": [
    "tf.keras.utils.plot_model(model_bndr_cnn, to_file=\"model_cnn_3.png\", show_shapes=True)"
   ]
  },
  {
   "cell_type": "code",
   "execution_count": null,
   "metadata": {
    "execution": {
     "iopub.execute_input": "2022-10-28T13:49:08.98447Z",
     "iopub.status.busy": "2022-10-28T13:49:08.983684Z",
     "iopub.status.idle": "2022-10-28T13:49:08.998737Z",
     "shell.execute_reply": "2022-10-28T13:49:08.997874Z",
     "shell.execute_reply.started": "2022-10-28T13:49:08.984425Z"
    }
   },
   "outputs": [],
   "source": [
    "model_bndr_cnn.compile(optimizer='adam',\n",
    "              loss='sparse_categorical_crossentropy',\n",
    "              metrics=['accuracy'])"
   ]
  },
  {
   "cell_type": "code",
   "execution_count": null,
   "metadata": {
    "execution": {
     "iopub.execute_input": "2022-10-28T13:49:10.064015Z",
     "iopub.status.busy": "2022-10-28T13:49:10.063617Z",
     "iopub.status.idle": "2022-10-28T14:14:41.67206Z",
     "shell.execute_reply": "2022-10-28T14:14:41.670989Z",
     "shell.execute_reply.started": "2022-10-28T13:49:10.06398Z"
    }
   },
   "outputs": [],
   "source": [
    "epochs = 25\n",
    "model_bndr_cnn_fit = model_bndr_cnn.fit(train_ds, validation_data=val_ds, epochs=epochs, callbacks=[checkpoint_callback,early_stopping_callback])"
   ]
  },
  {
   "cell_type": "code",
   "execution_count": null,
   "metadata": {
    "execution": {
     "iopub.execute_input": "2022-10-28T14:14:41.674946Z",
     "iopub.status.busy": "2022-10-28T14:14:41.6745Z",
     "iopub.status.idle": "2022-10-28T14:14:42.065778Z",
     "shell.execute_reply": "2022-10-28T14:14:42.064834Z",
     "shell.execute_reply.started": "2022-10-28T14:14:41.674904Z"
    }
   },
   "outputs": [],
   "source": [
    "training_plot(['loss', 'accuracy'], model_bndr_cnn_fit)"
   ]
  },
  {
   "cell_type": "code",
   "execution_count": null,
   "metadata": {
    "execution": {
     "iopub.execute_input": "2022-10-28T14:14:42.067729Z",
     "iopub.status.busy": "2022-10-28T14:14:42.067318Z",
     "iopub.status.idle": "2022-10-28T14:15:03.991312Z",
     "shell.execute_reply": "2022-10-28T14:15:03.990193Z",
     "shell.execute_reply.started": "2022-10-28T14:14:42.067693Z"
    }
   },
   "outputs": [],
   "source": [
    "testAccuracy(model_bndr_cnn)"
   ]
  },
  {
   "cell_type": "code",
   "execution_count": null,
   "metadata": {
    "execution": {
     "iopub.execute_input": "2022-10-28T14:15:03.993799Z",
     "iopub.status.busy": "2022-10-28T14:15:03.993146Z",
     "iopub.status.idle": "2022-10-28T14:15:15.832844Z",
     "shell.execute_reply": "2022-10-28T14:15:15.831766Z",
     "shell.execute_reply.started": "2022-10-28T14:15:03.99376Z"
    }
   },
   "outputs": [],
   "source": [
    "ConfusionMatrix(model_bndr_cnn, test_ds, test_data.class_names)"
   ]
  },
  {
   "cell_type": "markdown",
   "metadata": {},
   "source": [
    "# Transfer Learning"
   ]
  },
  {
   "cell_type": "markdown",
   "metadata": {},
   "source": [
    "## VGG16"
   ]
  },
  {
   "cell_type": "code",
   "execution_count": null,
   "metadata": {
    "execution": {
     "iopub.execute_input": "2022-10-28T14:16:46.736464Z",
     "iopub.status.busy": "2022-10-28T14:16:46.735841Z",
     "iopub.status.idle": "2022-10-28T14:16:47.423096Z",
     "shell.execute_reply": "2022-10-28T14:16:47.422085Z",
     "shell.execute_reply.started": "2022-10-28T14:16:46.736428Z"
    }
   },
   "outputs": [],
   "source": [
    "pretrained_model = tf.keras.applications.VGG16(weights='imagenet', include_top=False, input_shape=[height,width, 3])\n",
    "pretrained_model.trainable=False\n",
    "vgg16_model = tf.keras.Sequential([\n",
    "    pretrained_model,\n",
    "    tf.keras.layers.GlobalAveragePooling2D(),\n",
    "    tf.keras.layers.Dense(64, activation='relu'),\n",
    "    tf.keras.layers.Dense(15, activation='softmax')\n",
    "])"
   ]
  },
  {
   "cell_type": "code",
   "execution_count": null,
   "metadata": {
    "execution": {
     "iopub.execute_input": "2022-10-28T14:16:47.428834Z",
     "iopub.status.busy": "2022-10-28T14:16:47.426879Z",
     "iopub.status.idle": "2022-10-28T14:16:47.436739Z",
     "shell.execute_reply": "2022-10-28T14:16:47.434993Z",
     "shell.execute_reply.started": "2022-10-28T14:16:47.428804Z"
    }
   },
   "outputs": [],
   "source": [
    "vgg16_model.summary()"
   ]
  },
  {
   "cell_type": "code",
   "execution_count": null,
   "metadata": {
    "execution": {
     "iopub.execute_input": "2022-10-28T14:16:47.439029Z",
     "iopub.status.busy": "2022-10-28T14:16:47.438384Z",
     "iopub.status.idle": "2022-10-28T14:16:47.451722Z",
     "shell.execute_reply": "2022-10-28T14:16:47.450923Z",
     "shell.execute_reply.started": "2022-10-28T14:16:47.438992Z"
    }
   },
   "outputs": [],
   "source": [
    "vgg16_model.compile(optimizer='adam',\n",
    "              loss='sparse_categorical_crossentropy',\n",
    "              metrics=['accuracy'])"
   ]
  },
  {
   "cell_type": "code",
   "execution_count": null,
   "metadata": {
    "execution": {
     "iopub.execute_input": "2022-10-28T14:17:30.562241Z",
     "iopub.status.busy": "2022-10-28T14:17:30.561811Z",
     "iopub.status.idle": "2022-10-28T15:20:54.596131Z",
     "shell.execute_reply": "2022-10-28T15:20:54.595207Z",
     "shell.execute_reply.started": "2022-10-28T14:17:30.562205Z"
    }
   },
   "outputs": [],
   "source": [
    "history_vgg16 = vgg16_model.fit(train_ds, epochs=50, validation_data=val_ds,callbacks=[checkpoint_callback,early_stopping_callback])"
   ]
  },
  {
   "cell_type": "code",
   "execution_count": null,
   "metadata": {
    "execution": {
     "iopub.execute_input": "2022-10-28T15:20:54.59915Z",
     "iopub.status.busy": "2022-10-28T15:20:54.598543Z",
     "iopub.status.idle": "2022-10-28T15:20:55.052191Z",
     "shell.execute_reply": "2022-10-28T15:20:55.051289Z",
     "shell.execute_reply.started": "2022-10-28T15:20:54.599112Z"
    }
   },
   "outputs": [],
   "source": [
    "training_plot(['loss', 'accuracy'], history_vgg16)"
   ]
  },
  {
   "cell_type": "code",
   "execution_count": null,
   "metadata": {
    "execution": {
     "iopub.execute_input": "2022-10-28T15:20:55.05717Z",
     "iopub.status.busy": "2022-10-28T15:20:55.056078Z",
     "iopub.status.idle": "2022-10-28T15:21:27.694369Z",
     "shell.execute_reply": "2022-10-28T15:21:27.693187Z",
     "shell.execute_reply.started": "2022-10-28T15:20:55.057132Z"
    }
   },
   "outputs": [],
   "source": [
    "testAccuracy(vgg16_model)"
   ]
  },
  {
   "cell_type": "code",
   "execution_count": null,
   "metadata": {
    "execution": {
     "iopub.execute_input": "2022-10-28T15:21:27.698163Z",
     "iopub.status.busy": "2022-10-28T15:21:27.696546Z",
     "iopub.status.idle": "2022-10-28T15:21:54.170874Z",
     "shell.execute_reply": "2022-10-28T15:21:54.169763Z",
     "shell.execute_reply.started": "2022-10-28T15:21:27.698118Z"
    }
   },
   "outputs": [],
   "source": [
    "ConfusionMatrix(vgg16_model, test_ds, test_data.class_names)"
   ]
  },
  {
   "cell_type": "markdown",
   "metadata": {},
   "source": [
    "## Resnet"
   ]
  },
  {
   "cell_type": "code",
   "execution_count": null,
   "metadata": {
    "execution": {
     "iopub.execute_input": "2022-10-28T16:16:10.739593Z",
     "iopub.status.busy": "2022-10-28T16:16:10.739235Z",
     "iopub.status.idle": "2022-10-28T16:16:12.863085Z",
     "shell.execute_reply": "2022-10-28T16:16:12.862098Z",
     "shell.execute_reply.started": "2022-10-28T16:16:10.739562Z"
    }
   },
   "outputs": [],
   "source": [
    "pretrained_resnet_model = tf.keras.applications.ResNet50V2(weights='imagenet',\n",
    "                         include_top=False,\n",
    "                         input_tensor = (tf.keras.layers.Input(shape=(height,width,3)))\n",
    "                         )\n",
    "pretrained_resnet_model.trainable=False\n",
    "resnet_model = tf.keras.Sequential([\n",
    "    pretrained_resnet_model,\n",
    "    tf.keras.layers.GlobalAveragePooling2D(),\n",
    "    tf.keras.layers.Dense(15, activation='softmax')\n",
    "])"
   ]
  },
  {
   "cell_type": "code",
   "execution_count": null,
   "metadata": {
    "execution": {
     "iopub.execute_input": "2022-10-28T16:16:12.865269Z",
     "iopub.status.busy": "2022-10-28T16:16:12.864844Z",
     "iopub.status.idle": "2022-10-28T16:16:12.8788Z",
     "shell.execute_reply": "2022-10-28T16:16:12.877874Z",
     "shell.execute_reply.started": "2022-10-28T16:16:12.865235Z"
    }
   },
   "outputs": [],
   "source": [
    "resnet_model.summary()"
   ]
  },
  {
   "cell_type": "code",
   "execution_count": null,
   "metadata": {
    "execution": {
     "iopub.execute_input": "2022-10-28T16:16:12.880841Z",
     "iopub.status.busy": "2022-10-28T16:16:12.880252Z",
     "iopub.status.idle": "2022-10-28T16:16:12.895936Z",
     "shell.execute_reply": "2022-10-28T16:16:12.894792Z",
     "shell.execute_reply.started": "2022-10-28T16:16:12.880804Z"
    }
   },
   "outputs": [],
   "source": [
    "resnet_model.compile(optimizer='adam',\n",
    "              loss='sparse_categorical_crossentropy',\n",
    "              metrics=['accuracy'])"
   ]
  },
  {
   "cell_type": "code",
   "execution_count": null,
   "metadata": {
    "execution": {
     "iopub.execute_input": "2022-10-28T16:16:17.701519Z",
     "iopub.status.busy": "2022-10-28T16:16:17.701158Z",
     "iopub.status.idle": "2022-10-28T16:40:15.098591Z",
     "shell.execute_reply": "2022-10-28T16:40:15.097349Z",
     "shell.execute_reply.started": "2022-10-28T16:16:17.701489Z"
    }
   },
   "outputs": [],
   "source": [
    "history_resnet = resnet_model.fit(train_ds, epochs=25, validation_data=val_ds, callbacks=[checkpoint_callback,early_stopping_callback])"
   ]
  },
  {
   "cell_type": "code",
   "execution_count": null,
   "metadata": {
    "execution": {
     "iopub.execute_input": "2022-10-28T16:40:15.101231Z",
     "iopub.status.busy": "2022-10-28T16:40:15.100793Z",
     "iopub.status.idle": "2022-10-28T16:40:15.469401Z",
     "shell.execute_reply": "2022-10-28T16:40:15.468456Z",
     "shell.execute_reply.started": "2022-10-28T16:40:15.101188Z"
    }
   },
   "outputs": [],
   "source": [
    "training_plot(['loss', 'accuracy'], history_resnet)"
   ]
  },
  {
   "cell_type": "code",
   "execution_count": null,
   "metadata": {
    "execution": {
     "iopub.execute_input": "2022-10-28T16:40:15.472539Z",
     "iopub.status.busy": "2022-10-28T16:40:15.471937Z",
     "iopub.status.idle": "2022-10-28T16:40:34.953133Z",
     "shell.execute_reply": "2022-10-28T16:40:34.952038Z",
     "shell.execute_reply.started": "2022-10-28T16:40:15.472501Z"
    }
   },
   "outputs": [],
   "source": [
    "testAccuracy(resnet_model)"
   ]
  },
  {
   "cell_type": "code",
   "execution_count": null,
   "metadata": {
    "execution": {
     "iopub.execute_input": "2022-10-28T16:40:34.956088Z",
     "iopub.status.busy": "2022-10-28T16:40:34.95557Z",
     "iopub.status.idle": "2022-10-28T16:40:51.669893Z",
     "shell.execute_reply": "2022-10-28T16:40:51.667402Z",
     "shell.execute_reply.started": "2022-10-28T16:40:34.956047Z"
    }
   },
   "outputs": [],
   "source": [
    "ConfusionMatrix(resnet_model, test_ds, test_data.class_names)"
   ]
  },
  {
   "cell_type": "markdown",
   "metadata": {},
   "source": [
    "# MobileNet"
   ]
  },
  {
   "cell_type": "code",
   "execution_count": null,
   "metadata": {
    "execution": {
     "iopub.execute_input": "2022-10-28T17:08:46.833832Z",
     "iopub.status.busy": "2022-10-28T17:08:46.833274Z",
     "iopub.status.idle": "2022-10-28T17:08:48.329987Z",
     "shell.execute_reply": "2022-10-28T17:08:48.328893Z",
     "shell.execute_reply.started": "2022-10-28T17:08:46.833791Z"
    }
   },
   "outputs": [],
   "source": [
    "pretrained_mobilenet_model = tf.keras.applications.MobileNetV2(weights='imagenet', include_top=False, input_shape=[height,width, 3])\n",
    "pretrained_mobilenet_model.trainable=False\n",
    "mobilenet_model = tf.keras.Sequential([\n",
    "    pretrained_mobilenet_model,\n",
    "    tf.keras.layers.GlobalAveragePooling2D(),\n",
    "    tf.keras.layers.Dense(15, activation='softmax')\n",
    "])"
   ]
  },
  {
   "cell_type": "code",
   "execution_count": null,
   "metadata": {
    "execution": {
     "iopub.execute_input": "2022-10-28T17:08:48.332127Z",
     "iopub.status.busy": "2022-10-28T17:08:48.331774Z",
     "iopub.status.idle": "2022-10-28T17:08:48.343941Z",
     "shell.execute_reply": "2022-10-28T17:08:48.342905Z",
     "shell.execute_reply.started": "2022-10-28T17:08:48.332099Z"
    }
   },
   "outputs": [],
   "source": [
    "mobilenet_model.compile(optimizer='adam',\n",
    "              loss='sparse_categorical_crossentropy',\n",
    "              metrics=['accuracy'])"
   ]
  },
  {
   "cell_type": "code",
   "execution_count": null,
   "metadata": {
    "execution": {
     "iopub.execute_input": "2022-10-28T17:08:48.345743Z",
     "iopub.status.busy": "2022-10-28T17:08:48.345354Z",
     "iopub.status.idle": "2022-10-28T17:08:48.367729Z",
     "shell.execute_reply": "2022-10-28T17:08:48.366899Z",
     "shell.execute_reply.started": "2022-10-28T17:08:48.345706Z"
    }
   },
   "outputs": [],
   "source": [
    "mobilenet_model.summary()"
   ]
  },
  {
   "cell_type": "code",
   "execution_count": null,
   "metadata": {
    "execution": {
     "iopub.execute_input": "2022-10-28T17:08:51.217509Z",
     "iopub.status.busy": "2022-10-28T17:08:51.217139Z",
     "iopub.status.idle": "2022-10-28T17:16:18.945757Z",
     "shell.execute_reply": "2022-10-28T17:16:18.944739Z",
     "shell.execute_reply.started": "2022-10-28T17:08:51.217477Z"
    }
   },
   "outputs": [],
   "source": [
    "history_mobilenet = mobilenet_model.fit(train_ds, epochs=10, validation_data=val_ds, callbacks=[checkpoint_callback,early_stopping_callback])"
   ]
  },
  {
   "cell_type": "code",
   "execution_count": null,
   "metadata": {
    "execution": {
     "iopub.execute_input": "2022-10-28T17:16:18.949145Z",
     "iopub.status.busy": "2022-10-28T17:16:18.94874Z",
     "iopub.status.idle": "2022-10-28T17:16:19.304807Z",
     "shell.execute_reply": "2022-10-28T17:16:19.303828Z",
     "shell.execute_reply.started": "2022-10-28T17:16:18.949108Z"
    }
   },
   "outputs": [],
   "source": [
    "training_plot(['loss', 'accuracy'], history_mobilenet)"
   ]
  },
  {
   "cell_type": "code",
   "execution_count": null,
   "metadata": {
    "execution": {
     "iopub.execute_input": "2022-10-28T17:16:19.306601Z",
     "iopub.status.busy": "2022-10-28T17:16:19.306275Z",
     "iopub.status.idle": "2022-10-28T17:16:42.200547Z",
     "shell.execute_reply": "2022-10-28T17:16:42.199433Z",
     "shell.execute_reply.started": "2022-10-28T17:16:19.306574Z"
    }
   },
   "outputs": [],
   "source": [
    "testAccuracy(mobilenet_model)"
   ]
  },
  {
   "cell_type": "code",
   "execution_count": null,
   "metadata": {
    "execution": {
     "iopub.execute_input": "2022-10-28T17:16:42.203808Z",
     "iopub.status.busy": "2022-10-28T17:16:42.202992Z",
     "iopub.status.idle": "2022-10-28T17:16:58.617938Z",
     "shell.execute_reply": "2022-10-28T17:16:58.616837Z",
     "shell.execute_reply.started": "2022-10-28T17:16:42.203763Z"
    }
   },
   "outputs": [],
   "source": [
    "ConfusionMatrix(mobilenet_model, test_ds, test_data.class_names)"
   ]
  },
  {
   "cell_type": "markdown",
   "metadata": {},
   "source": [
    "# Checking Predictions with the best models -\n",
    "- ResNet\n",
    "- MobileNet"
   ]
  },
  {
   "cell_type": "code",
   "execution_count": null,
   "metadata": {
    "execution": {
     "iopub.execute_input": "2022-10-28T17:47:12.607757Z",
     "iopub.status.busy": "2022-10-28T17:47:12.607358Z",
     "iopub.status.idle": "2022-10-28T17:47:35.340706Z",
     "shell.execute_reply": "2022-10-28T17:47:35.339449Z",
     "shell.execute_reply.started": "2022-10-28T17:47:12.607719Z"
    }
   },
   "outputs": [],
   "source": [
    "predictions(resnet_model)"
   ]
  },
  {
   "cell_type": "code",
   "execution_count": null,
   "metadata": {
    "execution": {
     "iopub.execute_input": "2022-10-28T17:46:50.162431Z",
     "iopub.status.busy": "2022-10-28T17:46:50.161718Z",
     "iopub.status.idle": "2022-10-28T17:47:12.605202Z",
     "shell.execute_reply": "2022-10-28T17:47:12.604111Z",
     "shell.execute_reply.started": "2022-10-28T17:46:50.162393Z"
    }
   },
   "outputs": [],
   "source": [
    "predictions(mobilenet_model)"
   ]
  },
  {
   "cell_type": "markdown",
   "metadata": {},
   "source": [
    "# Summary\n",
    "<ul>\n",
    "  <li>Simple MLP: Being a simple ANN the model is misclassifying the 'Cucumber','Papaya' and 'Cauliflower' and gives a test accuracy of around 75%.</li>\n",
    "  <li>Baseline Model: The model itself is performing really well with the data set and giving 74% test accuracy.</li>\n",
    "  <li>Improved Baseline Model: By adding more depth to the model and adding Batchnormalization and Dropout layers with early stopping the model exceptionally well with test accuracy above 90%. </li>\n",
    "  <li>Transfer Learning: All the models performed really well and test accuracy was exceptionally amazing with simple architecture like Mobilenet and surprisingly well with the naive model like VGG16.</li>\n",
    "</ul>\n"
   ]
  }
 ],
 "metadata": {
  "kaggle": {
   "accelerator": "nvidiaTeslaT4",
   "dataSources": [
    {
     "datasetId": 1817999,
     "sourceId": 2965251,
     "sourceType": "datasetVersion"
    }
   ],
   "isGpuEnabled": true,
   "isInternetEnabled": false,
   "language": "python",
   "sourceType": "notebook"
  },
  "kernelspec": {
   "display_name": "Python 3 (ipykernel)",
   "language": "python",
   "name": "python3"
  },
  "language_info": {
   "codemirror_mode": {
    "name": "ipython",
    "version": 3
   },
   "file_extension": ".py",
   "mimetype": "text/x-python",
   "name": "python",
   "nbconvert_exporter": "python",
   "pygments_lexer": "ipython3",
   "version": "3.11.7"
  }
 },
 "nbformat": 4,
 "nbformat_minor": 4
}
